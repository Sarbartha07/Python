{
  "nbformat": 4,
  "nbformat_minor": 0,
  "metadata": {
    "colab": {
      "provenance": []
    },
    "kernelspec": {
      "name": "python3",
      "display_name": "Python 3"
    },
    "language_info": {
      "name": "python"
    }
  },
  "cells": [
    {
      "cell_type": "markdown",
      "source": [
        "Write a lambda function to find all strings from a given list whose length is greater than 5.\n",
        "strings = ['hello', 'world', 'python', 'programming', 'is', 'fun']\n",
        "threshold = 5"
      ],
      "metadata": {
        "id": "ZcYpmBFAZECy"
      }
    },
    {
      "cell_type": "code",
      "source": [
        "strings = ['hello', 'world', 'python', 'programming', 'is', 'fun']\n",
        "threshold = 5\n",
        "\n",
        "length =  lambda x : len(x) > threshold\n",
        "\n",
        "result = filter(length,strings)\n",
        "print(list(result))"
      ],
      "metadata": {
        "colab": {
          "base_uri": "https://localhost:8080/"
        },
        "id": "lzgxKl0BZJ8r",
        "outputId": "b6523b7a-78d3-4809-8db6-ee5ecfda53c8"
      },
      "execution_count": 2,
      "outputs": [
        {
          "output_type": "stream",
          "name": "stdout",
          "text": [
            "['python', 'programming']\n"
          ]
        }
      ]
    },
    {
      "cell_type": "markdown",
      "source": [
        "Create a function that takes a list of dictionaries, where each dictionary represents a student with \"name\" and \"marks\" keys, and returns a new list of dictionaries with an additional key \"status\". The \"status\" should be \"pass\" if the \"marks\" is greater than or equal to 60, otherwise \"fail\". Use function, lambda function and map to accomplish this task.\n",
        "\n",
        "students = [ {\"name\": \"John\", \"marks\": 80}, {\"name\": \"Jane\", \"marks\": 45}, {\"name\": \"Bob\", \"marks\": 70}, {\"name\": \"Alice\", \"marks\": 35}, ]"
      ],
      "metadata": {
        "id": "4tQOFO5XZQtF"
      }
    },
    {
      "cell_type": "code",
      "source": [
        "students = [ {\"name\": \"John\", \"marks\": 80}, {\"name\": \"Jane\", \"marks\": 45}, {\"name\": \"Bob\", \"marks\": 70}, {\"name\": \"Alice\", \"marks\": 35}, ]\n",
        "def status(students):\n",
        "  add_status = lambda x : {**x, \"status\" : \"pass\" if x[\"marks\"] >= 60 else \"fail\"}\n",
        "  updated_students = list(map(add_status,students))\n",
        "  return updated_students\n",
        "\n",
        "print(status(students))"
      ],
      "metadata": {
        "colab": {
          "base_uri": "https://localhost:8080/"
        },
        "id": "Hks0esp5ZT1C",
        "outputId": "33ac0cdb-e80c-4a02-f251-82bccee7e50d"
      },
      "execution_count": 3,
      "outputs": [
        {
          "output_type": "stream",
          "name": "stdout",
          "text": [
            "[{'name': 'John', 'marks': 80, 'status': 'pass'}, {'name': 'Jane', 'marks': 45, 'status': 'fail'}, {'name': 'Bob', 'marks': 70, 'status': 'pass'}, {'name': 'Alice', 'marks': 35, 'status': 'fail'}]\n"
          ]
        }
      ]
    },
    {
      "cell_type": "markdown",
      "source": [
        "Given a list of dictionaries containing information about students (name, age, grade), use lambda and reduce functions to find the average grade of all students.\n",
        "students = [ {\"name\": \"John\", \"age\": 20, \"grade\": 85}, {\"name\": \"Jane\", \"age\": 21, \"grade\": 90}, {\"name\": \"Bob\", \"age\": 19, \"grade\": 75}, {\"name\": \"Alice\", \"age\": 22, \"grade\": 95} ]"
      ],
      "metadata": {
        "id": "S1Xyu7j9dnWh"
      }
    },
    {
      "cell_type": "code",
      "source": [
        "from functools import reduce\n",
        "\n",
        "students = [ {\"name\": \"John\", \"age\": 20, \"grade\": 85},\n",
        "            {\"name\": \"Jane\", \"age\": 21, \"grade\": 90}, {\"name\": \"Bob\", \"age\": 19, \"grade\": 75},\n",
        "             {\"name\": \"Alice\", \"age\": 22, \"grade\": 95} ]\n",
        "\n",
        "def avg_score(students):\n",
        "  sum = lambda y, x : y + x[\"grade\"]\n",
        "  total_grade = reduce(sum,students,0)\n",
        "  new_avg = total_grade/ len(students)\n",
        "  return new_avg\n",
        "\n",
        "print(avg_score(students))\n"
      ],
      "metadata": {
        "colab": {
          "base_uri": "https://localhost:8080/"
        },
        "id": "GT9G5D2GdoIQ",
        "outputId": "cbf1f6a5-cdb4-46fc-ac56-99e2e92329fa"
      },
      "execution_count": 4,
      "outputs": [
        {
          "output_type": "stream",
          "name": "stdout",
          "text": [
            "86.25\n"
          ]
        }
      ]
    },
    {
      "cell_type": "markdown",
      "source": [
        "Create a program that takes a list of dictionaries, where each dictionary contains the name and age of a person. Use lambda functions to filter out all the dictionaries for which the age is less than 30. Then, use a lambda function to print the names of the persons in the sorted list, with the name capitalized and prefixed with \"Mr.\" or \"Ms.\" depending on their gender."
      ],
      "metadata": {
        "id": "3VBouZeVihNq"
      }
    },
    {
      "cell_type": "code",
      "source": [
        "people= [\n",
        "    {\"name\": \"John\", \"age\": 25, \"gender\": \"male\"},\n",
        "    {\"name\": \"Emily\", \"age\": 35, \"gender\": \"female\"},\n",
        "    {\"name\": \"Alex\", \"age\": 28, \"gender\": \"male\"},\n",
        "    {\"name\": \"Sarah\", \"age\": 30, \"gender\": \"female\"},\n",
        "    {\"name\": \"Max\", \"age\": 42, \"gender\": \"male\"},\n",
        "]\n",
        "\n",
        "def age_30(people):\n",
        "  age_below = lambda x : x[\"age\"] <= 30\n",
        "  updated_people = list(filter(age_below, people))\n",
        "  return updated_people\n",
        "\n",
        "\n",
        "a = age_30(people)\n",
        "\n",
        "def new_people(a):\n",
        "  name_new = lambda y: {**y, \"name\" : (\"Ms\" if y[\"gender\"] == \"female\" else \"Mr\") +\" \"+y[\"name\"].upper() }\n",
        "  updated_new_people = list(map(name_new,a))\n",
        "  return updated_new_people\n",
        "\n",
        "print(new_people(a))"
      ],
      "metadata": {
        "colab": {
          "base_uri": "https://localhost:8080/"
        },
        "id": "5wrbjvmgiiB7",
        "outputId": "bebb740b-df69-4feb-97bd-024708afd40c"
      },
      "execution_count": 5,
      "outputs": [
        {
          "output_type": "stream",
          "name": "stdout",
          "text": [
            "[{'name': 'Mr JOHN', 'age': 25, 'gender': 'male'}, {'name': 'Mr ALEX', 'age': 28, 'gender': 'male'}, {'name': 'Ms SARAH', 'age': 30, 'gender': 'female'}]\n"
          ]
        }
      ]
    },
    {
      "cell_type": "code",
      "source": [
        "people= [\n",
        "    {\"name\": \"John\", \"age\": 25, \"gender\": \"male\"},\n",
        "    {\"name\": \"Emily\", \"age\": 35, \"gender\": \"female\"},\n",
        "    {\"name\": \"Alex\", \"age\": 28, \"gender\": \"male\"},\n",
        "    {\"name\": \"Sarah\", \"age\": 30, \"gender\": \"female\"},\n",
        "    {\"name\": \"Max\", \"age\": 42, \"gender\": \"male\"},\n",
        "]\n",
        "\n",
        "def age_30(people):\n",
        "  age_below = lambda x : x[\"age\"] <= 30\n",
        "  updated_people = list(filter(age_below, people))\n",
        "  return updated_people\n",
        "\n",
        "a = age_30(people)\n",
        "print(a)\n",
        "\n",
        "def new_people(a):\n",
        "  name_new = lambda y: {(\"Ms.\" if y[\"gender\"] == \"female\" else \"Mr.\") +\" \"+ y[\"name\"].upper()}\n",
        "  updated_new_people = list(map(name_new,a))\n",
        "  return updated_new_people\n",
        "\n",
        "print(new_people(a))"
      ],
      "metadata": {
        "colab": {
          "base_uri": "https://localhost:8080/"
        },
        "id": "8UnG7XEP_HkN",
        "outputId": "7de92405-dd81-47b9-d85f-13eabcce54c7"
      },
      "execution_count": 6,
      "outputs": [
        {
          "output_type": "stream",
          "name": "stdout",
          "text": [
            "[{'name': 'John', 'age': 25, 'gender': 'male'}, {'name': 'Alex', 'age': 28, 'gender': 'male'}, {'name': 'Sarah', 'age': 30, 'gender': 'female'}]\n",
            "[{'Mr. JOHN'}, {'Mr. ALEX'}, {'Ms. SARAH'}]\n"
          ]
        }
      ]
    },
    {
      "cell_type": "code",
      "source": [
        "import pandas as pd\n",
        "import numpy as np\n",
        "\n",
        "x = np.array([21,22,23,24,25])\n",
        "y = pd.Series(x)\n",
        "y.index = ['A','B','C','D','E']\n",
        "print(y)"
      ],
      "metadata": {
        "colab": {
          "base_uri": "https://localhost:8080/"
        },
        "id": "rCqjK1D2StW5",
        "outputId": "69d4ae26-12cd-4d3a-bf6e-4ad7b7aebd6a"
      },
      "execution_count": 7,
      "outputs": [
        {
          "output_type": "stream",
          "name": "stdout",
          "text": [
            "A    21\n",
            "B    22\n",
            "C    23\n",
            "D    24\n",
            "E    25\n",
            "dtype: int64\n"
          ]
        }
      ]
    },
    {
      "cell_type": "markdown",
      "source": [
        "Create a set having 5 elements (weight in KG) and convert it into a pandas dataframe, add label as index (use these names: \"Shailesh\", \"Sai\", \"Harsha\", \"Jagdeesh\", \"Mujeeb\") also and give column name as Weight."
      ],
      "metadata": {
        "id": "3NF11qQDTdBL"
      }
    },
    {
      "cell_type": "code",
      "source": [
        "a = [68,72,82,55,95]\n",
        "weights = pd.DataFrame(a, columns = ['Weight'])\n",
        "weights.index = ['Shailesh', 'Sai', 'Harsha', 'Jagdeesh', 'Mujeeb']\n",
        "print(weights)"
      ],
      "metadata": {
        "colab": {
          "base_uri": "https://localhost:8080/"
        },
        "id": "4uLUrx39TduE",
        "outputId": "52b69ebd-d9c3-4cf3-99b9-e418a62180ef"
      },
      "execution_count": 8,
      "outputs": [
        {
          "output_type": "stream",
          "name": "stdout",
          "text": [
            "          Weight\n",
            "Shailesh      68\n",
            "Sai           72\n",
            "Harsha        82\n",
            "Jagdeesh      55\n",
            "Mujeeb        95\n"
          ]
        }
      ]
    },
    {
      "cell_type": "markdown",
      "source": [
        "Convert a dictionary with two keys, \"name\" and \"Percentage\", and their corresponding values, into a tabular format using pandas dataframe function. Add index also in the dataframe as index = index.\n",
        "name = [\"Sam\", \"Arvind\", \"Sai\"]\n",
        "Percentage = [90, 95, 85]\n",
        "index = [1, 2, 3]"
      ],
      "metadata": {
        "id": "cpH2DH86XN3f"
      }
    },
    {
      "cell_type": "code",
      "source": [
        "name = [\"Sam\", \"Arvind\", \"Sai\"]\n",
        "Percentage = [90, 95, 85]\n",
        "index = [1, 2, 3]\n",
        "\n",
        "a = {'name': name, 'Percentage': Percentage}\n",
        "b = pd.DataFrame(a, index = index)\n",
        "b"
      ],
      "metadata": {
        "colab": {
          "base_uri": "https://localhost:8080/",
          "height": 143
        },
        "id": "Czp8I1X2XOaD",
        "outputId": "4c1c980f-6c6e-4126-b1e7-b27037f6ea2c"
      },
      "execution_count": 9,
      "outputs": [
        {
          "output_type": "execute_result",
          "data": {
            "text/plain": [
              "     name  Percentage\n",
              "1     Sam          90\n",
              "2  Arvind          95\n",
              "3     Sai          85"
            ],
            "text/html": [
              "\n",
              "  <div id=\"df-20fccb7b-997a-4fb9-a429-c42278be859d\" class=\"colab-df-container\">\n",
              "    <div>\n",
              "<style scoped>\n",
              "    .dataframe tbody tr th:only-of-type {\n",
              "        vertical-align: middle;\n",
              "    }\n",
              "\n",
              "    .dataframe tbody tr th {\n",
              "        vertical-align: top;\n",
              "    }\n",
              "\n",
              "    .dataframe thead th {\n",
              "        text-align: right;\n",
              "    }\n",
              "</style>\n",
              "<table border=\"1\" class=\"dataframe\">\n",
              "  <thead>\n",
              "    <tr style=\"text-align: right;\">\n",
              "      <th></th>\n",
              "      <th>name</th>\n",
              "      <th>Percentage</th>\n",
              "    </tr>\n",
              "  </thead>\n",
              "  <tbody>\n",
              "    <tr>\n",
              "      <th>1</th>\n",
              "      <td>Sam</td>\n",
              "      <td>90</td>\n",
              "    </tr>\n",
              "    <tr>\n",
              "      <th>2</th>\n",
              "      <td>Arvind</td>\n",
              "      <td>95</td>\n",
              "    </tr>\n",
              "    <tr>\n",
              "      <th>3</th>\n",
              "      <td>Sai</td>\n",
              "      <td>85</td>\n",
              "    </tr>\n",
              "  </tbody>\n",
              "</table>\n",
              "</div>\n",
              "    <div class=\"colab-df-buttons\">\n",
              "\n",
              "  <div class=\"colab-df-container\">\n",
              "    <button class=\"colab-df-convert\" onclick=\"convertToInteractive('df-20fccb7b-997a-4fb9-a429-c42278be859d')\"\n",
              "            title=\"Convert this dataframe to an interactive table.\"\n",
              "            style=\"display:none;\">\n",
              "\n",
              "  <svg xmlns=\"http://www.w3.org/2000/svg\" height=\"24px\" viewBox=\"0 -960 960 960\">\n",
              "    <path d=\"M120-120v-720h720v720H120Zm60-500h600v-160H180v160Zm220 220h160v-160H400v160Zm0 220h160v-160H400v160ZM180-400h160v-160H180v160Zm440 0h160v-160H620v160ZM180-180h160v-160H180v160Zm440 0h160v-160H620v160Z\"/>\n",
              "  </svg>\n",
              "    </button>\n",
              "\n",
              "  <style>\n",
              "    .colab-df-container {\n",
              "      display:flex;\n",
              "      gap: 12px;\n",
              "    }\n",
              "\n",
              "    .colab-df-convert {\n",
              "      background-color: #E8F0FE;\n",
              "      border: none;\n",
              "      border-radius: 50%;\n",
              "      cursor: pointer;\n",
              "      display: none;\n",
              "      fill: #1967D2;\n",
              "      height: 32px;\n",
              "      padding: 0 0 0 0;\n",
              "      width: 32px;\n",
              "    }\n",
              "\n",
              "    .colab-df-convert:hover {\n",
              "      background-color: #E2EBFA;\n",
              "      box-shadow: 0px 1px 2px rgba(60, 64, 67, 0.3), 0px 1px 3px 1px rgba(60, 64, 67, 0.15);\n",
              "      fill: #174EA6;\n",
              "    }\n",
              "\n",
              "    .colab-df-buttons div {\n",
              "      margin-bottom: 4px;\n",
              "    }\n",
              "\n",
              "    [theme=dark] .colab-df-convert {\n",
              "      background-color: #3B4455;\n",
              "      fill: #D2E3FC;\n",
              "    }\n",
              "\n",
              "    [theme=dark] .colab-df-convert:hover {\n",
              "      background-color: #434B5C;\n",
              "      box-shadow: 0px 1px 3px 1px rgba(0, 0, 0, 0.15);\n",
              "      filter: drop-shadow(0px 1px 2px rgba(0, 0, 0, 0.3));\n",
              "      fill: #FFFFFF;\n",
              "    }\n",
              "  </style>\n",
              "\n",
              "    <script>\n",
              "      const buttonEl =\n",
              "        document.querySelector('#df-20fccb7b-997a-4fb9-a429-c42278be859d button.colab-df-convert');\n",
              "      buttonEl.style.display =\n",
              "        google.colab.kernel.accessAllowed ? 'block' : 'none';\n",
              "\n",
              "      async function convertToInteractive(key) {\n",
              "        const element = document.querySelector('#df-20fccb7b-997a-4fb9-a429-c42278be859d');\n",
              "        const dataTable =\n",
              "          await google.colab.kernel.invokeFunction('convertToInteractive',\n",
              "                                                    [key], {});\n",
              "        if (!dataTable) return;\n",
              "\n",
              "        const docLinkHtml = 'Like what you see? Visit the ' +\n",
              "          '<a target=\"_blank\" href=https://colab.research.google.com/notebooks/data_table.ipynb>data table notebook</a>'\n",
              "          + ' to learn more about interactive tables.';\n",
              "        element.innerHTML = '';\n",
              "        dataTable['output_type'] = 'display_data';\n",
              "        await google.colab.output.renderOutput(dataTable, element);\n",
              "        const docLink = document.createElement('div');\n",
              "        docLink.innerHTML = docLinkHtml;\n",
              "        element.appendChild(docLink);\n",
              "      }\n",
              "    </script>\n",
              "  </div>\n",
              "\n",
              "\n",
              "<div id=\"df-1f6939b7-6a51-4176-b89e-d50cd3cbb7a3\">\n",
              "  <button class=\"colab-df-quickchart\" onclick=\"quickchart('df-1f6939b7-6a51-4176-b89e-d50cd3cbb7a3')\"\n",
              "            title=\"Suggest charts\"\n",
              "            style=\"display:none;\">\n",
              "\n",
              "<svg xmlns=\"http://www.w3.org/2000/svg\" height=\"24px\"viewBox=\"0 0 24 24\"\n",
              "     width=\"24px\">\n",
              "    <g>\n",
              "        <path d=\"M19 3H5c-1.1 0-2 .9-2 2v14c0 1.1.9 2 2 2h14c1.1 0 2-.9 2-2V5c0-1.1-.9-2-2-2zM9 17H7v-7h2v7zm4 0h-2V7h2v10zm4 0h-2v-4h2v4z\"/>\n",
              "    </g>\n",
              "</svg>\n",
              "  </button>\n",
              "\n",
              "<style>\n",
              "  .colab-df-quickchart {\n",
              "      --bg-color: #E8F0FE;\n",
              "      --fill-color: #1967D2;\n",
              "      --hover-bg-color: #E2EBFA;\n",
              "      --hover-fill-color: #174EA6;\n",
              "      --disabled-fill-color: #AAA;\n",
              "      --disabled-bg-color: #DDD;\n",
              "  }\n",
              "\n",
              "  [theme=dark] .colab-df-quickchart {\n",
              "      --bg-color: #3B4455;\n",
              "      --fill-color: #D2E3FC;\n",
              "      --hover-bg-color: #434B5C;\n",
              "      --hover-fill-color: #FFFFFF;\n",
              "      --disabled-bg-color: #3B4455;\n",
              "      --disabled-fill-color: #666;\n",
              "  }\n",
              "\n",
              "  .colab-df-quickchart {\n",
              "    background-color: var(--bg-color);\n",
              "    border: none;\n",
              "    border-radius: 50%;\n",
              "    cursor: pointer;\n",
              "    display: none;\n",
              "    fill: var(--fill-color);\n",
              "    height: 32px;\n",
              "    padding: 0;\n",
              "    width: 32px;\n",
              "  }\n",
              "\n",
              "  .colab-df-quickchart:hover {\n",
              "    background-color: var(--hover-bg-color);\n",
              "    box-shadow: 0 1px 2px rgba(60, 64, 67, 0.3), 0 1px 3px 1px rgba(60, 64, 67, 0.15);\n",
              "    fill: var(--button-hover-fill-color);\n",
              "  }\n",
              "\n",
              "  .colab-df-quickchart-complete:disabled,\n",
              "  .colab-df-quickchart-complete:disabled:hover {\n",
              "    background-color: var(--disabled-bg-color);\n",
              "    fill: var(--disabled-fill-color);\n",
              "    box-shadow: none;\n",
              "  }\n",
              "\n",
              "  .colab-df-spinner {\n",
              "    border: 2px solid var(--fill-color);\n",
              "    border-color: transparent;\n",
              "    border-bottom-color: var(--fill-color);\n",
              "    animation:\n",
              "      spin 1s steps(1) infinite;\n",
              "  }\n",
              "\n",
              "  @keyframes spin {\n",
              "    0% {\n",
              "      border-color: transparent;\n",
              "      border-bottom-color: var(--fill-color);\n",
              "      border-left-color: var(--fill-color);\n",
              "    }\n",
              "    20% {\n",
              "      border-color: transparent;\n",
              "      border-left-color: var(--fill-color);\n",
              "      border-top-color: var(--fill-color);\n",
              "    }\n",
              "    30% {\n",
              "      border-color: transparent;\n",
              "      border-left-color: var(--fill-color);\n",
              "      border-top-color: var(--fill-color);\n",
              "      border-right-color: var(--fill-color);\n",
              "    }\n",
              "    40% {\n",
              "      border-color: transparent;\n",
              "      border-right-color: var(--fill-color);\n",
              "      border-top-color: var(--fill-color);\n",
              "    }\n",
              "    60% {\n",
              "      border-color: transparent;\n",
              "      border-right-color: var(--fill-color);\n",
              "    }\n",
              "    80% {\n",
              "      border-color: transparent;\n",
              "      border-right-color: var(--fill-color);\n",
              "      border-bottom-color: var(--fill-color);\n",
              "    }\n",
              "    90% {\n",
              "      border-color: transparent;\n",
              "      border-bottom-color: var(--fill-color);\n",
              "    }\n",
              "  }\n",
              "</style>\n",
              "\n",
              "  <script>\n",
              "    async function quickchart(key) {\n",
              "      const quickchartButtonEl =\n",
              "        document.querySelector('#' + key + ' button');\n",
              "      quickchartButtonEl.disabled = true;  // To prevent multiple clicks.\n",
              "      quickchartButtonEl.classList.add('colab-df-spinner');\n",
              "      try {\n",
              "        const charts = await google.colab.kernel.invokeFunction(\n",
              "            'suggestCharts', [key], {});\n",
              "      } catch (error) {\n",
              "        console.error('Error during call to suggestCharts:', error);\n",
              "      }\n",
              "      quickchartButtonEl.classList.remove('colab-df-spinner');\n",
              "      quickchartButtonEl.classList.add('colab-df-quickchart-complete');\n",
              "    }\n",
              "    (() => {\n",
              "      let quickchartButtonEl =\n",
              "        document.querySelector('#df-1f6939b7-6a51-4176-b89e-d50cd3cbb7a3 button');\n",
              "      quickchartButtonEl.style.display =\n",
              "        google.colab.kernel.accessAllowed ? 'block' : 'none';\n",
              "    })();\n",
              "  </script>\n",
              "</div>\n",
              "\n",
              "  <div id=\"id_07880229-f37d-4d36-a671-06a96b70f593\">\n",
              "    <style>\n",
              "      .colab-df-generate {\n",
              "        background-color: #E8F0FE;\n",
              "        border: none;\n",
              "        border-radius: 50%;\n",
              "        cursor: pointer;\n",
              "        display: none;\n",
              "        fill: #1967D2;\n",
              "        height: 32px;\n",
              "        padding: 0 0 0 0;\n",
              "        width: 32px;\n",
              "      }\n",
              "\n",
              "      .colab-df-generate:hover {\n",
              "        background-color: #E2EBFA;\n",
              "        box-shadow: 0px 1px 2px rgba(60, 64, 67, 0.3), 0px 1px 3px 1px rgba(60, 64, 67, 0.15);\n",
              "        fill: #174EA6;\n",
              "      }\n",
              "\n",
              "      [theme=dark] .colab-df-generate {\n",
              "        background-color: #3B4455;\n",
              "        fill: #D2E3FC;\n",
              "      }\n",
              "\n",
              "      [theme=dark] .colab-df-generate:hover {\n",
              "        background-color: #434B5C;\n",
              "        box-shadow: 0px 1px 3px 1px rgba(0, 0, 0, 0.15);\n",
              "        filter: drop-shadow(0px 1px 2px rgba(0, 0, 0, 0.3));\n",
              "        fill: #FFFFFF;\n",
              "      }\n",
              "    </style>\n",
              "    <button class=\"colab-df-generate\" onclick=\"generateWithVariable('b')\"\n",
              "            title=\"Generate code using this dataframe.\"\n",
              "            style=\"display:none;\">\n",
              "\n",
              "  <svg xmlns=\"http://www.w3.org/2000/svg\" height=\"24px\"viewBox=\"0 0 24 24\"\n",
              "       width=\"24px\">\n",
              "    <path d=\"M7,19H8.4L18.45,9,17,7.55,7,17.6ZM5,21V16.75L18.45,3.32a2,2,0,0,1,2.83,0l1.4,1.43a1.91,1.91,0,0,1,.58,1.4,1.91,1.91,0,0,1-.58,1.4L9.25,21ZM18.45,9,17,7.55Zm-12,3A5.31,5.31,0,0,0,4.9,8.1,5.31,5.31,0,0,0,1,6.5,5.31,5.31,0,0,0,4.9,4.9,5.31,5.31,0,0,0,6.5,1,5.31,5.31,0,0,0,8.1,4.9,5.31,5.31,0,0,0,12,6.5,5.46,5.46,0,0,0,6.5,12Z\"/>\n",
              "  </svg>\n",
              "    </button>\n",
              "    <script>\n",
              "      (() => {\n",
              "      const buttonEl =\n",
              "        document.querySelector('#id_07880229-f37d-4d36-a671-06a96b70f593 button.colab-df-generate');\n",
              "      buttonEl.style.display =\n",
              "        google.colab.kernel.accessAllowed ? 'block' : 'none';\n",
              "\n",
              "      buttonEl.onclick = () => {\n",
              "        google.colab.notebook.generateWithVariable('b');\n",
              "      }\n",
              "      })();\n",
              "    </script>\n",
              "  </div>\n",
              "\n",
              "    </div>\n",
              "  </div>\n"
            ],
            "application/vnd.google.colaboratory.intrinsic+json": {
              "type": "dataframe",
              "variable_name": "b",
              "summary": "{\n  \"name\": \"b\",\n  \"rows\": 3,\n  \"fields\": [\n    {\n      \"column\": \"name\",\n      \"properties\": {\n        \"dtype\": \"string\",\n        \"num_unique_values\": 3,\n        \"samples\": [\n          \"Sam\",\n          \"Arvind\",\n          \"Sai\"\n        ],\n        \"semantic_type\": \"\",\n        \"description\": \"\"\n      }\n    },\n    {\n      \"column\": \"Percentage\",\n      \"properties\": {\n        \"dtype\": \"number\",\n        \"std\": 5,\n        \"min\": 85,\n        \"max\": 95,\n        \"num_unique_values\": 3,\n        \"samples\": [\n          90,\n          95,\n          85\n        ],\n        \"semantic_type\": \"\",\n        \"description\": \"\"\n      }\n    }\n  ]\n}"
            }
          },
          "metadata": {},
          "execution_count": 9
        }
      ]
    },
    {
      "cell_type": "markdown",
      "source": [
        "Merge multiple given dataframes without calling merge function multiple times. You also need all observations from all dataframes."
      ],
      "metadata": {
        "id": "VLyQuZ5wYvYi"
      }
    },
    {
      "cell_type": "code",
      "source": [
        "\n",
        "import pandas as pd\n",
        "player = ['Player1','Player2','Player3', 'Player4']\n",
        "score = [88,92,63, 22]\n",
        "df1 = pd.DataFrame({'Player':player, 'Scores': score})\n",
        "print(df1)\n",
        "\n",
        "\n",
        "player = ['Player1','Player2','Player4']\n",
        "wicket = [0,1,5]\n",
        "df2 = pd.DataFrame({'Player':player, 'Wickets': wicket})\n",
        "print(df2)\n",
        "\n",
        "\n",
        "player = ['Player4','Player2','Player3']\n",
        "catches = [0, 2, 1]\n",
        "df3 = pd.DataFrame({'Player':player, 'Catch': catches})\n",
        "print(df3)\n",
        "\n",
        "\n",
        "player = ['Player4','Player5','Player3']\n",
        "fifty = [0, 2, 1]\n",
        "df4 = pd.DataFrame({'Player':player, 'Fifty': fifty})\n",
        "print(df4)\n",
        "\n",
        "## Merging all dataframes\n",
        "\n",
        "merged_df = df1.merge(df2, on='Player', how='outer') \\\n",
        "               .merge(df3, on='Player', how='outer') \\\n",
        "               .merge(df4, on='Player', how='outer')\n",
        "\n",
        "print(merged_df)"
      ],
      "metadata": {
        "colab": {
          "base_uri": "https://localhost:8080/"
        },
        "id": "p0v99OktYv6H",
        "outputId": "60968dbf-e1b3-436f-def3-73d6823e6184"
      },
      "execution_count": 10,
      "outputs": [
        {
          "output_type": "stream",
          "name": "stdout",
          "text": [
            "    Player  Scores\n",
            "0  Player1      88\n",
            "1  Player2      92\n",
            "2  Player3      63\n",
            "3  Player4      22\n",
            "    Player  Wickets\n",
            "0  Player1        0\n",
            "1  Player2        1\n",
            "2  Player4        5\n",
            "    Player  Catch\n",
            "0  Player4      0\n",
            "1  Player2      2\n",
            "2  Player3      1\n",
            "    Player  Fifty\n",
            "0  Player4      0\n",
            "1  Player5      2\n",
            "2  Player3      1\n",
            "    Player  Scores  Wickets  Catch  Fifty\n",
            "0  Player1    88.0      0.0    NaN    NaN\n",
            "1  Player2    92.0      1.0    2.0    NaN\n",
            "2  Player3    63.0      NaN    1.0    1.0\n",
            "3  Player4    22.0      5.0    0.0    0.0\n",
            "4  Player5     NaN      NaN    NaN    2.0\n"
          ]
        }
      ]
    },
    {
      "cell_type": "markdown",
      "source": [
        "Please check if anything else than A, G, C, T is present in a DNA sequence using search function.\n",
        "ATGCGCCTACAATCGGTACGTCATCGCGC@@@@@TTACGGCTCGGCTCTCNNNCGGGCCTGCGCGCGCCTGATCGA"
      ],
      "metadata": {
        "id": "m9sTcoXG33Hl"
      }
    },
    {
      "cell_type": "code",
      "source": [
        "import re\n",
        "\n",
        "string = \"ATGCGCCTACAATCGGTACGTCATCGCGC@@@@@TTACGGCTCGGCTCTCNNNCGGGCCTGCGCGCGCCTGATCGA\"\n",
        "\n",
        "\n",
        "# Regular expression to match sequences that do not contain \"AGCT\"\n",
        "pattern = re.compile(r'[^AGCT]+')\n",
        "\n",
        "# Find all matches using re.finditer\n",
        "matches = pattern.finditer(string)\n",
        "\n",
        "# Iterate through the matches and print the spans\n",
        "for match in matches:\n",
        "    print(f\"Span: {match.start()} - {match.end()}\")\n"
      ],
      "metadata": {
        "colab": {
          "base_uri": "https://localhost:8080/"
        },
        "id": "mCPFYdT734qT",
        "outputId": "5d0563f6-a20c-45f6-9354-1f4d2c0aa121"
      },
      "execution_count": 11,
      "outputs": [
        {
          "output_type": "stream",
          "name": "stdout",
          "text": [
            "Span: 29 - 34\n",
            "Span: 50 - 53\n"
          ]
        }
      ]
    },
    {
      "cell_type": "markdown",
      "source": [
        "Here are height and weight of five persons. Please create a dataframe and then create BMI column. BMI = weight/(height^2).\n",
        "heights = [1.65, 1.75, 1.80, 1.62, 1.68]\n",
        "weights = [65, 70, 80, 55, 62]"
      ],
      "metadata": {
        "id": "3rEKpoBh5yL1"
      }
    },
    {
      "cell_type": "code",
      "source": [
        "heights = [1.65, 1.75, 1.80, 1.62, 1.68]\n",
        "weights = [65, 70, 80, 55, 62]\n",
        "\n",
        "heights_s = pd.Series(heights)\n",
        "weights_s = pd.Series(weights)\n",
        "\n",
        "BMI = weights_s/(heights_s**2)\n",
        "\n",
        "x = {'heights' : heights_s, 'weights' : weights_s, 'BMI': BMI}\n",
        "y = pd.DataFrame(x)\n",
        "y\n"
      ],
      "metadata": {
        "colab": {
          "base_uri": "https://localhost:8080/",
          "height": 206
        },
        "id": "kBHE-FQN5zru",
        "outputId": "999e78a4-1558-4007-8f66-c7656e7440bf"
      },
      "execution_count": 12,
      "outputs": [
        {
          "output_type": "execute_result",
          "data": {
            "text/plain": [
              "   heights  weights        BMI\n",
              "0     1.65       65  23.875115\n",
              "1     1.75       70  22.857143\n",
              "2     1.80       80  24.691358\n",
              "3     1.62       55  20.957171\n",
              "4     1.68       62  21.967120"
            ],
            "text/html": [
              "\n",
              "  <div id=\"df-a9ac4889-80b1-4b64-9801-6a153c3d2fdc\" class=\"colab-df-container\">\n",
              "    <div>\n",
              "<style scoped>\n",
              "    .dataframe tbody tr th:only-of-type {\n",
              "        vertical-align: middle;\n",
              "    }\n",
              "\n",
              "    .dataframe tbody tr th {\n",
              "        vertical-align: top;\n",
              "    }\n",
              "\n",
              "    .dataframe thead th {\n",
              "        text-align: right;\n",
              "    }\n",
              "</style>\n",
              "<table border=\"1\" class=\"dataframe\">\n",
              "  <thead>\n",
              "    <tr style=\"text-align: right;\">\n",
              "      <th></th>\n",
              "      <th>heights</th>\n",
              "      <th>weights</th>\n",
              "      <th>BMI</th>\n",
              "    </tr>\n",
              "  </thead>\n",
              "  <tbody>\n",
              "    <tr>\n",
              "      <th>0</th>\n",
              "      <td>1.65</td>\n",
              "      <td>65</td>\n",
              "      <td>23.875115</td>\n",
              "    </tr>\n",
              "    <tr>\n",
              "      <th>1</th>\n",
              "      <td>1.75</td>\n",
              "      <td>70</td>\n",
              "      <td>22.857143</td>\n",
              "    </tr>\n",
              "    <tr>\n",
              "      <th>2</th>\n",
              "      <td>1.80</td>\n",
              "      <td>80</td>\n",
              "      <td>24.691358</td>\n",
              "    </tr>\n",
              "    <tr>\n",
              "      <th>3</th>\n",
              "      <td>1.62</td>\n",
              "      <td>55</td>\n",
              "      <td>20.957171</td>\n",
              "    </tr>\n",
              "    <tr>\n",
              "      <th>4</th>\n",
              "      <td>1.68</td>\n",
              "      <td>62</td>\n",
              "      <td>21.967120</td>\n",
              "    </tr>\n",
              "  </tbody>\n",
              "</table>\n",
              "</div>\n",
              "    <div class=\"colab-df-buttons\">\n",
              "\n",
              "  <div class=\"colab-df-container\">\n",
              "    <button class=\"colab-df-convert\" onclick=\"convertToInteractive('df-a9ac4889-80b1-4b64-9801-6a153c3d2fdc')\"\n",
              "            title=\"Convert this dataframe to an interactive table.\"\n",
              "            style=\"display:none;\">\n",
              "\n",
              "  <svg xmlns=\"http://www.w3.org/2000/svg\" height=\"24px\" viewBox=\"0 -960 960 960\">\n",
              "    <path d=\"M120-120v-720h720v720H120Zm60-500h600v-160H180v160Zm220 220h160v-160H400v160Zm0 220h160v-160H400v160ZM180-400h160v-160H180v160Zm440 0h160v-160H620v160ZM180-180h160v-160H180v160Zm440 0h160v-160H620v160Z\"/>\n",
              "  </svg>\n",
              "    </button>\n",
              "\n",
              "  <style>\n",
              "    .colab-df-container {\n",
              "      display:flex;\n",
              "      gap: 12px;\n",
              "    }\n",
              "\n",
              "    .colab-df-convert {\n",
              "      background-color: #E8F0FE;\n",
              "      border: none;\n",
              "      border-radius: 50%;\n",
              "      cursor: pointer;\n",
              "      display: none;\n",
              "      fill: #1967D2;\n",
              "      height: 32px;\n",
              "      padding: 0 0 0 0;\n",
              "      width: 32px;\n",
              "    }\n",
              "\n",
              "    .colab-df-convert:hover {\n",
              "      background-color: #E2EBFA;\n",
              "      box-shadow: 0px 1px 2px rgba(60, 64, 67, 0.3), 0px 1px 3px 1px rgba(60, 64, 67, 0.15);\n",
              "      fill: #174EA6;\n",
              "    }\n",
              "\n",
              "    .colab-df-buttons div {\n",
              "      margin-bottom: 4px;\n",
              "    }\n",
              "\n",
              "    [theme=dark] .colab-df-convert {\n",
              "      background-color: #3B4455;\n",
              "      fill: #D2E3FC;\n",
              "    }\n",
              "\n",
              "    [theme=dark] .colab-df-convert:hover {\n",
              "      background-color: #434B5C;\n",
              "      box-shadow: 0px 1px 3px 1px rgba(0, 0, 0, 0.15);\n",
              "      filter: drop-shadow(0px 1px 2px rgba(0, 0, 0, 0.3));\n",
              "      fill: #FFFFFF;\n",
              "    }\n",
              "  </style>\n",
              "\n",
              "    <script>\n",
              "      const buttonEl =\n",
              "        document.querySelector('#df-a9ac4889-80b1-4b64-9801-6a153c3d2fdc button.colab-df-convert');\n",
              "      buttonEl.style.display =\n",
              "        google.colab.kernel.accessAllowed ? 'block' : 'none';\n",
              "\n",
              "      async function convertToInteractive(key) {\n",
              "        const element = document.querySelector('#df-a9ac4889-80b1-4b64-9801-6a153c3d2fdc');\n",
              "        const dataTable =\n",
              "          await google.colab.kernel.invokeFunction('convertToInteractive',\n",
              "                                                    [key], {});\n",
              "        if (!dataTable) return;\n",
              "\n",
              "        const docLinkHtml = 'Like what you see? Visit the ' +\n",
              "          '<a target=\"_blank\" href=https://colab.research.google.com/notebooks/data_table.ipynb>data table notebook</a>'\n",
              "          + ' to learn more about interactive tables.';\n",
              "        element.innerHTML = '';\n",
              "        dataTable['output_type'] = 'display_data';\n",
              "        await google.colab.output.renderOutput(dataTable, element);\n",
              "        const docLink = document.createElement('div');\n",
              "        docLink.innerHTML = docLinkHtml;\n",
              "        element.appendChild(docLink);\n",
              "      }\n",
              "    </script>\n",
              "  </div>\n",
              "\n",
              "\n",
              "<div id=\"df-5eeb05e7-369d-4215-b3c7-5fecb9031d3b\">\n",
              "  <button class=\"colab-df-quickchart\" onclick=\"quickchart('df-5eeb05e7-369d-4215-b3c7-5fecb9031d3b')\"\n",
              "            title=\"Suggest charts\"\n",
              "            style=\"display:none;\">\n",
              "\n",
              "<svg xmlns=\"http://www.w3.org/2000/svg\" height=\"24px\"viewBox=\"0 0 24 24\"\n",
              "     width=\"24px\">\n",
              "    <g>\n",
              "        <path d=\"M19 3H5c-1.1 0-2 .9-2 2v14c0 1.1.9 2 2 2h14c1.1 0 2-.9 2-2V5c0-1.1-.9-2-2-2zM9 17H7v-7h2v7zm4 0h-2V7h2v10zm4 0h-2v-4h2v4z\"/>\n",
              "    </g>\n",
              "</svg>\n",
              "  </button>\n",
              "\n",
              "<style>\n",
              "  .colab-df-quickchart {\n",
              "      --bg-color: #E8F0FE;\n",
              "      --fill-color: #1967D2;\n",
              "      --hover-bg-color: #E2EBFA;\n",
              "      --hover-fill-color: #174EA6;\n",
              "      --disabled-fill-color: #AAA;\n",
              "      --disabled-bg-color: #DDD;\n",
              "  }\n",
              "\n",
              "  [theme=dark] .colab-df-quickchart {\n",
              "      --bg-color: #3B4455;\n",
              "      --fill-color: #D2E3FC;\n",
              "      --hover-bg-color: #434B5C;\n",
              "      --hover-fill-color: #FFFFFF;\n",
              "      --disabled-bg-color: #3B4455;\n",
              "      --disabled-fill-color: #666;\n",
              "  }\n",
              "\n",
              "  .colab-df-quickchart {\n",
              "    background-color: var(--bg-color);\n",
              "    border: none;\n",
              "    border-radius: 50%;\n",
              "    cursor: pointer;\n",
              "    display: none;\n",
              "    fill: var(--fill-color);\n",
              "    height: 32px;\n",
              "    padding: 0;\n",
              "    width: 32px;\n",
              "  }\n",
              "\n",
              "  .colab-df-quickchart:hover {\n",
              "    background-color: var(--hover-bg-color);\n",
              "    box-shadow: 0 1px 2px rgba(60, 64, 67, 0.3), 0 1px 3px 1px rgba(60, 64, 67, 0.15);\n",
              "    fill: var(--button-hover-fill-color);\n",
              "  }\n",
              "\n",
              "  .colab-df-quickchart-complete:disabled,\n",
              "  .colab-df-quickchart-complete:disabled:hover {\n",
              "    background-color: var(--disabled-bg-color);\n",
              "    fill: var(--disabled-fill-color);\n",
              "    box-shadow: none;\n",
              "  }\n",
              "\n",
              "  .colab-df-spinner {\n",
              "    border: 2px solid var(--fill-color);\n",
              "    border-color: transparent;\n",
              "    border-bottom-color: var(--fill-color);\n",
              "    animation:\n",
              "      spin 1s steps(1) infinite;\n",
              "  }\n",
              "\n",
              "  @keyframes spin {\n",
              "    0% {\n",
              "      border-color: transparent;\n",
              "      border-bottom-color: var(--fill-color);\n",
              "      border-left-color: var(--fill-color);\n",
              "    }\n",
              "    20% {\n",
              "      border-color: transparent;\n",
              "      border-left-color: var(--fill-color);\n",
              "      border-top-color: var(--fill-color);\n",
              "    }\n",
              "    30% {\n",
              "      border-color: transparent;\n",
              "      border-left-color: var(--fill-color);\n",
              "      border-top-color: var(--fill-color);\n",
              "      border-right-color: var(--fill-color);\n",
              "    }\n",
              "    40% {\n",
              "      border-color: transparent;\n",
              "      border-right-color: var(--fill-color);\n",
              "      border-top-color: var(--fill-color);\n",
              "    }\n",
              "    60% {\n",
              "      border-color: transparent;\n",
              "      border-right-color: var(--fill-color);\n",
              "    }\n",
              "    80% {\n",
              "      border-color: transparent;\n",
              "      border-right-color: var(--fill-color);\n",
              "      border-bottom-color: var(--fill-color);\n",
              "    }\n",
              "    90% {\n",
              "      border-color: transparent;\n",
              "      border-bottom-color: var(--fill-color);\n",
              "    }\n",
              "  }\n",
              "</style>\n",
              "\n",
              "  <script>\n",
              "    async function quickchart(key) {\n",
              "      const quickchartButtonEl =\n",
              "        document.querySelector('#' + key + ' button');\n",
              "      quickchartButtonEl.disabled = true;  // To prevent multiple clicks.\n",
              "      quickchartButtonEl.classList.add('colab-df-spinner');\n",
              "      try {\n",
              "        const charts = await google.colab.kernel.invokeFunction(\n",
              "            'suggestCharts', [key], {});\n",
              "      } catch (error) {\n",
              "        console.error('Error during call to suggestCharts:', error);\n",
              "      }\n",
              "      quickchartButtonEl.classList.remove('colab-df-spinner');\n",
              "      quickchartButtonEl.classList.add('colab-df-quickchart-complete');\n",
              "    }\n",
              "    (() => {\n",
              "      let quickchartButtonEl =\n",
              "        document.querySelector('#df-5eeb05e7-369d-4215-b3c7-5fecb9031d3b button');\n",
              "      quickchartButtonEl.style.display =\n",
              "        google.colab.kernel.accessAllowed ? 'block' : 'none';\n",
              "    })();\n",
              "  </script>\n",
              "</div>\n",
              "\n",
              "  <div id=\"id_3b91034e-c53c-407d-998a-a5b89f1c7d6a\">\n",
              "    <style>\n",
              "      .colab-df-generate {\n",
              "        background-color: #E8F0FE;\n",
              "        border: none;\n",
              "        border-radius: 50%;\n",
              "        cursor: pointer;\n",
              "        display: none;\n",
              "        fill: #1967D2;\n",
              "        height: 32px;\n",
              "        padding: 0 0 0 0;\n",
              "        width: 32px;\n",
              "      }\n",
              "\n",
              "      .colab-df-generate:hover {\n",
              "        background-color: #E2EBFA;\n",
              "        box-shadow: 0px 1px 2px rgba(60, 64, 67, 0.3), 0px 1px 3px 1px rgba(60, 64, 67, 0.15);\n",
              "        fill: #174EA6;\n",
              "      }\n",
              "\n",
              "      [theme=dark] .colab-df-generate {\n",
              "        background-color: #3B4455;\n",
              "        fill: #D2E3FC;\n",
              "      }\n",
              "\n",
              "      [theme=dark] .colab-df-generate:hover {\n",
              "        background-color: #434B5C;\n",
              "        box-shadow: 0px 1px 3px 1px rgba(0, 0, 0, 0.15);\n",
              "        filter: drop-shadow(0px 1px 2px rgba(0, 0, 0, 0.3));\n",
              "        fill: #FFFFFF;\n",
              "      }\n",
              "    </style>\n",
              "    <button class=\"colab-df-generate\" onclick=\"generateWithVariable('y')\"\n",
              "            title=\"Generate code using this dataframe.\"\n",
              "            style=\"display:none;\">\n",
              "\n",
              "  <svg xmlns=\"http://www.w3.org/2000/svg\" height=\"24px\"viewBox=\"0 0 24 24\"\n",
              "       width=\"24px\">\n",
              "    <path d=\"M7,19H8.4L18.45,9,17,7.55,7,17.6ZM5,21V16.75L18.45,3.32a2,2,0,0,1,2.83,0l1.4,1.43a1.91,1.91,0,0,1,.58,1.4,1.91,1.91,0,0,1-.58,1.4L9.25,21ZM18.45,9,17,7.55Zm-12,3A5.31,5.31,0,0,0,4.9,8.1,5.31,5.31,0,0,0,1,6.5,5.31,5.31,0,0,0,4.9,4.9,5.31,5.31,0,0,0,6.5,1,5.31,5.31,0,0,0,8.1,4.9,5.31,5.31,0,0,0,12,6.5,5.46,5.46,0,0,0,6.5,12Z\"/>\n",
              "  </svg>\n",
              "    </button>\n",
              "    <script>\n",
              "      (() => {\n",
              "      const buttonEl =\n",
              "        document.querySelector('#id_3b91034e-c53c-407d-998a-a5b89f1c7d6a button.colab-df-generate');\n",
              "      buttonEl.style.display =\n",
              "        google.colab.kernel.accessAllowed ? 'block' : 'none';\n",
              "\n",
              "      buttonEl.onclick = () => {\n",
              "        google.colab.notebook.generateWithVariable('y');\n",
              "      }\n",
              "      })();\n",
              "    </script>\n",
              "  </div>\n",
              "\n",
              "    </div>\n",
              "  </div>\n"
            ],
            "application/vnd.google.colaboratory.intrinsic+json": {
              "type": "dataframe",
              "variable_name": "y",
              "summary": "{\n  \"name\": \"y\",\n  \"rows\": 5,\n  \"fields\": [\n    {\n      \"column\": \"heights\",\n      \"properties\": {\n        \"dtype\": \"number\",\n        \"std\": 0.073824115301167,\n        \"min\": 1.62,\n        \"max\": 1.8,\n        \"num_unique_values\": 5,\n        \"samples\": [\n          1.75,\n          1.68,\n          1.8\n        ],\n        \"semantic_type\": \"\",\n        \"description\": \"\"\n      }\n    },\n    {\n      \"column\": \"weights\",\n      \"properties\": {\n        \"dtype\": \"number\",\n        \"std\": 9,\n        \"min\": 55,\n        \"max\": 80,\n        \"num_unique_values\": 5,\n        \"samples\": [\n          70,\n          62,\n          80\n        ],\n        \"semantic_type\": \"\",\n        \"description\": \"\"\n      }\n    },\n    {\n      \"column\": \"BMI\",\n      \"properties\": {\n        \"dtype\": \"number\",\n        \"std\": 1.4833973962057014,\n        \"min\": 20.957171162932475,\n        \"max\": 24.691358024691358,\n        \"num_unique_values\": 5,\n        \"samples\": [\n          22.857142857142858,\n          21.9671201814059,\n          24.691358024691358\n        ],\n        \"semantic_type\": \"\",\n        \"description\": \"\"\n      }\n    }\n  ]\n}"
            }
          },
          "metadata": {},
          "execution_count": 12
        }
      ]
    },
    {
      "cell_type": "markdown",
      "source": [
        "Split the text from numbers.\n",
        "\n",
        "Information = \"There are 60 students in DS15 batch.\""
      ],
      "metadata": {
        "id": "YdJ1_NHTOTkt"
      }
    },
    {
      "cell_type": "code",
      "source": [
        "import re\n",
        "info = \"There are 60 students in DS15 batch.\"\n",
        "\n",
        "a = re.split('\\d', info)\n",
        "\n",
        "a\n",
        "\n"
      ],
      "metadata": {
        "colab": {
          "base_uri": "https://localhost:8080/"
        },
        "id": "9phPD6H8OUIS",
        "outputId": "ca06effd-bc87-4bc6-bd5e-e3a568dfd706"
      },
      "execution_count": 13,
      "outputs": [
        {
          "output_type": "execute_result",
          "data": {
            "text/plain": [
              "['There are ', '', ' students in DS', '', ' batch.']"
            ]
          },
          "metadata": {},
          "execution_count": 13
        }
      ]
    },
    {
      "cell_type": "markdown",
      "source": [
        "Write a NumPy program to create a 8x8 matrix and fill it with a checkerboard pattern.\n",
        "\n",
        "Expected output:\n",
        "\n",
        " [[0 1 0 1 0 1 0 1]\n",
        "\n",
        " [1 0 1 0 1 0 1 0]\n",
        "\n",
        " [0 1 0 1 0 1 0 1]\n",
        "\n",
        " [1 0 1 0 1 0 1 0]\n",
        "\n",
        " [0 1 0 1 0 1 0 1]\n",
        "\n",
        " [1 0 1 0 1 0 1 0]\n",
        "\n",
        " [0 1 0 1 0 1 0 1]\n",
        "\n",
        " [1 0 1 0 1 0 1 0]]"
      ],
      "metadata": {
        "id": "QUNi_ktUUY2i"
      }
    },
    {
      "cell_type": "code",
      "source": [
        "import numpy as np\n",
        "\n",
        "a = np.zeros(shape = (8,8), dtype = int)\n",
        "a[::2, 1::2] = 1\n",
        "a[1::2, ::2] = 1\n",
        "print(a)"
      ],
      "metadata": {
        "colab": {
          "base_uri": "https://localhost:8080/"
        },
        "id": "FF2uohPwUZos",
        "outputId": "c80cc4ab-3966-466b-e973-f0419989dec2"
      },
      "execution_count": 14,
      "outputs": [
        {
          "output_type": "stream",
          "name": "stdout",
          "text": [
            "[[0 1 0 1 0 1 0 1]\n",
            " [1 0 1 0 1 0 1 0]\n",
            " [0 1 0 1 0 1 0 1]\n",
            " [1 0 1 0 1 0 1 0]\n",
            " [0 1 0 1 0 1 0 1]\n",
            " [1 0 1 0 1 0 1 0]\n",
            " [0 1 0 1 0 1 0 1]\n",
            " [1 0 1 0 1 0 1 0]]\n"
          ]
        }
      ]
    },
    {
      "cell_type": "markdown",
      "source": [
        "Create a 2d array of 8*8 matrix with 1 on the border and 0 inside\n",
        "\n",
        "Expected output:\n",
        "\n",
        " [[1 1 1 1 1 1 1 1]\n",
        "\n",
        " [1 0 0 0 0 0 0 1]\n",
        "\n",
        " [1 0 0 0 0 0 0 1]\n",
        "\n",
        " [1 0 0 0 0 0 0 1]\n",
        "\n",
        " [1 0 0 0 0 0 0 1]\n",
        "\n",
        " [1 0 0 0 0 0 0 1]\n",
        "\n",
        " [1 0 0 0 0 0 0 1]\n",
        "\n",
        " [1 1 1 1 1 1 1 1]]"
      ],
      "metadata": {
        "id": "PDel0dOnjACD"
      }
    },
    {
      "cell_type": "code",
      "source": [
        "import numpy as np\n",
        "\n",
        "x = np.zeros(shape = (8,8), dtype = int)\n",
        "\n",
        "x[:,0] = 1\n",
        "x[0,:] = 1\n",
        "x[-1,:] = 1\n",
        "x[:,-1] = 1\n",
        "x"
      ],
      "metadata": {
        "colab": {
          "base_uri": "https://localhost:8080/"
        },
        "id": "XNj7CI4VjH3t",
        "outputId": "f47b2431-5edb-4ba0-8f7f-e214128d60e6"
      },
      "execution_count": 15,
      "outputs": [
        {
          "output_type": "execute_result",
          "data": {
            "text/plain": [
              "array([[1, 1, 1, 1, 1, 1, 1, 1],\n",
              "       [1, 0, 0, 0, 0, 0, 0, 1],\n",
              "       [1, 0, 0, 0, 0, 0, 0, 1],\n",
              "       [1, 0, 0, 0, 0, 0, 0, 1],\n",
              "       [1, 0, 0, 0, 0, 0, 0, 1],\n",
              "       [1, 0, 0, 0, 0, 0, 0, 1],\n",
              "       [1, 0, 0, 0, 0, 0, 0, 1],\n",
              "       [1, 1, 1, 1, 1, 1, 1, 1]])"
            ]
          },
          "metadata": {},
          "execution_count": 15
        }
      ]
    },
    {
      "cell_type": "markdown",
      "source": [
        "Create a 3x3 matrix with values ranging from 0 to 8\n",
        "\n",
        "Expected output:\n",
        "\n",
        " [[0 1 2]\n",
        "\n",
        " [3 4 5]\n",
        "\n",
        " [6 7 8]]"
      ],
      "metadata": {
        "id": "47epPrNZk-D5"
      }
    },
    {
      "cell_type": "code",
      "source": [
        "x =[]\n",
        "for i in range (0,9):\n",
        "  x.append(i)\n",
        "\n",
        "import numpy as np\n",
        "\n",
        "a = np.array(x)\n",
        "b = a.reshape(3,3)\n",
        "b"
      ],
      "metadata": {
        "colab": {
          "base_uri": "https://localhost:8080/"
        },
        "id": "0QKYCmDAlBIB",
        "outputId": "9a17ae3f-3665-4f88-b137-68ffc3d4974b"
      },
      "execution_count": 16,
      "outputs": [
        {
          "output_type": "execute_result",
          "data": {
            "text/plain": [
              "array([[0, 1, 2],\n",
              "       [3, 4, 5],\n",
              "       [6, 7, 8]])"
            ]
          },
          "metadata": {},
          "execution_count": 16
        }
      ]
    },
    {
      "cell_type": "markdown",
      "source": [
        "Create a vector with values ranging from 10 to 49 and then reverse the vector."
      ],
      "metadata": {
        "id": "8bJGbyWTmQB7"
      }
    },
    {
      "cell_type": "code",
      "source": [
        "a = []\n",
        "for i in range (10,50):\n",
        "  a.append(i)\n",
        "\n",
        "b = np.array(a)\n",
        "b[::-1]"
      ],
      "metadata": {
        "colab": {
          "base_uri": "https://localhost:8080/"
        },
        "id": "LJ4Hf_7fmRWp",
        "outputId": "ce30e60a-6c9a-49b1-da1c-cd5ab2e19f55"
      },
      "execution_count": 17,
      "outputs": [
        {
          "output_type": "execute_result",
          "data": {
            "text/plain": [
              "array([49, 48, 47, 46, 45, 44, 43, 42, 41, 40, 39, 38, 37, 36, 35, 34, 33,\n",
              "       32, 31, 30, 29, 28, 27, 26, 25, 24, 23, 22, 21, 20, 19, 18, 17, 16,\n",
              "       15, 14, 13, 12, 11, 10])"
            ]
          },
          "metadata": {},
          "execution_count": 17
        }
      ]
    },
    {
      "cell_type": "markdown",
      "source": [
        "What are the smallest and largest values of the column “reason for absence”."
      ],
      "metadata": {
        "id": "7X-BgTS1Zl0d"
      }
    },
    {
      "cell_type": "code",
      "source": [
        "x = 'reason for absence'\n",
        "a = len(x)"
      ],
      "metadata": {
        "colab": {
          "base_uri": "https://localhost:8080/"
        },
        "id": "v9TAty6nZmaT",
        "outputId": "16e8d5c9-34f0-442f-a8a3-9c12e720129f"
      },
      "execution_count": 18,
      "outputs": [
        {
          "output_type": "execute_result",
          "data": {
            "text/plain": [
              "18"
            ]
          },
          "metadata": {},
          "execution_count": 18
        }
      ]
    },
    {
      "cell_type": "markdown",
      "source": [
        "Find all words in a string that start with a vowel.\n",
        "\n",
        "string = 'Apples are red, bananas are yellow, and oranges are orange.'"
      ],
      "metadata": {
        "id": "0qJqtVKJ0J6j"
      }
    },
    {
      "cell_type": "code",
      "source": [
        "import re\n",
        "\n",
        "string = 'Apples are red, bananas are yellow, and oranges are orange.'\n",
        "\n",
        "# Define vowels as a set for efficient lookup\n",
        "vowels = {'a', 'e', 'i', 'o', 'u', 'A', 'E', 'I', 'O', 'U'}\n",
        "\n",
        "# Split the string into words\n",
        "words = re.findall(r'\\b\\w+\\b', string)\n",
        "print(words)\n",
        "# Iterate over each word and check if it starts with a vowel\n",
        "for word in words:\n",
        "    if word[0] in vowels:\n",
        "        # Strip punctuation marks from the word\n",
        "        word = re.sub(r'[^\\w\\s]', '', word)\n",
        "        print(word)"
      ],
      "metadata": {
        "colab": {
          "base_uri": "https://localhost:8080/"
        },
        "id": "II0FECYk0NOx",
        "outputId": "43c25435-2d51-4766-8301-9f5bb3c7b9d8"
      },
      "execution_count": 42,
      "outputs": [
        {
          "output_type": "stream",
          "name": "stdout",
          "text": [
            "['Apples', 'are', 'red', 'bananas', 'are', 'yellow', 'and', 'oranges', 'are', 'orange']\n",
            "Apples\n",
            "are\n",
            "are\n",
            "and\n",
            "oranges\n",
            "are\n",
            "orange\n"
          ]
        }
      ]
    },
    {
      "cell_type": "code",
      "source": [
        "import re\n",
        "\n",
        "string = 'Please contact us at support@example.com for assistance or info@example.com for more information.'\n",
        "\n",
        "# Define the pattern for an email address\n",
        "pattern = r'[\\w\\.-]+@[\\w\\.-]+'\n",
        "\n",
        "# Use re.findall() to extract all email addresses matching the pattern\n",
        "emails = re.findall(pattern, string)\n",
        "\n",
        "# Print the extracted email addresses\n",
        "for email in emails:\n",
        "    print(email)\n"
      ],
      "metadata": {
        "colab": {
          "base_uri": "https://localhost:8080/"
        },
        "id": "FLABc9na5HiT",
        "outputId": "5371de5e-d372-47ae-bc1b-6ff2047b43f0"
      },
      "execution_count": 44,
      "outputs": [
        {
          "output_type": "stream",
          "name": "stdout",
          "text": [
            "support@example.com\n",
            "info@example.com\n"
          ]
        }
      ]
    },
    {
      "cell_type": "markdown",
      "source": [
        "Validate a US phone number using regular expressions. The phone number should be in the format \"XXX-XXX-XXXX\" (where X is a digit).\n",
        "\n",
        "phone_number = '123-456-7890'"
      ],
      "metadata": {
        "id": "ok4uJa3A70qL"
      }
    },
    {
      "cell_type": "code",
      "source": [
        "import re\n",
        "\n",
        "phone_number = '123-456-7890'\n",
        "\n",
        "\n",
        "pattern = r'^\\d{3}-\\d{3}-\\d{4}$'\n",
        "\n",
        "\n",
        "match = re.match(pattern, phone_number)\n",
        "\n",
        "if match:\n",
        "    print(f\"Valid phone number\")"
      ],
      "metadata": {
        "colab": {
          "base_uri": "https://localhost:8080/"
        },
        "id": "keUrWwxw7syh",
        "outputId": "5366bed3-5417-4475-978b-a935c85d1b32"
      },
      "execution_count": 45,
      "outputs": [
        {
          "output_type": "stream",
          "name": "stdout",
          "text": [
            "Valid phone number\n"
          ]
        }
      ]
    }
  ]
}