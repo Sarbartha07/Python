{
  "nbformat": 4,
  "nbformat_minor": 0,
  "metadata": {
    "colab": {
      "provenance": [],
      "authorship_tag": "ABX9TyNVmZ91y2sYFZZwhg2I0Yfc",
      "include_colab_link": true
    },
    "kernelspec": {
      "name": "python3",
      "display_name": "Python 3"
    },
    "language_info": {
      "name": "python"
    }
  },
  "cells": [
    {
      "cell_type": "markdown",
      "metadata": {
        "id": "view-in-github",
        "colab_type": "text"
      },
      "source": [
        "<a href=\"https://colab.research.google.com/github/Sarbartha07/Python/blob/main/NumPy.ipynb\" target=\"_parent\"><img src=\"https://colab.research.google.com/assets/colab-badge.svg\" alt=\"Open In Colab\"/></a>"
      ]
    },
    {
      "cell_type": "code",
      "execution_count": 2,
      "metadata": {
        "colab": {
          "base_uri": "https://localhost:8080/"
        },
        "id": "YV2t6gbyEaye",
        "outputId": "08c291f7-b3a8-45e8-a9c0-57eec7c6b972"
      },
      "outputs": [
        {
          "output_type": "stream",
          "name": "stdout",
          "text": [
            "[[1 2 3]\n",
            " [0 1 4]]\n"
          ]
        }
      ],
      "source": [
        "import numpy as np\n",
        "\n",
        "a = ((1,2,3),(0,1,4))\n",
        "\n",
        "aa = np.array (a)\n",
        "\n",
        "print (aa)"
      ]
    },
    {
      "cell_type": "code",
      "source": [
        "import numpy as np\n",
        "from numpy import random\n",
        "\n",
        "x = random.randint (100)\n",
        "\n",
        "print(x)"
      ],
      "metadata": {
        "colab": {
          "base_uri": "https://localhost:8080/"
        },
        "id": "9-yZXHn1aRWA",
        "outputId": "43d52537-3966-4a5e-fd3c-63459d216c9d"
      },
      "execution_count": null,
      "outputs": [
        {
          "output_type": "stream",
          "name": "stdout",
          "text": [
            "90\n"
          ]
        }
      ]
    },
    {
      "cell_type": "code",
      "source": [
        "# Genarating array with 5 random number\n",
        "\n",
        "x = random.randint (100, size=(5))\n",
        "\n",
        "print(x)"
      ],
      "metadata": {
        "colab": {
          "base_uri": "https://localhost:8080/"
        },
        "id": "McX3VSlVa6h7",
        "outputId": "00e428c1-5683-480f-a5b0-33466424bf91"
      },
      "execution_count": null,
      "outputs": [
        {
          "output_type": "stream",
          "name": "stdout",
          "text": [
            "[18 24 83 84 14]\n"
          ]
        }
      ]
    },
    {
      "cell_type": "code",
      "source": [
        "# Generating 2 diamentional arrey with 5 random number\n",
        "\n",
        "x = random.randint (100, size = (3, 5))\n",
        "\n",
        "print(x)"
      ],
      "metadata": {
        "colab": {
          "base_uri": "https://localhost:8080/"
        },
        "id": "eeWzspSaSsvp",
        "outputId": "cc2922f6-c96d-4e53-ecbb-91a98ca0c8b2"
      },
      "execution_count": null,
      "outputs": [
        {
          "output_type": "stream",
          "name": "stdout",
          "text": [
            "[[ 4 22 68  5 86]\n",
            " [48 72 64 73 72]\n",
            " [82 30 70 76 82]]\n"
          ]
        }
      ]
    },
    {
      "cell_type": "code",
      "source": [
        "# Generating 3 diamentional arrey with 5 random number\n",
        "\n",
        "x = random.randint (100, size = (3, 5, 5))\n",
        "\n",
        "print(x)"
      ],
      "metadata": {
        "colab": {
          "base_uri": "https://localhost:8080/"
        },
        "id": "holt_qv7TLNE",
        "outputId": "35579c3e-122f-46a2-9e96-8d7142bb65df"
      },
      "execution_count": null,
      "outputs": [
        {
          "output_type": "stream",
          "name": "stdout",
          "text": [
            "[[[57 64 23 77 85]\n",
            "  [ 2 77 85 26 77]\n",
            "  [83 70 96  4 87]\n",
            "  [25  5 37 97 71]\n",
            "  [83 78 68 21 47]]\n",
            "\n",
            " [[23 34 91 67 36]\n",
            "  [66 90 94 58 15]\n",
            "  [47 78 16 24 38]\n",
            "  [48 32 96 34 83]\n",
            "  [96 54 54 67 51]]\n",
            "\n",
            " [[58 20 54 31 27]\n",
            "  [59 18 12 52 45]\n",
            "  [50 40 69  9 20]\n",
            "  [90 36 59 18 38]\n",
            "  [44 15 88 36 36]]]\n"
          ]
        }
      ]
    },
    {
      "cell_type": "code",
      "source": [
        "x = np.arange(0, 11)\n",
        "\n",
        "print (x)"
      ],
      "metadata": {
        "colab": {
          "base_uri": "https://localhost:8080/"
        },
        "id": "3W-Se2xVtgbe",
        "outputId": "01b18b94-ed2f-46c4-cfc9-468332e391fd"
      },
      "execution_count": null,
      "outputs": [
        {
          "output_type": "stream",
          "name": "stdout",
          "text": [
            "[ 0  1  2  3  4  5  6  7  8  9 10]\n"
          ]
        }
      ]
    },
    {
      "cell_type": "code",
      "source": [
        "c = np.ones((2,3), dtype=np.int16)\n",
        "\n",
        "print (c)"
      ],
      "metadata": {
        "colab": {
          "base_uri": "https://localhost:8080/"
        },
        "id": "rlpqLHY7vrVj",
        "outputId": "acdb6408-cca8-4309-f49d-5499dc809cf5"
      },
      "execution_count": null,
      "outputs": [
        {
          "output_type": "stream",
          "name": "stdout",
          "text": [
            "[[1 1 1]\n",
            " [1 1 1]]\n"
          ]
        }
      ]
    },
    {
      "cell_type": "code",
      "source": [
        "a = np.array([[1,2,3], [0,1,4]])\n",
        "b = np.zeros((2,3), dtype=np.int16)\n",
        "c = np.ones((2,3), dtype=np.int16)\n",
        "d = a + b + c\n",
        "\n",
        "print (a)\n",
        "print (b)\n",
        "print (c)\n",
        "print (d)"
      ],
      "metadata": {
        "colab": {
          "base_uri": "https://localhost:8080/"
        },
        "id": "ZgYAE9Fdv7pg",
        "outputId": "8380a626-a767-4923-edd8-93ac0a8c4a0b"
      },
      "execution_count": 3,
      "outputs": [
        {
          "output_type": "stream",
          "name": "stdout",
          "text": [
            "[[1 2 3]\n",
            " [0 1 4]]\n",
            "[[0 0 0]\n",
            " [0 0 0]]\n",
            "[[1 1 1]\n",
            " [1 1 1]]\n",
            "[[2 3 4]\n",
            " [1 2 5]]\n"
          ]
        }
      ]
    },
    {
      "cell_type": "code",
      "source": [
        "import numpy as np\n",
        "\n",
        "orig_array_1 = np.array ([10,32,36,34,4, 55])\n",
        "print (orig_array_1.shape)"
      ],
      "metadata": {
        "colab": {
          "base_uri": "https://localhost:8080/"
        },
        "id": "0o_Pf_hsJKqb",
        "outputId": "9dd93c07-e8f3-4ebd-d946-1998cc702db0"
      },
      "execution_count": 4,
      "outputs": [
        {
          "output_type": "stream",
          "name": "stdout",
          "text": [
            "(6,)\n"
          ]
        }
      ]
    },
    {
      "cell_type": "code",
      "source": [
        "reshaped_arr_1 = orig_array_1.reshape(3,2)\n",
        "\n",
        "print(reshaped_arr_1)"
      ],
      "metadata": {
        "colab": {
          "base_uri": "https://localhost:8080/"
        },
        "id": "3cSrTpVvMjWr",
        "outputId": "2a3de520-b9ab-4fbf-dd3a-10c4eebb630b"
      },
      "execution_count": 5,
      "outputs": [
        {
          "output_type": "stream",
          "name": "stdout",
          "text": [
            "[[10 32]\n",
            " [36 34]\n",
            " [ 4 55]]\n"
          ]
        }
      ]
    },
    {
      "cell_type": "code",
      "source": [
        "import numpy as np\n",
        "\n",
        "original_array = np.array ([[10,12,34], [40,4,100]])\n",
        "\n",
        "reshaped_array = original_array.reshape (6,)\n",
        "\n",
        "print(original_array)\n",
        "print(reshaped_array)"
      ],
      "metadata": {
        "colab": {
          "base_uri": "https://localhost:8080/"
        },
        "id": "eMWDvoz_CPlc",
        "outputId": "c7449e56-ac34-4d3f-ef98-892150c77d15"
      },
      "execution_count": 15,
      "outputs": [
        {
          "output_type": "stream",
          "name": "stdout",
          "text": [
            "[[ 10  12  34]\n",
            " [ 40   4 100]]\n",
            "[ 10  12  34  40   4 100]\n"
          ]
        }
      ]
    },
    {
      "cell_type": "code",
      "source": [
        "x = np.arange(12, dtype=float)\n",
        "x = x.reshape(4, 3)\n",
        "np.ones_like(x)"
      ],
      "metadata": {
        "colab": {
          "base_uri": "https://localhost:8080/"
        },
        "id": "hq3eiYQLForu",
        "outputId": "965d5255-3681-4ec2-90e8-c94b77b612dd"
      },
      "execution_count": 17,
      "outputs": [
        {
          "output_type": "execute_result",
          "data": {
            "text/plain": [
              "array([[1., 1., 1.],\n",
              "       [1., 1., 1.],\n",
              "       [1., 1., 1.],\n",
              "       [1., 1., 1.]])"
            ]
          },
          "metadata": {},
          "execution_count": 17
        }
      ]
    },
    {
      "cell_type": "code",
      "source": [
        "x = np.array([[1.0,1.0,1.0],[1.0,1.0,1.0],[1.0,1.0,1.0],[1.0,1.0,1.0]])\n",
        "x = x.reshape(4, 3)\n",
        "np.ones_like(x)"
      ],
      "metadata": {
        "colab": {
          "base_uri": "https://localhost:8080/"
        },
        "id": "20yaP_HtFxDZ",
        "outputId": "81963c7d-cc8c-4aa7-f94c-1764ef82f4ba"
      },
      "execution_count": 20,
      "outputs": [
        {
          "output_type": "execute_result",
          "data": {
            "text/plain": [
              "array([[1., 1., 1.],\n",
              "       [1., 1., 1.],\n",
              "       [1., 1., 1.],\n",
              "       [1., 1., 1.]])"
            ]
          },
          "metadata": {},
          "execution_count": 20
        }
      ]
    },
    {
      "cell_type": "code",
      "source": [
        "x = np.arange(12)\n",
        "x = x.reshape(4, 3)\n",
        "np.ones_like(x)"
      ],
      "metadata": {
        "colab": {
          "base_uri": "https://localhost:8080/"
        },
        "id": "05K29phgGA6-",
        "outputId": "cf6fbaa3-5f2d-44fe-b6b5-2fec4789b67a"
      },
      "execution_count": 22,
      "outputs": [
        {
          "output_type": "execute_result",
          "data": {
            "text/plain": [
              "array([[1, 1, 1],\n",
              "       [1, 1, 1],\n",
              "       [1, 1, 1],\n",
              "       [1, 1, 1]])"
            ]
          },
          "metadata": {},
          "execution_count": 22
        }
      ]
    },
    {
      "cell_type": "code",
      "source": [
        "import numpy as np\n",
        "x = np.array ([[1,2,3],[5,6,9]])\n",
        "print (x)\n",
        "reshaped = x.reshape(3,-1)\n",
        "\n",
        "print(reshaped)"
      ],
      "metadata": {
        "colab": {
          "base_uri": "https://localhost:8080/"
        },
        "id": "Hae-oxMrGeBz",
        "outputId": "53b128a8-d172-42ac-c670-c91a7ca393e2"
      },
      "execution_count": 3,
      "outputs": [
        {
          "output_type": "stream",
          "name": "stdout",
          "text": [
            "[[1 2 3]\n",
            " [5 6 9]]\n",
            "[[1 2]\n",
            " [3 5]\n",
            " [6 9]]\n"
          ]
        }
      ]
    },
    {
      "cell_type": "code",
      "source": [
        "import numpy as np\n",
        "\n",
        "array_example = np.array ([[10,32,36,34],\n",
        "                           [125,851,0,-24],\n",
        "                           [56,19,75,20],\n",
        "                           [3,-7,4,2.0]])\n",
        "\n",
        "print(array_example[:, 1])"
      ],
      "metadata": {
        "colab": {
          "base_uri": "https://localhost:8080/"
        },
        "id": "SBzG5iHAlsEh",
        "outputId": "4975f3da-8764-4020-f60b-8d9b3dacc138"
      },
      "execution_count": 1,
      "outputs": [
        {
          "output_type": "stream",
          "name": "stdout",
          "text": [
            "[ 32. 851.  19.  -7.]\n"
          ]
        }
      ]
    },
    {
      "cell_type": "code",
      "source": [
        "condition =  array_example > 40\n",
        "\n",
        "print (condition)"
      ],
      "metadata": {
        "colab": {
          "base_uri": "https://localhost:8080/"
        },
        "id": "1FkCCy-iZr14",
        "outputId": "00e4eae3-0fbf-4cc5-fc69-59ff70517b35"
      },
      "execution_count": 4,
      "outputs": [
        {
          "output_type": "stream",
          "name": "stdout",
          "text": [
            "[[False False False False]\n",
            " [ True  True False False]\n",
            " [ True False  True False]\n",
            " [False False False False]]\n"
          ]
        }
      ]
    },
    {
      "cell_type": "code",
      "source": [
        "print (array_example[condition])"
      ],
      "metadata": {
        "colab": {
          "base_uri": "https://localhost:8080/"
        },
        "id": "bQ-mIQ1ibGWQ",
        "outputId": "a6e98285-5841-4c0c-94db-55af97c1f8c6"
      },
      "execution_count": 6,
      "outputs": [
        {
          "output_type": "stream",
          "name": "stdout",
          "text": [
            "[125. 851.  56.  75.]\n"
          ]
        }
      ]
    },
    {
      "cell_type": "code",
      "source": [
        "import numpy as np\n",
        "\n",
        "a = [[2,4,6,8,10,12,14],\n",
        "     [3,6,9,12,15,18,21],\n",
        "     [4,8,12,16,20,24,28],\n",
        "     [5,10,15,20,25,30,35],\n",
        "     [6,12,18,24,30,36,42],\n",
        "     [7,14,21,28,35,42,49]]\n",
        "\n",
        "b = np.array(a)\n",
        "\n",
        "print (b[0:6,0:7])"
      ],
      "metadata": {
        "colab": {
          "base_uri": "https://localhost:8080/"
        },
        "id": "zIqvnFqjgl5k",
        "outputId": "3f04a748-a121-4852-ae6f-1d837c56cab3"
      },
      "execution_count": 14,
      "outputs": [
        {
          "output_type": "stream",
          "name": "stdout",
          "text": [
            "[[ 2  4  6  8 10 12 14]\n",
            " [ 3  6  9 12 15 18 21]\n",
            " [ 4  8 12 16 20 24 28]\n",
            " [ 5 10 15 20 25 30 35]\n",
            " [ 6 12 18 24 30 36 42]\n",
            " [ 7 14 21 28 35 42 49]]\n"
          ]
        }
      ]
    },
    {
      "cell_type": "code",
      "source": [
        "import numpy as np\n",
        "\n",
        "x = [[ 3, 6, 9, 12],\n",
        "\n",
        "     [15, 18, 21, 24],\n",
        "\n",
        "     [27, 30, 33, 36],\n",
        "\n",
        "     [39, 42, 45, 48],\n",
        "\n",
        "     [51, 54, 57, 60]]\n",
        "\n",
        "y = np.array (x)\n",
        "\n",
        "print (y[::2,1::2])"
      ],
      "metadata": {
        "colab": {
          "base_uri": "https://localhost:8080/"
        },
        "id": "ELCFEfuGoPR6",
        "outputId": "2a2b7eed-f0d6-4685-a928-7ce2a1c3b5c2"
      },
      "execution_count": 23,
      "outputs": [
        {
          "output_type": "stream",
          "name": "stdout",
          "text": [
            "[[ 6 12]\n",
            " [30 36]\n",
            " [54 60]]\n"
          ]
        }
      ]
    },
    {
      "cell_type": "code",
      "source": [
        "import numpy as np\n",
        "\n",
        "Ages = np.array([10, 32, 42, 35, 31, 25, 58, 26, 33, 34, 39, 50, 40, 38, 30, 27, 60, 29])\n",
        "\n",
        "print (Ages)\n",
        "\n",
        "below_25 = Ages <= 25\n",
        "print (len(Ages[below_25]), Ages[below_25])\n",
        "\n",
        "between_25to40 = (Ages >= 25) & (Ages <= 40)\n",
        "print (len(Ages[between_25to40]),Ages[between_25to40])"
      ],
      "metadata": {
        "colab": {
          "base_uri": "https://localhost:8080/"
        },
        "id": "Bpjko4sYp_hU",
        "outputId": "c01ed02a-a626-4cd1-af55-d476d1013715"
      },
      "execution_count": 1,
      "outputs": [
        {
          "output_type": "stream",
          "name": "stdout",
          "text": [
            "[10 32 42 35 31 25 58 26 33 34 39 50 40 38 30 27 60 29]\n",
            "2 [10 25]\n",
            "13 [32 35 31 25 26 33 34 39 40 38 30 27 29]\n"
          ]
        }
      ]
    },
    {
      "cell_type": "code",
      "source": [
        "import numpy as np\n",
        "\n",
        "array_multiID = np.array([[100, 14, 76, 54],\n",
        "                         [125, 81, 0, -24],\n",
        "                         [566, 159, 175, 20],\n",
        "                         [38, -47, 84, 22.0]], dtype = int)\n",
        "\n",
        "print(array_multiID[1])\n",
        "\n",
        "array_multiID [1] = 5\n",
        "print(array_multiID[1])\n",
        "print(array_multiID)"
      ],
      "metadata": {
        "colab": {
          "base_uri": "https://localhost:8080/"
        },
        "id": "6pQT9qkOsPCO",
        "outputId": "27cfdd36-5a05-4547-c9c2-93568dec3188"
      },
      "execution_count": 1,
      "outputs": [
        {
          "output_type": "stream",
          "name": "stdout",
          "text": [
            "[125  81   0 -24]\n",
            "[5 5 5 5]\n",
            "[[100  14  76  54]\n",
            " [  5   5   5   5]\n",
            " [566 159 175  20]\n",
            " [ 38 -47  84  22]]\n"
          ]
        }
      ]
    },
    {
      "cell_type": "code",
      "source": [
        "import numpy as np\n",
        "\n",
        "## 'student_name',  'subject_a',  'subject_b',  'subject_c',  'subject_d',  'subject_e'\n",
        "#     1                 2             3             4             5             6\n",
        "\n",
        "student_array = np.array ([['student_1', 59, 64, 94, 87,81],\n",
        "                           ['student_2', 8, 56, 18, 58, 69],\n",
        "                           ['student_3', 7, 20, 60, 63, 64],\n",
        "                           ['student_4', 71, 94, 71, 68, 13],\n",
        "                           ['student_5', 89, 1, 16, 33, 40],\n",
        "                           ['student_6', 4, 25, 48, 41, 84],\n",
        "                           ['student_7', 3, 79, 46, 9, 71],\n",
        "                           ['student_8', 87, 77, 75, 15, 69],\n",
        "                           ['student_9', 61, 1, 48, 98, 23],\n",
        "                           ['student_10', 98, 60, 24, 66, 56],\n",
        "                           ['student_11', 58, 12, 75, 7, 98],\n",
        "                           ['student_12', 23, 62, 6, 35, 37],\n",
        "                           ['student_13', 14, 25, 87, 56, 8],\n",
        "                           ['student_14', 68, 1, 81, 11, 61],\n",
        "                           ['student_15', 11, 69, 35, 17, 66]], dtype = object)\n",
        "\n",
        "print(student_array)"
      ],
      "metadata": {
        "colab": {
          "base_uri": "https://localhost:8080/"
        },
        "id": "lLZ18Tp9jW8h",
        "outputId": "cac77305-9745-42f2-8933-a27ba218c9e4"
      },
      "execution_count": 2,
      "outputs": [
        {
          "output_type": "stream",
          "name": "stdout",
          "text": [
            "[['student_1' 59 64 94 87 81]\n",
            " ['student_2' 8 56 18 58 69]\n",
            " ['student_3' 7 20 60 63 64]\n",
            " ['student_4' 71 94 71 68 13]\n",
            " ['student_5' 89 1 16 33 40]\n",
            " ['student_6' 4 25 48 41 84]\n",
            " ['student_7' 3 79 46 9 71]\n",
            " ['student_8' 87 77 75 15 69]\n",
            " ['student_9' 61 1 48 98 23]\n",
            " ['student_10' 98 60 24 66 56]\n",
            " ['student_11' 58 12 75 7 98]\n",
            " ['student_12' 23 62 6 35 37]\n",
            " ['student_13' 14 25 87 56 8]\n",
            " ['student_14' 68 1 81 11 61]\n",
            " ['student_15' 11 69 35 17 66]]\n"
          ]
        }
      ]
    },
    {
      "cell_type": "code",
      "source": [
        "# Number of students who have scored higher in subject_a than subject_b\n",
        "\n",
        "print(\"subject_a score of allstudents :\", student_array[:, 1])\n",
        "print(\"subject_b score of allstudents :\", student_array[:, 2])\n",
        "\n",
        "Higher_Score_in_A = student_array[:,1] > student_array[:,2]\n",
        "\n",
        "print(student_array[Higher_Score_in_A][:,0:3])\n",
        "print(len(student_array[Higher_Score_in_A]))"
      ],
      "metadata": {
        "colab": {
          "base_uri": "https://localhost:8080/"
        },
        "id": "h-5fSlFR0sVN",
        "outputId": "0ab73724-e393-4c50-97ee-cd50afcf41e6"
      },
      "execution_count": 9,
      "outputs": [
        {
          "output_type": "stream",
          "name": "stdout",
          "text": [
            "subject_a score of allstudents : [59 8 7 71 89 4 3 87 61 98 58 23 14 68 11]\n",
            "subject_b score of allstudents : [64 56 20 94 1 25 79 77 1 60 12 62 25 1 69]\n",
            "[['student_5' 89 1]\n",
            " ['student_8' 87 77]\n",
            " ['student_9' 61 1]\n",
            " ['student_10' 98 60]\n",
            " ['student_11' 58 12]\n",
            " ['student_14' 68 1]]\n",
            "6\n"
          ]
        }
      ]
    },
    {
      "cell_type": "code",
      "source": [
        "## Average score of subject_a and subject_b\n",
        "print(\"Average score of Subject A: \",student_array[:, 1].mean())\n",
        "print(\"Average score of Subject B: \",student_array[:, 2].mean())"
      ],
      "metadata": {
        "colab": {
          "base_uri": "https://localhost:8080/"
        },
        "id": "-2T9c7_6OkRg",
        "outputId": "25004dd0-9cc8-479e-ea1a-006123c0e870"
      },
      "execution_count": 13,
      "outputs": [
        {
          "output_type": "stream",
          "name": "stdout",
          "text": [
            "Average score of Subject A:  44.06666666666667\n",
            "Average score of Subject B:  43.06666666666667\n"
          ]
        }
      ]
    },
    {
      "cell_type": "code",
      "source": [
        "sum(student_array[:, 1] > student_array[:, 2])"
      ],
      "metadata": {
        "colab": {
          "base_uri": "https://localhost:8080/"
        },
        "id": "aIyPRMIOTntY",
        "outputId": "39968811-64f2-437d-b107-710935dd7eb2"
      },
      "execution_count": 15,
      "outputs": [
        {
          "output_type": "execute_result",
          "data": {
            "text/plain": [
              "6"
            ]
          },
          "metadata": {},
          "execution_count": 15
        }
      ]
    },
    {
      "cell_type": "code",
      "source": [
        "# Average score in subject_a\n",
        "\n",
        "Sub_A = student_array[:, 1]\n",
        "Sub_A\n",
        "Total_Score = sum(student_array[:,1])\n",
        "Total_Score\n",
        "Student_Count = len(student_array)\n",
        "Student_Count\n",
        "Average_Score_A = Total_Score/Student_Count\n",
        "Average_Score_A"
      ],
      "metadata": {
        "colab": {
          "base_uri": "https://localhost:8080/"
        },
        "id": "_IF5okg1T7kK",
        "outputId": "3912dd2d-af24-41f0-938e-494619fb743a"
      },
      "execution_count": 20,
      "outputs": [
        {
          "output_type": "execute_result",
          "data": {
            "text/plain": [
              "44.06666666666667"
            ]
          },
          "metadata": {},
          "execution_count": 20
        }
      ]
    },
    {
      "cell_type": "code",
      "source": [
        "# Number of students who have scored higher than student_15 in both subject A & B\n",
        "\n",
        "Student_15_A = student_array[14, 1]\n",
        "Student_15_B = student_array[14, 2]\n",
        "\n",
        "print(Student_15_A)\n",
        "print(Student_15_B)\n",
        "\n",
        "Rest_Student_A = student_array [0:14, 1]\n",
        "Rest_Student_B = student_array [0:14, 2]\n",
        "\n",
        "print(Rest_Student_A)\n",
        "print(Rest_Student_B)\n",
        "\n",
        "Student_Count = (Rest_Student_A > Student_15_A) & (Rest_Student_B > Student_15_B)\n",
        "\n",
        "Result = sum(Student_Count)\n",
        "\n",
        "print (\"Number of students who have scored higher than student_15 in both subject A & B:\", Result)\n",
        "\n",
        "print(student_array[0:14][Student_Count][:, 0:3])\n"
      ],
      "metadata": {
        "colab": {
          "base_uri": "https://localhost:8080/"
        },
        "id": "G4bv_uzNYJ8j",
        "outputId": "08a063c4-d928-423d-c4b5-6d90e5a5f3fb"
      },
      "execution_count": 3,
      "outputs": [
        {
          "output_type": "stream",
          "name": "stdout",
          "text": [
            "11\n",
            "69\n",
            "[59 8 7 71 89 4 3 87 61 98 58 23 14 68]\n",
            "[64 56 20 94 1 25 79 77 1 60 12 62 25 1]\n",
            "Number of students who have scored higher than student_15 in both subject A & B: 2\n",
            "[['student_4' 71 94]\n",
            " ['student_8' 87 77]]\n"
          ]
        }
      ]
    },
    {
      "cell_type": "code",
      "source": [
        "## What is the average of total marks scored by student 4 to 10\n",
        "\n",
        "Student_4_10 = student_array [3:10, 1:6]\n",
        "\n",
        "Total_Marks = Student_4_10.sum(axis = 1)\n",
        "\n",
        "Average_Marks = Total_Marks.mean()\n",
        "\n",
        "print(Total_Marks, Average_Marks, sep =\" - \")\n"
      ],
      "metadata": {
        "colab": {
          "base_uri": "https://localhost:8080/"
        },
        "id": "TxnREJpvdMfe",
        "outputId": "9fb23afa-0378-442a-a09f-65b731ebc303"
      },
      "execution_count": 19,
      "outputs": [
        {
          "output_type": "stream",
          "name": "stdout",
          "text": [
            "[317 179 202 208 323 231 304] - 252.0\n"
          ]
        }
      ]
    },
    {
      "cell_type": "code",
      "source": [
        "from numpy.core.multiarray import where\n",
        "## Count the number of who scored more than 20 in subject A\n",
        "\n",
        "Score_A = student_array [:, 1]\n",
        "\n",
        "Student_with_morethan_20  = Score_A > 20\n",
        "\n",
        "Count = where(Student_with_morethan_20)\n",
        "\n",
        "print(Count)\n",
        "print(sum(Student_with_morethan_20))\n"
      ],
      "metadata": {
        "colab": {
          "base_uri": "https://localhost:8080/"
        },
        "id": "s8zrLemvHpYd",
        "outputId": "5e1eedc0-928a-42ed-87fb-b1aa8d8e33b5"
      },
      "execution_count": 17,
      "outputs": [
        {
          "output_type": "stream",
          "name": "stdout",
          "text": [
            "(array([ 0,  3,  4,  7,  8,  9, 10, 11, 13]),)\n",
            "9\n"
          ]
        }
      ]
    },
    {
      "cell_type": "code",
      "source": [
        "## If any student get less than 20 in sub_a then make it 35 for passing.\n",
        "\n",
        "sub_a = student_array [:, 1]\n",
        "\n",
        "new_score = where(sub_a < 20, 35, sub_a)\n",
        "\n",
        "new_score"
      ],
      "metadata": {
        "colab": {
          "base_uri": "https://localhost:8080/"
        },
        "id": "ca4xQrIF5gtc",
        "outputId": "59fa1466-cfff-44cb-e58a-256dcd2bd247"
      },
      "execution_count": 21,
      "outputs": [
        {
          "output_type": "execute_result",
          "data": {
            "text/plain": [
              "array([59, 35, 35, 71, 89, 35, 35, 87, 61, 98, 58, 23, 35, 68, 35],\n",
              "      dtype=object)"
            ]
          },
          "metadata": {},
          "execution_count": 21
        }
      ]
    },
    {
      "cell_type": "code",
      "source": [
        "a = np.unique(student_array[:, 1:], return_index = True)\n",
        "\n",
        "a"
      ],
      "metadata": {
        "colab": {
          "base_uri": "https://localhost:8080/"
        },
        "id": "hRfj0CfdKkvX",
        "outputId": "64c327e6-1fb3-4868-ff5b-2bda6f0949b4"
      },
      "execution_count": 32,
      "outputs": [
        {
          "output_type": "execute_result",
          "data": {
            "text/plain": [
              "(array([1, 3, 4, 6, 7, 8, 9, 11, 12, 13, 14, 15, 16, 17, 18, 20, 23, 24,\n",
              "        25, 33, 35, 37, 40, 41, 46, 48, 56, 58, 59, 60, 61, 62, 63, 64, 66,\n",
              "        68, 69, 71, 75, 77, 79, 81, 84, 87, 89, 94, 98], dtype=object),\n",
              " array([21, 30, 25, 57, 10,  5, 33, 68, 51, 19, 60, 38, 22, 73,  7, 11, 44,\n",
              "        47, 26, 23, 58, 59, 24, 28, 32, 27,  6,  8,  0, 12, 40, 56, 13,  1,\n",
              "        48, 18,  9, 15, 37, 36, 31,  4, 29,  3, 20,  2, 43]))"
            ]
          },
          "metadata": {},
          "execution_count": 32
        }
      ]
    },
    {
      "cell_type": "code",
      "source": [
        "np.arange(3) + 5"
      ],
      "metadata": {
        "colab": {
          "base_uri": "https://localhost:8080/"
        },
        "id": "7Gu3R19Ml0Uc",
        "outputId": "f30dc40f-a865-4211-9080-32732b51adef"
      },
      "execution_count": 35,
      "outputs": [
        {
          "output_type": "execute_result",
          "data": {
            "text/plain": [
              "array([5, 6, 7])"
            ]
          },
          "metadata": {},
          "execution_count": 35
        }
      ]
    },
    {
      "cell_type": "code",
      "source": [
        "import numpy as np\n",
        "\n",
        "banking_array = np.array([[30.0, 'unemployed', 'married', 1787.0, 'no', 'no', 'cellular','oct'],\n",
        "\n",
        "       [33.0, 'services', 'married', 4789.0, 'yes', 'yes', 'cellular','may'],\n",
        "\n",
        "       [35.0, 'management', 'single', 1350.0, 'yes', 'no', 'cellular','apr'],\n",
        "\n",
        "       [30.0, 'management', 'married', 1476.0, 'yes', 'yes', 'unknown','jun'],\n",
        "\n",
        "       [59.0, 'blue-collar', 'married', 0.0, 'yes', 'no', 'unknown','may'],\n",
        "\n",
        "       [35.0, 'management', 'single', 747.0, 'no', 'no', 'cellular','feb'],\n",
        "\n",
        "       [36.0, 'self-employed', 'married', 307.0, 'yes', 'no', 'cellular','may'],\n",
        "\n",
        "       [39.0, 'technician', 'married', 147.0, 'yes', 'no', 'cellular','may'],\n",
        "\n",
        "       [41.0, 'entrepreneur', 'married', 221.0, 'yes', 'no', 'unknown','may'],\n",
        "\n",
        "       [43.0, 'services', 'married', -88.0, 'yes', 'yes', 'cellular','apr'],\n",
        "\n",
        "       [39.0, 'services', 'married', 9374.0, 'yes', 'no', 'unknown','may'],\n",
        "\n",
        "       [43.0, 'admin.', 'married', 264.0, 'yes', 'no', 'cellular', 'apr'],\n",
        "\n",
        "       [36.0, 'technician', 'married', 1109.0, 'no', 'no', 'cellular','aug'],\n",
        "\n",
        "       [20.0, 'student', 'single', 502.0, 'no', 'no', 'cellular', 'apr'],\n",
        "\n",
        "       [31.0, 'blue-collar', 'married', 360.0, 'yes', 'yes', 'cellular','jan'],\n",
        "\n",
        "       [40.0, 'management', 'married', 194.0, 'no', 'yes', 'cellular','aug'],\n",
        "\n",
        "       [56.0, 'technician', 'married', 4073.0, 'no', 'no', 'cellular','aug'],\n",
        "\n",
        "       [37.0, 'admin.', 'single', 2317.0, 'yes', 'no', 'cellular', 'apr'],\n",
        "\n",
        "       [25.0, 'blue-collar', 'single', -221.0, 'yes', 'no', 'unknown','may'],\n",
        "\n",
        "       [31.0, 'services', 'married', 132.0, 'no', 'no', 'cellular','jul']], dtype=object)\n",
        "\n",
        "print(banking_array)"
      ],
      "metadata": {
        "colab": {
          "base_uri": "https://localhost:8080/"
        },
        "id": "wxtFv-10slEj",
        "outputId": "454013a3-3e21-457f-a7e4-fa7121b76fee"
      },
      "execution_count": 2,
      "outputs": [
        {
          "output_type": "stream",
          "name": "stdout",
          "text": [
            "[[30.0 'unemployed' 'married' 1787.0 'no' 'no' 'cellular' 'oct']\n",
            " [33.0 'services' 'married' 4789.0 'yes' 'yes' 'cellular' 'may']\n",
            " [35.0 'management' 'single' 1350.0 'yes' 'no' 'cellular' 'apr']\n",
            " [30.0 'management' 'married' 1476.0 'yes' 'yes' 'unknown' 'jun']\n",
            " [59.0 'blue-collar' 'married' 0.0 'yes' 'no' 'unknown' 'may']\n",
            " [35.0 'management' 'single' 747.0 'no' 'no' 'cellular' 'feb']\n",
            " [36.0 'self-employed' 'married' 307.0 'yes' 'no' 'cellular' 'may']\n",
            " [39.0 'technician' 'married' 147.0 'yes' 'no' 'cellular' 'may']\n",
            " [41.0 'entrepreneur' 'married' 221.0 'yes' 'no' 'unknown' 'may']\n",
            " [43.0 'services' 'married' -88.0 'yes' 'yes' 'cellular' 'apr']\n",
            " [39.0 'services' 'married' 9374.0 'yes' 'no' 'unknown' 'may']\n",
            " [43.0 'admin.' 'married' 264.0 'yes' 'no' 'cellular' 'apr']\n",
            " [36.0 'technician' 'married' 1109.0 'no' 'no' 'cellular' 'aug']\n",
            " [20.0 'student' 'single' 502.0 'no' 'no' 'cellular' 'apr']\n",
            " [31.0 'blue-collar' 'married' 360.0 'yes' 'yes' 'cellular' 'jan']\n",
            " [40.0 'management' 'married' 194.0 'no' 'yes' 'cellular' 'aug']\n",
            " [56.0 'technician' 'married' 4073.0 'no' 'no' 'cellular' 'aug']\n",
            " [37.0 'admin.' 'single' 2317.0 'yes' 'no' 'cellular' 'apr']\n",
            " [25.0 'blue-collar' 'single' -221.0 'yes' 'no' 'unknown' 'may']\n",
            " [31.0 'services' 'married' 132.0 'no' 'no' 'cellular' 'jul']]\n"
          ]
        }
      ]
    },
    {
      "cell_type": "code",
      "source": [
        "## What is the total bank balance of the first 5 records from the data?\n",
        "first_5 = banking_array[0:5, 3]\n",
        "\n",
        "Bank_balance = sum (first_5)\n",
        "print(Bank_balance)\n",
        "\n",
        "## What is the average bank balance?\n",
        "\n",
        "All_bal= banking_array [:, 3]\n",
        "\n",
        "Average = All_bal.mean()\n",
        "print(Average)\n"
      ],
      "metadata": {
        "colab": {
          "base_uri": "https://localhost:8080/"
        },
        "id": "PrczFFV-s1xs",
        "outputId": "e54e64b9-0a30-4f8e-bb4a-0ee82cd20ccc"
      },
      "execution_count": 48,
      "outputs": [
        {
          "output_type": "stream",
          "name": "stdout",
          "text": [
            "9402.0\n",
            "1442.0\n"
          ]
        }
      ]
    },
    {
      "cell_type": "code",
      "source": [
        "## Count the number of people who has a housing?\n",
        "\n",
        "Housing = banking_array [:, 4]\n",
        "\n",
        "Count = sum(Housing == 'yes')\n",
        "Count"
      ],
      "metadata": {
        "colab": {
          "base_uri": "https://localhost:8080/"
        },
        "id": "cAMdJR_8uvN0",
        "outputId": "76611e77-c426-47c4-8884-316a145a1523"
      },
      "execution_count": 4,
      "outputs": [
        {
          "output_type": "execute_result",
          "data": {
            "text/plain": [
              "13"
            ]
          },
          "metadata": {},
          "execution_count": 4
        }
      ]
    },
    {
      "cell_type": "code",
      "source": [
        "## Count the number of people who has a loan?\n",
        "\n",
        "Loan = banking_array[:, 5]\n",
        "\n",
        "Count_Loan = np.where(Loan == 'yes', 1, 0)\n",
        "Total = sum(Count_Loan)\n",
        "\n",
        "Total"
      ],
      "metadata": {
        "colab": {
          "base_uri": "https://localhost:8080/"
        },
        "id": "-XJHYzwU_Irs",
        "outputId": "52676987-f0d1-4bdc-bf24-df2f687e41d7"
      },
      "execution_count": 9,
      "outputs": [
        {
          "output_type": "execute_result",
          "data": {
            "text/plain": [
              "5"
            ]
          },
          "metadata": {},
          "execution_count": 9
        }
      ]
    },
    {
      "cell_type": "code",
      "source": [
        "## No of people who have a \"cellular\" contact and also \"married\" and hold a \"management\" job?\n",
        "\n",
        "Job = banking_array [:, 1]\n",
        "Married = banking_array [:, 2]\n",
        "Contact = banking_array[:, 6]\n",
        "\n",
        "Cond = np.where ((Job == 'management') & (Married == 'married') & (Contact == 'cellular'), 1, 0)\n",
        "\n",
        "Total = sum(Cond)\n",
        "Total"
      ],
      "metadata": {
        "colab": {
          "base_uri": "https://localhost:8080/"
        },
        "id": "OEXGV83jVwDu",
        "outputId": "fbfe9721-5218-45b7-94f1-082d8d7908ef"
      },
      "execution_count": 3,
      "outputs": [
        {
          "output_type": "execute_result",
          "data": {
            "text/plain": [
              "1"
            ]
          },
          "metadata": {},
          "execution_count": 3
        }
      ]
    },
    {
      "cell_type": "code",
      "source": [
        "## Find the total balance of the customers aged between 25 and 40(both inclusive).\n",
        "\n",
        "Age = banking_array [:, 0]\n",
        "Balance = banking_array[:, 3]\n",
        "\n",
        "Cond = np.where((Age >= 25) & (Age <= 40), Balance, 0)\n",
        "Total_Balance = sum(Cond)\n",
        "\n",
        "Total_Balance"
      ],
      "metadata": {
        "colab": {
          "base_uri": "https://localhost:8080/"
        },
        "id": "D5OXBTtH3Hdx",
        "outputId": "5cfffd87-9300-460d-9edd-1d139798c97c"
      },
      "execution_count": 9,
      "outputs": [
        {
          "output_type": "execute_result",
          "data": {
            "text/plain": [
              "23868.0"
            ]
          },
          "metadata": {},
          "execution_count": 9
        }
      ]
    },
    {
      "cell_type": "code",
      "source": [
        "## No of people who are single but have more than average bank balance?\n",
        "\n",
        "Status = banking_array [:, 2]\n",
        "Average_Balance = np.mean(banking_array[:,3])\n",
        "\n",
        "Cond = np.where ((Status == 'single') & (banking_array[:,3]> Average_Balance), 1, 0)\n",
        "Count = sum(Cond)\n",
        "Count"
      ],
      "metadata": {
        "colab": {
          "base_uri": "https://localhost:8080/"
        },
        "id": "pCcpPcsC8Jtb",
        "outputId": "3751735a-36ea-46fc-fa12-1a33a0f7b397"
      },
      "execution_count": 14,
      "outputs": [
        {
          "output_type": "execute_result",
          "data": {
            "text/plain": [
              "1"
            ]
          },
          "metadata": {},
          "execution_count": 14
        }
      ]
    },
    {
      "cell_type": "code",
      "source": [
        "## No of people who had a loan and housing?\n",
        "\n",
        "Count = np.where ((banking_array [:, 4] == 'yes') & (banking_array [:, 5] == 'yes'), 1, 0)\n",
        "\n",
        "Count.sum()"
      ],
      "metadata": {
        "colab": {
          "base_uri": "https://localhost:8080/"
        },
        "id": "wdLIUO3w9v2w",
        "outputId": "2d1f9697-c3d4-4733-f830-14c59a39db4b"
      },
      "execution_count": 42,
      "outputs": [
        {
          "output_type": "execute_result",
          "data": {
            "text/plain": [
              "4"
            ]
          },
          "metadata": {},
          "execution_count": 42
        }
      ]
    },
    {
      "cell_type": "markdown",
      "source": [
        "## Company has decided to give a bonus of 5% of their account balance to those account holders whose age is more than or equal to 55 years and whose account balance is more than 2000. Calculate the sum of the total bank balance to the account holders(mentioned above) after crediting their bonus amount."
      ],
      "metadata": {
        "id": "cVok24tTI6Qk"
      }
    },
    {
      "cell_type": "code",
      "source": [
        "from typing import Final\n",
        "Age = banking_array [:,0]\n",
        "Age\n",
        "Balance = banking_array[:,3]\n",
        "\n",
        "Cond = np.where ((Age >= 55) & (Balance > 2000), Balance, 0)\n",
        "Final_Bal = Cond*1.05\n",
        "Final_Bal.sum()"
      ],
      "metadata": {
        "colab": {
          "base_uri": "https://localhost:8080/"
        },
        "id": "IC8SdZqzI_kX",
        "outputId": "972eb445-de1c-4819-f5b3-83d328685ae9"
      },
      "execution_count": 48,
      "outputs": [
        {
          "output_type": "execute_result",
          "data": {
            "text/plain": [
              "4276.650000000001"
            ]
          },
          "metadata": {},
          "execution_count": 48
        }
      ]
    },
    {
      "cell_type": "code",
      "source": [
        "a = np.array([17, 11, 19]) # 1x3 Dimension array\n",
        "b = 3\n",
        "c = a + b\n",
        "c"
      ],
      "metadata": {
        "colab": {
          "base_uri": "https://localhost:8080/"
        },
        "id": "xUq59NMvcVnu",
        "outputId": "e4cdf408-caf8-493c-ad3a-c93c48bf9148"
      },
      "execution_count": 51,
      "outputs": [
        {
          "output_type": "execute_result",
          "data": {
            "text/plain": [
              "array([20, 14, 22])"
            ]
          },
          "metadata": {},
          "execution_count": 51
        }
      ]
    }
  ]
}