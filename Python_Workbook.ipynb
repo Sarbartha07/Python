{
  "nbformat": 4,
  "nbformat_minor": 0,
  "metadata": {
    "colab": {
      "provenance": [],
      "include_colab_link": true
    },
    "kernelspec": {
      "name": "python3",
      "display_name": "Python 3"
    },
    "language_info": {
      "name": "python"
    }
  },
  "cells": [
    {
      "cell_type": "markdown",
      "metadata": {
        "id": "view-in-github",
        "colab_type": "text"
      },
      "source": [
        "<a href=\"https://colab.research.google.com/github/Sarbartha07/Python/blob/main/Python_Workbook.ipynb\" target=\"_parent\"><img src=\"https://colab.research.google.com/assets/colab-badge.svg\" alt=\"Open In Colab\"/></a>"
      ]
    },
    {
      "cell_type": "markdown",
      "source": [
        "# Numbers"
      ],
      "metadata": {
        "id": "cwiFlZd1VO16"
      }
    },
    {
      "cell_type": "markdown",
      "source": [
        "## Q\n",
        "\n",
        "Explain why this error happened.\n",
        "\n",
        "*Add reasoning in your notebook that you share with us. Mentors will review your explanation and share comments.*"
      ],
      "metadata": {
        "id": "sOahTD6uVDef"
      }
    },
    {
      "cell_type": "code",
      "source": [
        "minutes\n",
        "minutes = 30"
      ],
      "metadata": {
        "colab": {
          "base_uri": "https://localhost:8080/",
          "height": 183
        },
        "id": "JxSZNr4CVEDk",
        "outputId": "9668ffb3-5291-48a6-a39f-3cd9b799a354"
      },
      "execution_count": null,
      "outputs": [
        {
          "output_type": "error",
          "ename": "NameError",
          "evalue": "ignored",
          "traceback": [
            "\u001b[0;31m---------------------------------------------------------------------------\u001b[0m",
            "\u001b[0;31mNameError\u001b[0m                                 Traceback (most recent call last)",
            "\u001b[0;32m<ipython-input-1-ad5c55410d44>\u001b[0m in \u001b[0;36m<module>\u001b[0;34m\u001b[0m\n\u001b[0;32m----> 1\u001b[0;31m \u001b[0mminutes\u001b[0m\u001b[0;34m\u001b[0m\u001b[0;34m\u001b[0m\u001b[0m\n\u001b[0m\u001b[1;32m      2\u001b[0m \u001b[0mminutes\u001b[0m \u001b[0;34m=\u001b[0m \u001b[0;36m30\u001b[0m\u001b[0;34m\u001b[0m\u001b[0;34m\u001b[0m\u001b[0m\n",
            "\u001b[0;31mNameError\u001b[0m: name 'minutes' is not defined"
          ]
        }
      ]
    },
    {
      "cell_type": "code",
      "source": [
        "## The code is giving error as the value assigned to the variable after calling that variable"
      ],
      "metadata": {
        "id": "vhVpHTVpbL_x"
      },
      "execution_count": null,
      "outputs": []
    },
    {
      "cell_type": "markdown",
      "source": [
        "## Q\n",
        "Select the code which will generate output as shown below,\n",
        "\n",
        "```\n",
        "a = 13\n",
        "b = 6.5\n",
        "\n",
        "print(\"Output 1: \", ...)\n",
        "print(\"Output 2: \", ...)\n",
        "print(\"Output 3: \", ...)\n",
        "\n",
        "Expected output:\n",
        "Output 1:  2.0\n",
        "Output 2:  2.1666666666666665\n",
        "Output 3:  2\n",
        "```\n"
      ],
      "metadata": {
        "id": "t-BxQ7j8VZhi"
      }
    },
    {
      "cell_type": "code",
      "source": [
        "a = 13\n",
        "b = 6.5\n",
        "\n",
        "print (\"Output 1:\", a/b)\n",
        "print (\"Output 2:\", a/int (b) )\n",
        "print (\"Output 3:\", int (a/b))"
      ],
      "metadata": {
        "id": "QA09gUErCbn6",
        "outputId": "1e255b66-7e3f-49b8-fe54-65af5e00156a",
        "colab": {
          "base_uri": "https://localhost:8080/"
        }
      },
      "execution_count": null,
      "outputs": [
        {
          "output_type": "stream",
          "name": "stdout",
          "text": [
            "Output 1: 2.0\n",
            "Output 2: 2.1666666666666665\n",
            "Output 3: 2\n"
          ]
        }
      ]
    },
    {
      "cell_type": "markdown",
      "source": [
        "# Loops - For"
      ],
      "metadata": {
        "id": "me605N26WcmW"
      }
    },
    {
      "cell_type": "markdown",
      "source": [
        "## Q\n",
        "\n",
        "Print the following output using for loop.\n",
        "\n",
        "```\n",
        "Expected Output:\n",
        "1-4-7-10-Stop\n",
        "```"
      ],
      "metadata": {
        "id": "7YjWM9okWfuv"
      }
    },
    {
      "cell_type": "code",
      "source": [
        "print(1,4,7,10,\"Stop\", sep = \"-\")"
      ],
      "metadata": {
        "id": "rrCoy0anW-Qd",
        "colab": {
          "base_uri": "https://localhost:8080/"
        },
        "outputId": "de6f1ab7-ca97-4d32-f3bd-14f530bd38dd"
      },
      "execution_count": null,
      "outputs": [
        {
          "output_type": "stream",
          "name": "stdout",
          "text": [
            "1-4-7-10-Stop\n"
          ]
        }
      ]
    },
    {
      "cell_type": "markdown",
      "source": [
        "## Q\n",
        "\n",
        "Write a program to iterate the first ten numbers and print the sum of the current and previous numbers in each iteration.\n",
        "\n",
        "```\n",
        "Expected Output:\n",
        "Printing current and previous number and their sum in a range(10)\n",
        "Current Number 1 Previous Number  0  Sum:  1\n",
        "Current Number 2 Previous Number  1  Sum:  3\n",
        "Current Number 3 Previous Number  2  Sum:  5\n",
        "Current Number 4 Previous Number  3  Sum:  7\n",
        "Current Number 5 Previous Number  4  Sum:  9\n",
        "Current Number 6 Previous Number  5  Sum:  11\n",
        "Current Number 7 Previous Number  6  Sum:  13\n",
        "Current Number 8 Previous Number  7  Sum:  15\n",
        "Current Number 9 Previous Number  8  Sum:  17\n",
        "Current Number 10 Previous Number  9  Sum:  19\n",
        "```\n"
      ],
      "metadata": {
        "id": "HqMnrNdNWoHQ"
      }
    },
    {
      "cell_type": "code",
      "source": [
        "for a in range (0,10) :\n",
        "  sum = a + (a+1)\n",
        "  print (\"Current number\", a+1, \"Previous Number\", a, \"Sum\", sum)"
      ],
      "metadata": {
        "id": "_XK5I5rwW_An",
        "colab": {
          "base_uri": "https://localhost:8080/"
        },
        "outputId": "289eb0fa-a47a-4770-e64d-ad24d22b5caf"
      },
      "execution_count": null,
      "outputs": [
        {
          "output_type": "stream",
          "name": "stdout",
          "text": [
            "Current number 1 Previous Number 0 Sum 1\n",
            "Current number 2 Previous Number 1 Sum 3\n",
            "Current number 3 Previous Number 2 Sum 5\n",
            "Current number 4 Previous Number 3 Sum 7\n",
            "Current number 5 Previous Number 4 Sum 9\n",
            "Current number 6 Previous Number 5 Sum 11\n",
            "Current number 7 Previous Number 6 Sum 13\n",
            "Current number 8 Previous Number 7 Sum 15\n",
            "Current number 9 Previous Number 8 Sum 17\n",
            "Current number 10 Previous Number 9 Sum 19\n"
          ]
        }
      ]
    },
    {
      "cell_type": "markdown",
      "source": [
        "## Q\n",
        "\n",
        "Print the following pattern,\n",
        "\n",
        "```\n",
        "*\n",
        "* *\n",
        "* * *\n",
        "* * * *\n",
        "* * * * *\n",
        "```"
      ],
      "metadata": {
        "id": "qLp2LiJmWx2o"
      }
    },
    {
      "cell_type": "code",
      "source": [
        "for a in range (1, 6) :\n",
        "  for b in range (1, a+1) :\n",
        "   print (\"*\", end = \" \")\n",
        "  print()"
      ],
      "metadata": {
        "id": "PtNo1ESoVL2l",
        "colab": {
          "base_uri": "https://localhost:8080/"
        },
        "outputId": "80027610-a308-4584-b749-8dd3e128c9d9"
      },
      "execution_count": null,
      "outputs": [
        {
          "output_type": "stream",
          "name": "stdout",
          "text": [
            "* \n",
            "* * \n",
            "* * * \n",
            "* * * * \n",
            "* * * * * \n"
          ]
        }
      ]
    },
    {
      "cell_type": "markdown",
      "source": [
        "## Q\n",
        "\n",
        "Fix the following code to print the pattern as requested,\n",
        "\n",
        "The highlighted yellow part is a **blank space**.\n",
        "\n",
        "It should print the pattern as follow (the first line should not be empty)\n",
        "\n",
        "\n",
        "```\n",
        "*\n",
        "**\n",
        "***\n",
        "****\n",
        "*****\n",
        "```"
      ],
      "metadata": {
        "id": "Hr8lLj7sWSCT"
      }
    },
    {
      "cell_type": "code",
      "source": [
        "for i in range(1,6):\n",
        "  print('*' * i)"
      ],
      "metadata": {
        "colab": {
          "base_uri": "https://localhost:8080/"
        },
        "id": "S0u4_0jgWjNE",
        "outputId": "48ee3074-c6e9-4b81-bc71-2c453a57674d"
      },
      "execution_count": null,
      "outputs": [
        {
          "output_type": "stream",
          "name": "stdout",
          "text": [
            "*\n",
            "**\n",
            "***\n",
            "****\n",
            "*****\n"
          ]
        }
      ]
    },
    {
      "cell_type": "markdown",
      "source": [
        "## Q\n",
        "\n",
        "Fix the following code to print the pattern as requested.\n",
        "\n",
        "It should print the following pattern,\n",
        "```\n",
        "1234512345123451234512345\n",
        "```"
      ],
      "metadata": {
        "id": "j2tRuiQ8W4tf"
      }
    },
    {
      "cell_type": "code",
      "source": [
        "for a in range(1, 6) :\n",
        "  for b in range (1,6) :\n",
        "    print(b, end =\"\")"
      ],
      "metadata": {
        "colab": {
          "base_uri": "https://localhost:8080/"
        },
        "id": "q9fPrzEqW7ck",
        "outputId": "839139c8-5c96-4cdf-951d-7534091a3886"
      },
      "execution_count": null,
      "outputs": [
        {
          "output_type": "stream",
          "name": "stdout",
          "text": [
            "1234512345123451234512345"
          ]
        }
      ]
    },
    {
      "cell_type": "markdown",
      "source": [
        "## Q\n",
        "\n",
        "Fix the following code to print the pattern as requested.\n",
        "\n",
        "It should print the following pattern,\n",
        "\n",
        "```\n",
        "12345\n",
        "12345\n",
        "12345\n",
        "12345\n",
        "12345\n",
        "```"
      ],
      "metadata": {
        "id": "Aka5SGJiXMGp"
      }
    },
    {
      "cell_type": "code",
      "source": [
        "for a in range(1, 6) :\n",
        "  for b in range (1,6) :\n",
        "    print(b, end=\"\")\n",
        "  print ()"
      ],
      "metadata": {
        "colab": {
          "base_uri": "https://localhost:8080/"
        },
        "id": "QS9qIbSaXNaZ",
        "outputId": "dd1c1e65-1b71-4be5-a1ec-630685a68337"
      },
      "execution_count": null,
      "outputs": [
        {
          "output_type": "stream",
          "name": "stdout",
          "text": [
            "12345\n",
            "12345\n",
            "12345\n",
            "12345\n",
            "12345\n"
          ]
        }
      ]
    },
    {
      "cell_type": "markdown",
      "source": [
        "## Q\n",
        "Write the code to print as shown below. Print the number in the new line in reverse order.\n",
        "\n",
        "Pattern #1:\n",
        "```\n",
        "5\n",
        "4\n",
        "3\n",
        "2\n",
        "1\n",
        "```"
      ],
      "metadata": {
        "id": "oejIlDvXXcDj"
      }
    },
    {
      "cell_type": "code",
      "source": [],
      "metadata": {
        "id": "0L4rasu7XbWu"
      },
      "execution_count": null,
      "outputs": []
    },
    {
      "cell_type": "markdown",
      "source": [
        "## Q\n",
        "\n",
        "A code written below generates output as shown below,\n",
        "\n",
        "Fix the code such that it should print output as follows,\n",
        "\n",
        "```\n",
        "*\n",
        " *\n",
        "  *\n",
        "   *\n",
        "    *\n",
        "```\n"
      ],
      "metadata": {
        "id": "pcFM8o-cXjzH"
      }
    },
    {
      "cell_type": "code",
      "source": [
        "space = 0\n",
        "for i in range(1,6) :\n",
        "  space = i\n",
        "  print(space * \" \" + \"*\")"
      ],
      "metadata": {
        "colab": {
          "base_uri": "https://localhost:8080/"
        },
        "id": "y9aFmZTYXpvs",
        "outputId": "688d9df9-f904-46b7-9692-031bf9d12dbd"
      },
      "execution_count": null,
      "outputs": [
        {
          "output_type": "stream",
          "name": "stdout",
          "text": [
            " *\n",
            "  *\n",
            "   *\n",
            "    *\n",
            "     *\n"
          ]
        }
      ]
    },
    {
      "cell_type": "markdown",
      "source": [
        "## Q\n",
        "\n",
        "Print the following pattern\n",
        "\n",
        "```\n",
        "*****\n",
        " ****\n",
        "  ***\n",
        "   **\n",
        "    *\n",
        "```"
      ],
      "metadata": {
        "id": "bwNSXzy_XwmQ"
      }
    },
    {
      "cell_type": "code",
      "source": [
        "for i in range(5, 0, -1):\n",
        "    spaces = \" \" * (5 - i)\n",
        "    stars = \"*\" * i\n",
        "    print(spaces + stars)"
      ],
      "metadata": {
        "id": "3DV-8g49X2hn",
        "colab": {
          "base_uri": "https://localhost:8080/"
        },
        "outputId": "4c26f9c1-6868-4649-b633-7329b2178dc2"
      },
      "execution_count": null,
      "outputs": [
        {
          "output_type": "stream",
          "name": "stdout",
          "text": [
            "*****\n",
            " ****\n",
            "  ***\n",
            "   **\n",
            "    *\n"
          ]
        }
      ]
    },
    {
      "cell_type": "markdown",
      "source": [
        "## Q\n",
        "\n",
        "Fix the following code to print the pattern as asked,\n",
        "\n",
        "Code should print the following pattern,\n",
        "\n",
        "```\n",
        "       *\n",
        "      * *\n",
        "     * * *\n",
        "    * * * *\n",
        "   * * * * *\n",
        "```"
      ],
      "metadata": {
        "id": "VEJFaNtZX1tV"
      }
    },
    {
      "cell_type": "code",
      "source": [
        "space = 6\n",
        "for i in range (1, 6):\n",
        "  print(\" \" * space, i * \"* \")\n",
        "  space -= 1"
      ],
      "metadata": {
        "colab": {
          "base_uri": "https://localhost:8080/"
        },
        "id": "d8M25PY4eb5L",
        "outputId": "208ee59d-d48b-4d9a-e1a4-5a0dbb57c178"
      },
      "execution_count": null,
      "outputs": [
        {
          "output_type": "stream",
          "name": "stdout",
          "text": [
            "       * \n",
            "      * * \n",
            "     * * * \n",
            "    * * * * \n",
            "   * * * * * \n"
          ]
        }
      ]
    },
    {
      "cell_type": "markdown",
      "source": [
        "## Q\n",
        "\n",
        "Print the following pattern\n",
        "\n",
        "```\n",
        "       *\n",
        "      *\n",
        "     *\n",
        "    *\n",
        "   *\n",
        "```"
      ],
      "metadata": {
        "id": "-OacTqpae5Fl"
      }
    },
    {
      "cell_type": "code",
      "source": [
        "for a in range (6, 1, -1) :\n",
        "  for b in range (1, a-1) :\n",
        "    print (end = \" \")\n",
        "  print (\"*\")"
      ],
      "metadata": {
        "id": "nGwmScUfe8tK",
        "colab": {
          "base_uri": "https://localhost:8080/"
        },
        "outputId": "de9b1bbe-122e-4b30-adcd-db503efe44f5"
      },
      "execution_count": null,
      "outputs": [
        {
          "output_type": "stream",
          "name": "stdout",
          "text": [
            "    *\n",
            "   *\n",
            "  *\n",
            " *\n",
            "*\n"
          ]
        }
      ]
    },
    {
      "cell_type": "markdown",
      "source": [
        "## Q\n",
        "Print the following pattern,\n",
        "\n",
        "```\n",
        "    *\n",
        "   * *\n",
        "  * * *\n",
        " * * * *\n",
        "* * * * *\n",
        "* * * * *\n",
        " * * * *\n",
        "  * * *\n",
        "   * *\n",
        "    *\n",
        "```\n",
        "\n"
      ],
      "metadata": {
        "id": "LYBV9zuGe9Eh"
      }
    },
    {
      "cell_type": "code",
      "source": [
        "n = 5\n",
        "\n",
        "for i in range(n):\n",
        "    spaces = \" \" * (n - i - 1)\n",
        "    stars = \"* \" * (i + 1)\n",
        "    print(spaces + stars)\n",
        "\n",
        "for i in range(n, 0, -1):\n",
        "    spaces = \" \" * (n - i)\n",
        "    stars = \"* \" * i\n",
        "    print(spaces + stars)"
      ],
      "metadata": {
        "id": "e5aUdDRmfDvT",
        "colab": {
          "base_uri": "https://localhost:8080/"
        },
        "outputId": "f80440fb-9667-4dc2-8560-02e4ac0f5f74"
      },
      "execution_count": null,
      "outputs": [
        {
          "output_type": "stream",
          "name": "stdout",
          "text": [
            "    * \n",
            "   * * \n",
            "  * * * \n",
            " * * * * \n",
            "* * * * * \n",
            "* * * * * \n",
            " * * * * \n",
            "  * * * \n",
            "   * * \n",
            "    * \n"
          ]
        }
      ]
    },
    {
      "cell_type": "markdown",
      "source": [
        "## Q\n",
        "\n",
        "Print the following pattern,\n",
        "```\n",
        "1 2 3 4 5\n",
        "1 2 3 4\n",
        "1 2 3\n",
        "1 2\n",
        "1\n",
        "```"
      ],
      "metadata": {
        "id": "3O6COt7bfPOV"
      }
    },
    {
      "cell_type": "code",
      "source": [
        "for h in range (6,1,-1) :\n",
        "  for i in range (1, h) :\n",
        "    print (i, end = \" \")\n",
        "  print ()"
      ],
      "metadata": {
        "id": "agf4kJhhfcp0",
        "colab": {
          "base_uri": "https://localhost:8080/"
        },
        "outputId": "b47c3477-8c9c-4669-f0b3-5799e98162f7"
      },
      "execution_count": null,
      "outputs": [
        {
          "output_type": "stream",
          "name": "stdout",
          "text": [
            "1 2 3 4 5 \n",
            "1 2 3 4 \n",
            "1 2 3 \n",
            "1 2 \n",
            "1 \n"
          ]
        }
      ]
    },
    {
      "cell_type": "markdown",
      "source": [
        "## Q\n",
        "\n",
        "Fix the following code to print the pattern as asked,\n",
        "\n",
        "In the above code, there is an empty line between the lines.\n",
        "\n",
        "Code should print the following pattern [Without empty lines],\n",
        "\n",
        "```\n",
        "***\n",
        "**\n",
        "*\n",
        "```\n"
      ],
      "metadata": {
        "id": "oML4rDs5fdFZ"
      }
    },
    {
      "cell_type": "code",
      "source": [
        "for i in range(3, 0, -1):\n",
        "    for j in range(1, i+1):\n",
        "        print(\"\", end=\"*\")\n",
        "    print(\"\")"
      ],
      "metadata": {
        "colab": {
          "base_uri": "https://localhost:8080/"
        },
        "id": "y0LjUH5PfpVl",
        "outputId": "1aa511fd-d4bd-4698-a0f4-28e13eb9ac6d"
      },
      "execution_count": null,
      "outputs": [
        {
          "output_type": "stream",
          "name": "stdout",
          "text": [
            "***\n",
            "**\n",
            "*\n"
          ]
        }
      ]
    },
    {
      "cell_type": "markdown",
      "source": [
        "## Q\n",
        "Given a list of numbers. write a program to turn every item on a list into its square.\n",
        "\n",
        "```\n",
        "Input:\n",
        "numbers = [11, 12, 13, 14, 15, 16, 17]\n",
        "\n",
        "Output:\n",
        "[121, 144, 169, 196, 225, 256, 289]\n",
        "```\n",
        "\n",
        "Complete the following template code\n",
        "```\n",
        "numbers = [11, 12, 13, 14, 15, 16, 17]\n",
        "# result list\n",
        "res = []\n",
        "for i in <Iterate the list>:\n",
        "    # Calculate square and add to the result list\n",
        "print(res)\n",
        "```"
      ],
      "metadata": {
        "id": "TzCSDv8xf9ql"
      }
    },
    {
      "cell_type": "code",
      "source": [
        "numbers = [11, 12, 13, 14, 15, 16, 17]\n",
        "\n",
        "res = []\n",
        "for i in numbers:\n",
        "    res.append (i*i)\n",
        "print(res)\n"
      ],
      "metadata": {
        "id": "uLU6swScgFcw",
        "colab": {
          "base_uri": "https://localhost:8080/"
        },
        "outputId": "207c4767-f7f3-417f-ffc3-29d01093dc36"
      },
      "execution_count": null,
      "outputs": [
        {
          "output_type": "stream",
          "name": "stdout",
          "text": [
            "[121, 144, 169, 196, 225, 256, 289]\n"
          ]
        }
      ]
    },
    {
      "cell_type": "markdown",
      "source": [
        "# Conditional Statement: if - else"
      ],
      "metadata": {
        "id": "h4bayBaaXGk0"
      }
    },
    {
      "cell_type": "markdown",
      "source": [
        "## Q\n",
        "Write a program to check whether a number is divisible by 7 or not."
      ],
      "metadata": {
        "id": "_sXiAKz4gy-J"
      }
    },
    {
      "cell_type": "code",
      "source": [
        "a = int(input(\"Enter a Number\"))\n",
        "if (a%7 == 0) :\n",
        "   print(\"Number is divisible by 7\")\n",
        "else :\n",
        "   print(\"Number is not divisible by 7\")\n"
      ],
      "metadata": {
        "id": "Ro4pghgpgyLi",
        "colab": {
          "base_uri": "https://localhost:8080/"
        },
        "outputId": "c0a1f139-dc8f-4f9f-d6ec-af04d8fc85d4"
      },
      "execution_count": null,
      "outputs": [
        {
          "output_type": "stream",
          "name": "stdout",
          "text": [
            "Enter a Number50\n",
            "Number is not divisible by 7\n"
          ]
        }
      ]
    },
    {
      "cell_type": "markdown",
      "source": [
        "## Q\n",
        "Write a program to calculate the electricity bill according to the following criteria:\n",
        "\n",
        "```\n",
        "    Unit                                                         Price  \n",
        "First 100 units                                               no charge\n",
        "Next 100 units                                              Rs 5 per unit\n",
        "After 200 units                                             Rs 10 per unit\n",
        "```\n",
        "(For example if input unit is 350 then total bill amount is Rs 2000)\n"
      ],
      "metadata": {
        "id": "8Hcnc5Bcg52W"
      }
    },
    {
      "cell_type": "code",
      "source": [
        "Bill = int (input(\"Enter Units\"))\n",
        "\n",
        "if (Bill <= 100) :\n",
        " print (\"No charge\")\n",
        "elif (Bill> 100 and Bill <= 200) :\n",
        "  print ((Bill -100) * 5)\n",
        "else :\n",
        "  print ((100*5) + ((Bill - 200) * 10))"
      ],
      "metadata": {
        "id": "nUJUqQ0IXO7M",
        "colab": {
          "base_uri": "https://localhost:8080/"
        },
        "outputId": "6403cfeb-f7f5-4480-c71f-351b5534da98"
      },
      "execution_count": null,
      "outputs": [
        {
          "output_type": "stream",
          "name": "stdout",
          "text": [
            "Enter Units350\n",
            "2000\n"
          ]
        }
      ]
    },
    {
      "cell_type": "markdown",
      "source": [
        "## Q\n",
        "\n",
        "Write a program to check whether a year is a leap year or not."
      ],
      "metadata": {
        "id": "UwtJ504ThEzZ"
      }
    },
    {
      "cell_type": "code",
      "source": [
        "year = int (input (\"Enter the Year\"))\n",
        "\n",
        "if (year%400 == 0) :\n",
        "  print (year,\"is a leap year\")\n",
        "elif (year%4 == 0) :\n",
        "  print (year,\"is a leap year\")\n",
        "else :\n",
        "  print (year, \"is not a leap year\")"
      ],
      "metadata": {
        "id": "GbFo-GY0hG-3",
        "colab": {
          "base_uri": "https://localhost:8080/"
        },
        "outputId": "90a710ba-70b4-497f-c09d-9d6afb3c39f8"
      },
      "execution_count": null,
      "outputs": [
        {
          "output_type": "stream",
          "name": "stdout",
          "text": [
            "Enter the Year2003\n",
            "2003 is not a leap year\n"
          ]
        }
      ]
    },
    {
      "cell_type": "markdown",
      "source": [
        "## Q\n",
        "\n",
        "Write a program to find the largest number out of three numbers excepted from user.\n",
        "\n",
        "Partial code:\n",
        "```\n",
        "num1 = int(input(\"Enter first number\"))\n",
        "num2 = int(input(\"Enter second number\"))\n",
        "num3 = int(input(\"Enter third number\"))\n",
        "\n",
        "<Conditional Logic Here>\n",
        "```\n"
      ],
      "metadata": {
        "id": "4N2KZVdphJ6e"
      }
    },
    {
      "cell_type": "code",
      "source": [
        "num1 = int (input(\"Enter First Number\"))\n",
        "num2 = int (input(\"Enter Second Number\"))\n",
        "num3 = int (input(\"Enter Third Number\"))\n",
        "\n",
        "if (num1 > num2 and num2 > num3) :\n",
        " print (num1)\n",
        "elif (num2 > num1 and num1 > num3) :\n",
        " print (num2)\n",
        "else :\n",
        " print (num3)"
      ],
      "metadata": {
        "id": "cquFVRDphqQS",
        "colab": {
          "base_uri": "https://localhost:8080/"
        },
        "outputId": "54f7095c-1230-46ba-e7c3-3f5ec82739e8"
      },
      "execution_count": null,
      "outputs": [
        {
          "output_type": "stream",
          "name": "stdout",
          "text": [
            "Enter First Number5\n",
            "Enter Second Number7\n",
            "Enter Third Number1\n",
            "7\n"
          ]
        }
      ]
    },
    {
      "cell_type": "markdown",
      "source": [
        "## Q\n",
        "\n",
        "Write a program to check a character is vowel or not.\n",
        "\n",
        "Code Template:\n",
        "\n",
        "```\n",
        "Ch = <Function>(\"Enter any character\")   ## Except Input from the user\n",
        "...\n",
        "if <condition>\n",
        "     print(\"Entered character is vowel\")\n",
        "...\n",
        "     print(\"Entered character is not vowel\")\n",
        "```"
      ],
      "metadata": {
        "id": "0FMP0yhHhq85"
      }
    },
    {
      "cell_type": "code",
      "source": [
        "# Input a character from the user\n",
        "ch = input(\"Enter any character: \")\n",
        "\n",
        "# Convert the character to lowercase to handle both uppercase and lowercase vowels\n",
        "ch = ch.lower()\n",
        "\n",
        "# Check if the character is a vowel\n",
        "if ch == 'a' or ch == 'e' or ch == 'i' or ch == 'o' or ch == 'u':\n",
        "    print(\"Entered character is a vowel\")\n",
        "else:\n",
        "    print(\"Entered character is not a vowel\")"
      ],
      "metadata": {
        "id": "SQer7f-Lh0Pu",
        "colab": {
          "base_uri": "https://localhost:8080/"
        },
        "outputId": "fb1c6400-8434-49a9-fe80-bd3b956666f3"
      },
      "execution_count": 1,
      "outputs": [
        {
          "output_type": "stream",
          "name": "stdout",
          "text": [
            "Enter any character: ab\n",
            "Entered character is not a vowel\n"
          ]
        }
      ]
    },
    {
      "cell_type": "markdown",
      "source": [
        "# IF - ELSE + FOR Loop Practice Problems\n"
      ],
      "metadata": {
        "id": "VWvKCQ2FXInz"
      }
    },
    {
      "cell_type": "markdown",
      "source": [
        "## Q\n",
        "\n",
        "Print the following pattern\n",
        "\n",
        "```\n",
        "1\n",
        "1  2\n",
        "1  2  3\n",
        "1  2  3  4\n",
        "1  2  3  4  5\n",
        "```"
      ],
      "metadata": {
        "id": "Hg9I_hDEh_uz"
      }
    },
    {
      "cell_type": "code",
      "source": [
        "for a in range (1, 6) :\n",
        "  for b in range (1, a+1) :\n",
        "   print (b, end = \"  \")\n",
        "  print()"
      ],
      "metadata": {
        "id": "b4R7T7vTXHdy",
        "colab": {
          "base_uri": "https://localhost:8080/"
        },
        "outputId": "96f278c1-cbc8-4e1e-e234-bea7b17cfe09"
      },
      "execution_count": null,
      "outputs": [
        {
          "output_type": "stream",
          "name": "stdout",
          "text": [
            "1  \n",
            "1  2  \n",
            "1  2  3  \n",
            "1  2  3  4  \n",
            "1  2  3  4  5  \n"
          ]
        }
      ]
    },
    {
      "cell_type": "markdown",
      "source": [
        "## Q\n",
        "\n",
        "Given a two list of numbers, write a program to create a new list such that the new list should contain odd numbers from the first list and even numbers from the second list.\n",
        "\n",
        "```\n",
        "Input:\n",
        "list1 = [10, 20, 25, 30, 35]\n",
        "list2 = [40, 45, 60, 75, 90]\n",
        "\n",
        "Output:\n",
        "[25, 35, 40, 60, 90]\n",
        "```"
      ],
      "metadata": {
        "id": "HPE0IIjWiK04"
      }
    },
    {
      "cell_type": "code",
      "source": [
        "list1 = [10, 20, 25, 30, 35]\n",
        "list2 = [40, 45, 60, 75, 90]\n",
        "\n",
        "list = list1[2:5:2] + list2[0:5:2]\n",
        "\n",
        "print (list)"
      ],
      "metadata": {
        "id": "zyBX0kWliOTm",
        "colab": {
          "base_uri": "https://localhost:8080/"
        },
        "outputId": "86db0504-34f9-40d4-ea1d-939ba7885b2a"
      },
      "execution_count": null,
      "outputs": [
        {
          "output_type": "stream",
          "name": "stdout",
          "text": [
            "[25, 35, 40, 60, 90]\n"
          ]
        }
      ]
    },
    {
      "cell_type": "markdown",
      "source": [
        "## Q\n",
        "\n",
        "Write a program to display the smallest word from the string.\n",
        "\n",
        "```\n",
        "sentence = \"\"\"Python is a high-level, general-purpose programming language. Its design philosophy emphasizes code readability with the use of significant indentation.\n",
        "\n",
        "Pythn is dynamically-typed and garbage-collected. It supports multiple programming paradigms, including structured (particularly procedural), object-oriented and functional programming.\n",
        "\n",
        "Guido van Rossum began working on Python in the late 1980s as a successor to the ABC programming language and first released it in 1991 as Python 0.9.0. Python 2.0 was released in 2000.\n",
        "Python 3.0, released in 2008, was a major revision that was not completely backward-compatible with earlier versions. python 2 was discontinued version 2.7.18 in 2020.\n",
        "\n",
        "Py consistently ranks as one of the most popular programming languages.\"\"\"\n",
        "```\n"
      ],
      "metadata": {
        "id": "QpwLJZvriSPV"
      }
    },
    {
      "cell_type": "code",
      "source": [
        "sentence = \"\"\"Python is a high-level, general-purpose programming language. Its design philosophy emphasizes code readability with the use of significant indentation.\n",
        "\n",
        "Pythn is dynamically-typed and garbage-collected. It supports multiple programming paradigms, including structured (particularly procedural), object-oriented and functional programming.\n",
        "\n",
        "Guido van Rossum began working on Python in the late 1980s as a successor to the ABC programming language and first released it in 1991 as Python 0.9.0. Python 2.0 was released in 2000.\n",
        "Python 3.0, released in 2008, was a major revision that was not completely backward-compatible with earlier versions. python 2 was discontinued version 2.7.18 in 2020.\n",
        "\n",
        "Py consistently ranks as one of the most popular programming languages.\"\"\"\n",
        "\n",
        "list = sentence.split()\n",
        "\n",
        "smallest_word = min (list, key = len)\n",
        "\n",
        "print (smallest_word)"
      ],
      "metadata": {
        "id": "3QqWQLMeiUUq",
        "colab": {
          "base_uri": "https://localhost:8080/"
        },
        "outputId": "bd8f8fe6-d5d6-4411-9b15-fb4c2e8a3a25"
      },
      "execution_count": null,
      "outputs": [
        {
          "output_type": "stream",
          "name": "stdout",
          "text": [
            "a\n"
          ]
        }
      ]
    },
    {
      "cell_type": "markdown",
      "source": [
        "# Capstone Project"
      ],
      "metadata": {
        "id": "yF4LUEAHiXsV"
      }
    },
    {
      "cell_type": "markdown",
      "source": [
        "## Q\n",
        "\n",
        "Print the following pattern,\n",
        "\n",
        "```\n",
        "        *\n",
        "      * *\n",
        "    * * *\n",
        "  * * * *\n",
        "* * * * *\n",
        "```"
      ],
      "metadata": {
        "id": "BZIkBIARifvb"
      }
    },
    {
      "cell_type": "code",
      "source": [
        "for i in range (1,6):\n",
        "   star = \"* \" * i\n",
        "   space = \"  \" * (5-i)\n",
        "   print (space + star)\n"
      ],
      "metadata": {
        "id": "umPGEUdUibMf",
        "colab": {
          "base_uri": "https://localhost:8080/"
        },
        "outputId": "d68db597-9295-43bf-f156-2e5e29833157"
      },
      "execution_count": null,
      "outputs": [
        {
          "output_type": "stream",
          "name": "stdout",
          "text": [
            "        * \n",
            "      * * \n",
            "    * * * \n",
            "  * * * * \n",
            "* * * * * \n"
          ]
        }
      ]
    },
    {
      "cell_type": "markdown",
      "source": [
        "## Q\n",
        "\n",
        "Print the following pattern,\n",
        "\n",
        "```\n",
        "1\n",
        "2 3\n",
        "4 5 6\n",
        "7 8 9 10\n",
        "11 12 13 14 15\n",
        "```\n",
        "\n",
        "Please note that there is space between two number, without space between two number will make pattern look like below [This kind of pattern should not be the output]\n",
        "\n",
        "```\n",
        "1\n",
        "23\n",
        "456\n",
        "78910\n",
        "1112131415\n",
        "```\n"
      ],
      "metadata": {
        "id": "22qi7zbIij1N"
      }
    },
    {
      "cell_type": "code",
      "source": [
        "num = 1\n",
        "\n",
        "for i in range(1, 6):\n",
        "    for j in range(1,i+1):\n",
        "        print(num, end=\" \")\n",
        "        num += 1\n",
        "    print()\n"
      ],
      "metadata": {
        "id": "uGFHDciYipTo",
        "colab": {
          "base_uri": "https://localhost:8080/"
        },
        "outputId": "0008da9a-ad60-4b25-eefd-499f06642782"
      },
      "execution_count": null,
      "outputs": [
        {
          "output_type": "stream",
          "name": "stdout",
          "text": [
            "1 \n",
            "2 3 \n",
            "4 5 6 \n",
            "7 8 9 10 \n",
            "11 12 13 14 15 \n"
          ]
        }
      ]
    },
    {
      "cell_type": "markdown",
      "source": [
        "## Q\n",
        "\n",
        "Print the following pattern,\n",
        "\n",
        "```\n",
        "      1\n",
        "    2 1 2\n",
        "  3 2 1 2 3\n",
        "4 3 2 1 2 3 4\n",
        "```\n",
        "\n",
        "Please note that there is space between two numbers.\n"
      ],
      "metadata": {
        "id": "Ji5Fl-_Qirh5"
      }
    },
    {
      "cell_type": "code",
      "source": [
        "n = 4\n",
        "\n",
        "for i in range(1, n + 1):\n",
        "    print(\" \" * (2 * (n - i)), end=\"\")\n",
        "    for j in range(i, 0, -1):\n",
        "        print(j, end=\" \")\n",
        "    for j in range(2, i + 1):\n",
        "        print(j, end=\" \")\n",
        "    print ()"
      ],
      "metadata": {
        "id": "f9A_qOmNitxz",
        "colab": {
          "base_uri": "https://localhost:8080/"
        },
        "outputId": "2d1e722b-1a07-4bc0-e6d0-a4480b5218cf"
      },
      "execution_count": null,
      "outputs": [
        {
          "output_type": "stream",
          "name": "stdout",
          "text": [
            "      1 \n",
            "    2 1 2 \n",
            "  3 2 1 2 3 \n",
            "4 3 2 1 2 3 4 \n"
          ]
        }
      ]
    },
    {
      "cell_type": "markdown",
      "source": [
        "## Q\n",
        "\n",
        "Print the following pattern,\n",
        "\n",
        "```\n",
        "1 2 3 4 5\n",
        "1 2 3 4\n",
        "1 2 3\n",
        "1 2\n",
        "1\n",
        "```\n",
        "\n",
        "Please note that there is space between two numbers."
      ],
      "metadata": {
        "id": "Vr5GnDfxixWG"
      }
    },
    {
      "cell_type": "code",
      "source": [
        "for i in range (5,0,-1) :\n",
        "  for j in range (1,i+1) :\n",
        "    print (j, end = \" \")\n",
        "  print ()"
      ],
      "metadata": {
        "id": "oB5TpoA2iyaC",
        "colab": {
          "base_uri": "https://localhost:8080/"
        },
        "outputId": "27394ae3-f6dc-45ce-9049-8650f7f7ae63"
      },
      "execution_count": null,
      "outputs": [
        {
          "output_type": "stream",
          "name": "stdout",
          "text": [
            "1 2 3 4 5 \n",
            "1 2 3 4 \n",
            "1 2 3 \n",
            "1 2 \n",
            "1 \n"
          ]
        }
      ]
    },
    {
      "cell_type": "markdown",
      "source": [
        "## Q\n",
        "\n",
        "Print the following pattern,\n",
        "\n",
        "```\n",
        "*\n",
        "**\n",
        "***\n",
        "****\n",
        "*****\n",
        "****\n",
        "***\n",
        "**\n",
        "*\n",
        "```"
      ],
      "metadata": {
        "id": "zXQUEgJHi1-N"
      }
    },
    {
      "cell_type": "code",
      "source": [
        "n = 5\n",
        "\n",
        "for a in range (0, n) :\n",
        "  print (\"*\" * (a+1))\n",
        "for b in range (n-1,0,-1) :\n",
        "  print (\"*\" * b)"
      ],
      "metadata": {
        "id": "GxRowzsRi33Y",
        "colab": {
          "base_uri": "https://localhost:8080/"
        },
        "outputId": "bea78c81-b8a3-4d9e-c82e-d5fac51e90c4"
      },
      "execution_count": null,
      "outputs": [
        {
          "output_type": "stream",
          "name": "stdout",
          "text": [
            "*\n",
            "**\n",
            "***\n",
            "****\n",
            "*****\n",
            "****\n",
            "***\n",
            "**\n",
            "*\n"
          ]
        }
      ]
    },
    {
      "cell_type": "markdown",
      "source": [
        "## Q\n",
        "\n",
        "Write a program to check whether a number is prime or not?"
      ],
      "metadata": {
        "id": "m3y4LGTui6Vy"
      }
    },
    {
      "cell_type": "code",
      "source": [
        "num = int(input (\"Enter any number\"))\n",
        "\n",
        "if num > 1 :\n",
        "  for a in range (2, int(num/2)) :\n",
        "    if (num % a) == 0 :\n",
        "      print (num,\"is not a prime number\")\n",
        "      break\n",
        "  else :\n",
        "      print (num, \"is a prime number\")\n",
        "else :\n",
        "  print (\"Number is a decimal\")\n"
      ],
      "metadata": {
        "id": "di9r6ZJei7bl",
        "colab": {
          "base_uri": "https://localhost:8080/"
        },
        "outputId": "c8abe103-75b7-434c-94c4-8aa1852a4785"
      },
      "execution_count": null,
      "outputs": [
        {
          "output_type": "stream",
          "name": "stdout",
          "text": [
            "Enter any number1\n",
            "Number is a decimal\n"
          ]
        }
      ]
    },
    {
      "cell_type": "markdown",
      "source": [
        "## Q\n",
        "\n",
        "Accept the following from the user and calculate the percentage of classes attended:\n",
        "\n",
        "1. Total number of working days\n",
        "2. Total number of days absent\n",
        "\n",
        "After calculating the percentage shows that, If the percentage is less than 75, then the student will not be able to sit in the exam.\n"
      ],
      "metadata": {
        "id": "dDl4hc7Ni8Ed"
      }
    },
    {
      "cell_type": "code",
      "source": [
        "WD = int (input(\"Enter Total Number of Working Days \"))\n",
        "AB = int (input(\"Enter Total Number of Days Absent \"))\n",
        "\n",
        "percnt = 1- (AB/WD)\n",
        "\n",
        "print (percnt)\n",
        "\n",
        "if percnt > .75 :\n",
        "  print (\"Student will be eligible to sit in the exam\")\n",
        "else:\n",
        "  print (\"Student will not be eligible to sit in the exam\")"
      ],
      "metadata": {
        "id": "4M6cpgTqjFKp",
        "colab": {
          "base_uri": "https://localhost:8080/"
        },
        "outputId": "1f998f11-827b-4de6-bba3-a746b5256b0c"
      },
      "execution_count": null,
      "outputs": [
        {
          "output_type": "stream",
          "name": "stdout",
          "text": [
            "Enter Total Number of Working Days 300\n",
            "Enter Total Number of Days Absent 50\n",
            "0.8333333333333334\n",
            "Student will be eligible to sit in the exam\n"
          ]
        }
      ]
    },
    {
      "cell_type": "markdown",
      "source": [
        "## Q\n",
        "\n",
        "Accept the percentage from the user and display the  grade according to the following criteria:\n",
        "\n",
        "```\n",
        "    Below 25 —- D\n",
        "    25 to 45 —- C\n",
        "    45 to 50 —- B\n",
        "    50 to 60 –– B+\n",
        "    60 to 80 — A\n",
        "    Above 80 –- A+\n",
        "```"
      ],
      "metadata": {
        "id": "Da3FfXB7jGPc"
      }
    },
    {
      "cell_type": "code",
      "source": [
        "marks = float (input (\"Enter your marks : \"))\n",
        "\n",
        "if marks < 25 :\n",
        "  print (marks, \": D\")\n",
        "elif (marks >= 25 and marks < 45) :\n",
        "  print (marks, \": C\")\n",
        "elif (marks >= 45 and marks < 50) :\n",
        "  print (marks, \": B\")\n",
        "elif (marks >= 50 and marks < 60) :\n",
        "  print (marks, \": B+\")\n",
        "elif (marks >= 60 and marks < 80) :\n",
        "  print (marks, \": A\")\n",
        "else :\n",
        "  print (marks, \": A+\")"
      ],
      "metadata": {
        "id": "8-wrAKz8jJq9",
        "colab": {
          "base_uri": "https://localhost:8080/"
        },
        "outputId": "f73c1091-34af-489c-ee35-17a81c4be03e"
      },
      "execution_count": null,
      "outputs": [
        {
          "output_type": "stream",
          "name": "stdout",
          "text": [
            "Enter your marks : 80\n",
            "80.0 : A+\n"
          ]
        }
      ]
    },
    {
      "cell_type": "markdown",
      "source": [],
      "metadata": {
        "id": "G4EgkzFijKO3"
      }
    }
  ]
}