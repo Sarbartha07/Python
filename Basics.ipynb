{
  "nbformat": 4,
  "nbformat_minor": 0,
  "metadata": {
    "colab": {
      "provenance": [],
      "authorship_tag": "ABX9TyNQE07f5F4/dC/4VuesDWhq",
      "include_colab_link": true
    },
    "kernelspec": {
      "name": "python3",
      "display_name": "Python 3"
    },
    "language_info": {
      "name": "python"
    }
  },
  "cells": [
    {
      "cell_type": "markdown",
      "metadata": {
        "id": "view-in-github",
        "colab_type": "text"
      },
      "source": [
        "<a href=\"https://colab.research.google.com/github/Sarbartha07/Python/blob/main/Basics.ipynb\" target=\"_parent\"><img src=\"https://colab.research.google.com/assets/colab-badge.svg\" alt=\"Open In Colab\"/></a>"
      ]
    },
    {
      "cell_type": "code",
      "execution_count": null,
      "metadata": {
        "colab": {
          "base_uri": "https://localhost:8080/"
        },
        "id": "uSlMqsrg56y1",
        "outputId": "7f9044bb-0467-4ac5-9375-3c9a5a362268"
      },
      "outputs": [
        {
          "output_type": "stream",
          "name": "stdout",
          "text": [
            "\n",
            "Here is a list of the Python keywords.  Enter any keyword to get more help.\n",
            "\n",
            "False               class               from                or\n",
            "None                continue            global              pass\n",
            "True                def                 if                  raise\n",
            "and                 del                 import              return\n",
            "as                  elif                in                  try\n",
            "assert              else                is                  while\n",
            "async               except              lambda              with\n",
            "await               finally             nonlocal            yield\n",
            "break               for                 not                 \n",
            "\n"
          ]
        }
      ],
      "source": [
        "help (\"keywords\")"
      ]
    },
    {
      "cell_type": "code",
      "source": [
        "print (\"Hello World\", end = \"-\")\n",
        "print (\"Hello World!\", end = \"*\")"
      ],
      "metadata": {
        "colab": {
          "base_uri": "https://localhost:8080/"
        },
        "id": "CnqqHz1cfnwh",
        "outputId": "ba154f96-fc4c-40b4-f2e5-f84abe164a1b"
      },
      "execution_count": null,
      "outputs": [
        {
          "output_type": "stream",
          "name": "stdout",
          "text": [
            "Hello World-Hello World!*"
          ]
        }
      ]
    },
    {
      "cell_type": "code",
      "source": [
        "print (\"Hello World\")"
      ],
      "metadata": {
        "colab": {
          "base_uri": "https://localhost:8080/"
        },
        "id": "WdjrM41FfxJU",
        "outputId": "58b86102-9049-4fa3-ae77-f59e20103f3b"
      },
      "execution_count": null,
      "outputs": [
        {
          "output_type": "stream",
          "name": "stdout",
          "text": [
            "Hello World\n"
          ]
        }
      ]
    },
    {
      "cell_type": "code",
      "source": [
        "print (\"Hello\", \"How are\", \"You\", sep = \"-\")"
      ],
      "metadata": {
        "colab": {
          "base_uri": "https://localhost:8080/"
        },
        "id": "QZf8gcV_s6PV",
        "outputId": "d026a957-f952-48b6-c3fc-80ccd02920ea"
      },
      "execution_count": null,
      "outputs": [
        {
          "output_type": "stream",
          "name": "stdout",
          "text": [
            "Hello-How are-You\n"
          ]
        }
      ]
    },
    {
      "cell_type": "code",
      "source": [
        "Rain = \"No\"\n",
        "if Rain == \"Yes\":\n",
        "  print (\"Take Umbrella\")\n",
        "else :\n",
        "  print (\"Wear Sunglass\")"
      ],
      "metadata": {
        "colab": {
          "base_uri": "https://localhost:8080/"
        },
        "id": "hAGCbxXRHnk1",
        "outputId": "b63c49ed-330e-41e4-bf14-9b5731863241"
      },
      "execution_count": null,
      "outputs": [
        {
          "output_type": "stream",
          "name": "stdout",
          "text": [
            "Wear Sunglass\n"
          ]
        }
      ]
    },
    {
      "cell_type": "code",
      "source": [
        "dollar_to_rs = 79.8\n",
        "dollar_amt = 150\n",
        "rs_amt = dollar_to_rs * dollar_amt\n",
        "print (dollar_amt,\"$ in Rs as per conversion rate (\", dollar_to_rs,\") is\", rs_amt)"
      ],
      "metadata": {
        "colab": {
          "base_uri": "https://localhost:8080/"
        },
        "id": "U2Ds4q5ILIjK",
        "outputId": "054bd96f-3992-460a-acda-d2fc094b3811"
      },
      "execution_count": null,
      "outputs": [
        {
          "output_type": "stream",
          "name": "stdout",
          "text": [
            "150 $ in Rs as per conversion rate ( 79.8 ) is 11970.0\n"
          ]
        }
      ]
    },
    {
      "cell_type": "code",
      "source": [
        "X = 10\n",
        "X = \"Ten\"\n",
        "print(X)"
      ],
      "metadata": {
        "id": "jq-OUqWvL_7g",
        "colab": {
          "base_uri": "https://localhost:8080/"
        },
        "outputId": "f0b9eeff-f303-42fb-99b3-46fc28d87368"
      },
      "execution_count": null,
      "outputs": [
        {
          "output_type": "stream",
          "name": "stdout",
          "text": [
            "Ten\n"
          ]
        }
      ]
    },
    {
      "cell_type": "code",
      "source": [
        "print (\"1st statement\")\n",
        "print (\"2nd statement\")\n",
        "i = 3\n",
        "if (i == 3) :\n",
        "  print (\"3rd statement\")\n",
        "  print (\"4th statement\")\n",
        "else :\n",
        "  print (\"5th statement\")\n",
        "print (\"6th statement\")"
      ],
      "metadata": {
        "colab": {
          "base_uri": "https://localhost:8080/"
        },
        "id": "rnpkdhgJ02cD",
        "outputId": "07373d9e-9e33-4672-ce05-e4a95e566458"
      },
      "execution_count": null,
      "outputs": [
        {
          "output_type": "stream",
          "name": "stdout",
          "text": [
            "1st statement\n",
            "2nd statement\n",
            "3rd statement\n",
            "4th statement\n",
            "6th statement\n"
          ]
        }
      ]
    },
    {
      "cell_type": "code",
      "source": [
        "True + False + True"
      ],
      "metadata": {
        "colab": {
          "base_uri": "https://localhost:8080/"
        },
        "id": "-Y_CGRWitQLz",
        "outputId": "4d887500-0e37-4eac-a967-34413985cf34"
      },
      "execution_count": null,
      "outputs": [
        {
          "output_type": "execute_result",
          "data": {
            "text/plain": [
              "2"
            ]
          },
          "metadata": {},
          "execution_count": 3
        }
      ]
    },
    {
      "cell_type": "code",
      "source": [
        "True * False"
      ],
      "metadata": {
        "colab": {
          "base_uri": "https://localhost:8080/"
        },
        "id": "JumM_wf-tUjw",
        "outputId": "1d9b9b69-bb58-4161-e4d3-be671ce56386"
      },
      "execution_count": null,
      "outputs": [
        {
          "output_type": "execute_result",
          "data": {
            "text/plain": [
              "0"
            ]
          },
          "metadata": {},
          "execution_count": 5
        }
      ]
    },
    {
      "cell_type": "code",
      "source": [
        "True + True + False + (True * False) + 0 + 1"
      ],
      "metadata": {
        "colab": {
          "base_uri": "https://localhost:8080/"
        },
        "id": "YKXRkEVmtmoy",
        "outputId": "0e5ba67d-e8f8-42fa-98d4-e10e373d617b"
      },
      "execution_count": null,
      "outputs": [
        {
          "output_type": "execute_result",
          "data": {
            "text/plain": [
              "3"
            ]
          },
          "metadata": {},
          "execution_count": 7
        }
      ]
    },
    {
      "cell_type": "code",
      "source": [
        "a = False\n",
        "b = False\n",
        "c = False\n",
        "print (\"Output 1: \", a or b or c)\n",
        "\n",
        "b = True\n",
        "\n",
        "print (\"Output 2: \", a or b or c)\n",
        "\n",
        "print (\"Output 3: \", a and b and c)\n",
        "a = True\n",
        "c = True\n",
        "print (\"Output 4: \", a and b and c)\n",
        "\n",
        "print (\"Output 5: \", (a and b) or c)\n",
        "\n",
        "a = False\n",
        "print (\"Output 6: \", a and (b or c))\n",
        "\n",
        "a = True\n",
        "print (\"Output 7: \", a or (b or c))"
      ],
      "metadata": {
        "colab": {
          "base_uri": "https://localhost:8080/"
        },
        "id": "QhmkNHqtuGof",
        "outputId": "6024b8ad-63d5-4169-c2ce-e9495ed1f75f"
      },
      "execution_count": null,
      "outputs": [
        {
          "output_type": "stream",
          "name": "stdout",
          "text": [
            "Output 1:  False\n",
            "Output 2:  True\n",
            "Output 3:  False\n",
            "Output 4:  True\n",
            "Output 5:  True\n",
            "Output 6:  False\n",
            "Output 7:  True\n"
          ]
        }
      ]
    },
    {
      "cell_type": "code",
      "source": [
        "a = 13\n",
        "b = 6.5\n",
        "\n",
        "print (\"Division\", a/b)\n",
        "print (\"Floor Division\", a/int (b))\n",
        "print (\"Floor Division\", int (a/b))"
      ],
      "metadata": {
        "colab": {
          "base_uri": "https://localhost:8080/"
        },
        "id": "crjpDeY4mP-u",
        "outputId": "3763f417-fd36-4e0d-e7b4-7aefa0a3066d"
      },
      "execution_count": null,
      "outputs": [
        {
          "output_type": "stream",
          "name": "stdout",
          "text": [
            "Division 2.0\n",
            "Floor Division 2.1666666666666665\n",
            "Floor Division 2\n"
          ]
        }
      ]
    },
    {
      "cell_type": "code",
      "source": [
        "str1 = \" ' \"\n",
        "str2 = ' '\n",
        "str3 = \" \" \"   \" \" \"\n",
        "\n",
        "print(\"Output 1:\", bool(str1))\n",
        "print(\"Output 2:\", bool(str2))\n",
        "print(\"Output 3:\", bool(str3))"
      ],
      "metadata": {
        "colab": {
          "base_uri": "https://localhost:8080/"
        },
        "id": "2tIQ-oAklQQY",
        "outputId": "4579ea32-b91b-44af-cdf7-79a86995b83f"
      },
      "execution_count": null,
      "outputs": [
        {
          "output_type": "stream",
          "name": "stdout",
          "text": [
            "Output 1: True\n",
            "Output 2: True\n",
            "Output 3: True\n"
          ]
        }
      ]
    },
    {
      "cell_type": "code",
      "source": [
        "String1 = \"\"\"My name is Sarbartha Ray, I have done my MBA from SIBM\"\"\"\n",
        "String1.find (\"Sar\")"
      ],
      "metadata": {
        "colab": {
          "base_uri": "https://localhost:8080/"
        },
        "id": "KIjNsuvdmjdY",
        "outputId": "3cfcb398-ad37-4e3a-d800-e091a5b43df1"
      },
      "execution_count": null,
      "outputs": [
        {
          "output_type": "execute_result",
          "data": {
            "text/plain": [
              "11"
            ]
          },
          "metadata": {},
          "execution_count": 20
        }
      ]
    },
    {
      "cell_type": "code",
      "source": [
        "String1 = \"\"\"Python is a high-level, general-purpose programming language. Its design philosophy emphasizes code readability with the use of significant indentation.\"\"\"\n",
        "String = String1.lower()\n",
        "print (\"\"\" Frequency of vowel \"a\" is:\"\"\", String.count (\"a\"))\n",
        "print (\"\"\" Frequency of vowel \"e\" is:\"\"\", String.count (\"e\"))\n",
        "print (\"\"\" Frequency of vowel \"i\" is:\"\"\", String.count (\"i\"))\n",
        "print (\"\"\" Frequency of vowel \"o\" is:\"\"\", String.count (\"o\"))\n",
        "print (\"\"\" Frequency of vowel \"u\" is:\"\"\", String.count (\"u\"))"
      ],
      "metadata": {
        "colab": {
          "base_uri": "https://localhost:8080/"
        },
        "id": "EWYc4R-UvRkK",
        "outputId": "75b85d64-3bb1-45f8-cef2-e0f90c6e456b"
      },
      "execution_count": null,
      "outputs": [
        {
          "output_type": "stream",
          "name": "stdout",
          "text": [
            " Frequency of vowel \"a\" is: 10\n",
            " Frequency of vowel \"e\" is: 14\n",
            " Frequency of vowel \"i\" is: 15\n",
            " Frequency of vowel \"o\" is: 8\n",
            " Frequency of vowel \"u\" is: 3\n"
          ]
        }
      ]
    },
    {
      "cell_type": "code",
      "source": [
        "Eleven = 11\n",
        "S1 = [32, 33, 34]\n",
        "New_list = [\"Ram\", \"Jadhu\", Eleven, 31.5, S1]\n",
        "print (New_list[0:5])"
      ],
      "metadata": {
        "colab": {
          "base_uri": "https://localhost:8080/"
        },
        "id": "4J6n22uIbkpR",
        "outputId": "2321cd2e-24c9-45f8-94df-ea6fcd010306"
      },
      "execution_count": null,
      "outputs": [
        {
          "output_type": "stream",
          "name": "stdout",
          "text": [
            "['Ram', 'Jadhu', 11, 31.5, [32, 33, 34]]\n"
          ]
        }
      ]
    },
    {
      "cell_type": "code",
      "source": [
        "Sentence = \"\"\" The opportunity to contribute my data analysis skills to Inc42 Media is immensely appealing. Inc42's mission to accelerate India's tech and startup economy resonates deeply with me. The platform's commitment to spotlighting untold stories within the Indian startup ecosystem, coupled with its remarkable growth from a small team to a household name, showcases a dynamic and impactful environment. I'm excited about the prospect of utilizing my expertise to extract insights from data, enriching the narrative of innovation, and being part of a dedicated team that's driving positive change in the tech and startup landscape. \"\"\"\n",
        "print (Sentence)"
      ],
      "metadata": {
        "colab": {
          "base_uri": "https://localhost:8080/"
        },
        "id": "KO4pxOmsgZxA",
        "outputId": "8b1d3a39-70bd-4c9e-ed92-4aaae985067d"
      },
      "execution_count": null,
      "outputs": [
        {
          "output_type": "stream",
          "name": "stdout",
          "text": [
            " The opportunity to contribute my data analysis skills to Inc42 Media is immensely appealing. Inc42's mission to accelerate India's tech and startup economy resonates deeply with me. The platform's commitment to spotlighting untold stories within the Indian startup ecosystem, coupled with its remarkable growth from a small team to a household name, showcases a dynamic and impactful environment. I'm excited about the prospect of utilizing my expertise to extract insights from data, enriching the narrative of innovation, and being part of a dedicated team that's driving positive change in the tech and startup landscape. \n"
          ]
        }
      ]
    },
    {
      "cell_type": "code",
      "source": [
        "Word_List = Sentence.split (\" \")\n",
        "print (Word_List)"
      ],
      "metadata": {
        "colab": {
          "base_uri": "https://localhost:8080/"
        },
        "id": "jNTge8xHyHkB",
        "outputId": "a7ae27ae-fca5-48c9-b0e1-111963b4fa3b"
      },
      "execution_count": null,
      "outputs": [
        {
          "output_type": "stream",
          "name": "stdout",
          "text": [
            "['', 'The', 'opportunity', 'to', 'contribute', 'my', 'data', 'analysis', 'skills', 'to', 'Inc42', 'Media', 'is', 'immensely', 'appealing.', \"Inc42's\", 'mission', 'to', 'accelerate', \"India's\", 'tech', 'and', 'startup', 'economy', 'resonates', 'deeply', 'with', 'me.', 'The', \"platform's\", 'commitment', 'to', 'spotlighting', 'untold', 'stories', 'within', 'the', 'Indian', 'startup', 'ecosystem,', 'coupled', 'with', 'its', 'remarkable', 'growth', 'from', 'a', 'small', 'team', 'to', 'a', 'household', 'name,', 'showcases', 'a', 'dynamic', 'and', 'impactful', 'environment.', \"I'm\", 'excited', 'about', 'the', 'prospect', 'of', 'utilizing', 'my', 'expertise', 'to', 'extract', 'insights', 'from', 'data,', 'enriching', 'the', 'narrative', 'of', 'innovation,', 'and', 'being', 'part', 'of', 'a', 'dedicated', 'team', \"that's\", 'driving', 'positive', 'change', 'in', 'the', 'tech', 'and', 'startup', 'landscape.', '']\n"
          ]
        }
      ]
    },
    {
      "cell_type": "code",
      "source": [
        "print (type (Word_List))\n",
        "len (Word_List)"
      ],
      "metadata": {
        "colab": {
          "base_uri": "https://localhost:8080/"
        },
        "id": "q8cHq2HjyVI4",
        "outputId": "a8eb8843-ac1e-459c-dae9-ba43c37be579"
      },
      "execution_count": null,
      "outputs": [
        {
          "output_type": "stream",
          "name": "stdout",
          "text": [
            "<class 'list'>\n"
          ]
        },
        {
          "output_type": "execute_result",
          "data": {
            "text/plain": [
              "96"
            ]
          },
          "metadata": {},
          "execution_count": 33
        }
      ]
    },
    {
      "cell_type": "code",
      "source": [
        "len (Sentence)"
      ],
      "metadata": {
        "colab": {
          "base_uri": "https://localhost:8080/"
        },
        "id": "g2eMXm_wzrL2",
        "outputId": "4d5710dc-5b32-4e66-91bd-8d6bb54e8027"
      },
      "execution_count": null,
      "outputs": [
        {
          "output_type": "execute_result",
          "data": {
            "text/plain": [
              "626"
            ]
          },
          "metadata": {},
          "execution_count": 35
        }
      ]
    },
    {
      "cell_type": "code",
      "source": [
        "sampleList = [100, 200, 300, 400, 500]\n",
        "sampleList.append (600)\n",
        "print(sampleList)\n",
        "sampleList.append (60)\n",
        "print(sampleList)"
      ],
      "metadata": {
        "colab": {
          "base_uri": "https://localhost:8080/"
        },
        "id": "PGWY9xlo0xNp",
        "outputId": "1723be4b-24f7-43ad-ec7c-f24f1336cfa6"
      },
      "execution_count": null,
      "outputs": [
        {
          "output_type": "stream",
          "name": "stdout",
          "text": [
            "[100, 200, 300, 400, 500, 600]\n",
            "[100, 200, 300, 400, 500, 600, 60]\n"
          ]
        }
      ]
    },
    {
      "cell_type": "code",
      "source": [
        "list1 = ['ee', 'ff', 'gg']\n",
        "list2 = ['aa', 'bb', 'cc', 'dd']\n",
        "new_list = list1 + list2\n",
        "print(new_list)"
      ],
      "metadata": {
        "colab": {
          "base_uri": "https://localhost:8080/"
        },
        "id": "yCYQk0uL1Hmh",
        "outputId": "8c243c81-0873-49ef-fdc8-e59cee6f19f4"
      },
      "execution_count": null,
      "outputs": [
        {
          "output_type": "stream",
          "name": "stdout",
          "text": [
            "['ee', 'ff', 'gg', 'aa', 'bb', 'cc', 'dd']\n"
          ]
        }
      ]
    },
    {
      "cell_type": "code",
      "source": [
        "L = [15, 14, 5, [1, 5, 6], 9, 10, [[52, 11, 39], [18, 29, 19]], 8]\n",
        "L[6] [1] [1]"
      ],
      "metadata": {
        "colab": {
          "base_uri": "https://localhost:8080/"
        },
        "id": "8nRXKwPxS3A_",
        "outputId": "d7f680ab-7521-4fac-c44c-17cdecfd7a10"
      },
      "execution_count": null,
      "outputs": [
        {
          "output_type": "execute_result",
          "data": {
            "text/plain": [
              "29"
            ]
          },
          "metadata": {},
          "execution_count": 19
        }
      ]
    },
    {
      "cell_type": "code",
      "source": [
        "print(L + [\"Yug\"])"
      ],
      "metadata": {
        "colab": {
          "base_uri": "https://localhost:8080/"
        },
        "id": "Zl4S4CownzR4",
        "outputId": "8049700f-b352-43cc-8bd9-64d98771198f"
      },
      "execution_count": null,
      "outputs": [
        {
          "output_type": "stream",
          "name": "stdout",
          "text": [
            "[15, 14, 5, [1, 5, 6], 9, 10, [[52, 11, 39], [18, 29, 19]], 8, 'Yug']\n"
          ]
        }
      ]
    },
    {
      "cell_type": "code",
      "source": [
        "List_New = [12, 16, 66, 2, 45, 87, 11, 14]\n",
        "List_old = List_New [1:3]\n",
        "x = List_New [:-1]\n",
        "x = x*2\n",
        "x = List_New + List_old + x\n",
        "len (x)"
      ],
      "metadata": {
        "colab": {
          "base_uri": "https://localhost:8080/"
        },
        "id": "RGfX1iluohTE",
        "outputId": "5d76baa6-fbfa-41a8-95c0-d1dc11b18fed"
      },
      "execution_count": null,
      "outputs": [
        {
          "output_type": "execute_result",
          "data": {
            "text/plain": [
              "24"
            ]
          },
          "metadata": {},
          "execution_count": 1
        }
      ]
    },
    {
      "cell_type": "code",
      "source": [
        "car = {\n",
        "    \"Brand\" : \"Ford\",\n",
        "    \"Model\" : \"Mustang\",\n",
        "    \"Year\" : 1964\n",
        "    }\n",
        "print (car)\n",
        "print (car [\"Brand\"])"
      ],
      "metadata": {
        "colab": {
          "base_uri": "https://localhost:8080/"
        },
        "id": "QTqZrP-9AXK4",
        "outputId": "2f4ceadc-1768-444e-d265-9fa11e32b271"
      },
      "execution_count": null,
      "outputs": [
        {
          "output_type": "stream",
          "name": "stdout",
          "text": [
            "{'Brand': 'Ford', 'Model': 'Mustang', 'Year': 1964}\n",
            "Ford\n"
          ]
        }
      ]
    },
    {
      "cell_type": "code",
      "source": [
        "car[\"Year\"] = 1965\n",
        "print (car[\"Year\"])"
      ],
      "metadata": {
        "colab": {
          "base_uri": "https://localhost:8080/"
        },
        "id": "iL5aIEqR1qn-",
        "outputId": "0883e34f-7157-4fb3-8baa-f81810c4d4b9"
      },
      "execution_count": null,
      "outputs": [
        {
          "output_type": "stream",
          "name": "stdout",
          "text": [
            "1965\n"
          ]
        }
      ]
    },
    {
      "cell_type": "code",
      "source": [
        "print (car)"
      ],
      "metadata": {
        "colab": {
          "base_uri": "https://localhost:8080/"
        },
        "id": "BIN3UxKj1zLP",
        "outputId": "1dbb35a7-a4e9-4a72-c21a-997dd9a98c70"
      },
      "execution_count": null,
      "outputs": [
        {
          "output_type": "stream",
          "name": "stdout",
          "text": [
            "{'Brand': 'Ford', 'Model': 'Mustang', 'Year': 1965}\n"
          ]
        }
      ]
    },
    {
      "cell_type": "code",
      "source": [
        "car.update ({\"Relunch_Year\": 1965})\n",
        "print (car)"
      ],
      "metadata": {
        "colab": {
          "base_uri": "https://localhost:8080/"
        },
        "id": "fqNdhMO214z6",
        "outputId": "b60608a3-b599-49c2-fd65-7ec9d1b16e68"
      },
      "execution_count": null,
      "outputs": [
        {
          "output_type": "stream",
          "name": "stdout",
          "text": [
            "{'Brand': 'Ford', 'Model': 'Mustang', 'Year': 1965, 'Relunch_Year': 1965}\n"
          ]
        }
      ]
    },
    {
      "cell_type": "code",
      "source": [
        "car.items()"
      ],
      "metadata": {
        "colab": {
          "base_uri": "https://localhost:8080/"
        },
        "id": "D0lmcF2MD3zQ",
        "outputId": "e8fdb484-bd3a-4034-9429-d232408af089"
      },
      "execution_count": null,
      "outputs": [
        {
          "output_type": "execute_result",
          "data": {
            "text/plain": [
              "dict_items([('Brand', 'Ford'), ('Model', 'Mustang'), ('Year', 1965), ('Relunch_Year', 1965)])"
            ]
          },
          "metadata": {},
          "execution_count": 32
        }
      ]
    },
    {
      "cell_type": "code",
      "source": [
        "car.keys()"
      ],
      "metadata": {
        "colab": {
          "base_uri": "https://localhost:8080/"
        },
        "id": "9dRU5IB-D6zo",
        "outputId": "15d9ba19-fbf1-4104-d79c-25e80172ea0b"
      },
      "execution_count": null,
      "outputs": [
        {
          "output_type": "execute_result",
          "data": {
            "text/plain": [
              "dict_keys(['Brand', 'Model', 'Year', 'Relunch_Year'])"
            ]
          },
          "metadata": {},
          "execution_count": 34
        }
      ]
    },
    {
      "cell_type": "code",
      "source": [
        "dict1 ={\"name\": \"Mike\", \"salary\": 8000, \"age\" : 34}\n",
        "temp = dict1.get(\"age\")\n",
        "print (temp)"
      ],
      "metadata": {
        "colab": {
          "base_uri": "https://localhost:8080/"
        },
        "id": "wTA069tMEOTh",
        "outputId": "b7c6e059-b6fc-4689-e95b-02e9757847ee"
      },
      "execution_count": null,
      "outputs": [
        {
          "output_type": "stream",
          "name": "stdout",
          "text": [
            "34\n"
          ]
        }
      ]
    },
    {
      "cell_type": "code",
      "source": [
        "for i in range (5,0, -1) :\n",
        " print (i)"
      ],
      "metadata": {
        "colab": {
          "base_uri": "https://localhost:8080/"
        },
        "id": "2p-shPmy3YTD",
        "outputId": "7c25fcd0-7f9f-4553-af3f-ebde1e527764"
      },
      "execution_count": null,
      "outputs": [
        {
          "output_type": "stream",
          "name": "stdout",
          "text": [
            "5\n",
            "4\n",
            "3\n",
            "2\n"
          ]
        }
      ]
    },
    {
      "cell_type": "code",
      "source": [
        "for i in range (1,6) :\n",
        " print(\"*\"*i)"
      ],
      "metadata": {
        "colab": {
          "base_uri": "https://localhost:8080/"
        },
        "id": "exm_kPdj409U",
        "outputId": "e1981831-fb2e-4faa-e733-91ac32ec19b3"
      },
      "execution_count": null,
      "outputs": [
        {
          "output_type": "stream",
          "name": "stdout",
          "text": [
            "*\n",
            "**\n",
            "***\n",
            "****\n",
            "*****\n"
          ]
        }
      ]
    },
    {
      "cell_type": "code",
      "source": [
        "for i in range (5,0,-1) :\n",
        " print (\"*\" * i)"
      ],
      "metadata": {
        "colab": {
          "base_uri": "https://localhost:8080/"
        },
        "id": "FJ2PQ4Sa5_QA",
        "outputId": "36f54549-1d11-47ff-813c-9088fe85f03e"
      },
      "execution_count": null,
      "outputs": [
        {
          "output_type": "stream",
          "name": "stdout",
          "text": [
            "*****     ****    ***   **  * "
          ]
        }
      ]
    },
    {
      "cell_type": "code",
      "source": [
        "for h in range (1,6) :\n",
        "  for i in range (1,h+1) :\n",
        "    print (i, end = \"\")\n",
        "  print ()"
      ],
      "metadata": {
        "id": "fk4fngEgFzGN",
        "colab": {
          "base_uri": "https://localhost:8080/"
        },
        "outputId": "0c8b327e-16f4-4757-9449-d5201dc767ba"
      },
      "execution_count": null,
      "outputs": [
        {
          "output_type": "stream",
          "name": "stdout",
          "text": [
            "1\n",
            "12\n",
            "123\n",
            "1234\n",
            "12345\n"
          ]
        }
      ]
    },
    {
      "cell_type": "code",
      "source": [
        "for h in range (6,1,-1) :\n",
        "  for i in range (h-1,0,-1) :\n",
        "    print (i, end = \"\")\n",
        "  print ()"
      ],
      "metadata": {
        "colab": {
          "base_uri": "https://localhost:8080/"
        },
        "id": "6D3ksOUb_nQ0",
        "outputId": "70705bbb-4111-48ab-eb7d-fc4473f5bca2"
      },
      "execution_count": null,
      "outputs": [
        {
          "output_type": "stream",
          "name": "stdout",
          "text": [
            "54321\n",
            "4321\n",
            "321\n",
            "21\n",
            "1\n"
          ]
        }
      ]
    },
    {
      "cell_type": "code",
      "source": [
        "for a in range (1, 6) :\n",
        "  for b in range (1, a+1) :\n",
        "   print (b, end = \" \")\n",
        "  print()"
      ],
      "metadata": {
        "colab": {
          "base_uri": "https://localhost:8080/"
        },
        "id": "ZI1rW5Elpv6F",
        "outputId": "3e796360-6174-4ea3-ac3d-c5f6fdaa7bcd"
      },
      "execution_count": null,
      "outputs": [
        {
          "output_type": "stream",
          "name": "stdout",
          "text": [
            "1 \n",
            "1 2 \n",
            "1 2 3 \n",
            "1 2 3 4 \n",
            "1 2 3 4 5 \n"
          ]
        }
      ]
    },
    {
      "cell_type": "code",
      "source": [
        "space = 0\n",
        "\n",
        "for i in range(1,6) :\n",
        " space = i + 1\n",
        " for b in range (1, space) :\n",
        "  print ( end = \" \")\n",
        "\n",
        " print(\"*\")"
      ],
      "metadata": {
        "colab": {
          "base_uri": "https://localhost:8080/"
        },
        "id": "EzggLEcnsJAq",
        "outputId": "e9c669d5-5bc5-49b8-df83-1c70c1f06050"
      },
      "execution_count": null,
      "outputs": [
        {
          "output_type": "stream",
          "name": "stdout",
          "text": [
            " *\n",
            "  **\n",
            "   ***\n",
            "    ****\n",
            "     *****\n"
          ]
        }
      ]
    },
    {
      "cell_type": "code",
      "source": [
        "for i in range(5, 0, -1):\n",
        "    spaces = \" \" * (5 - i)\n",
        "    stars = \"*\" * i\n",
        "    print(spaces + stars)"
      ],
      "metadata": {
        "colab": {
          "base_uri": "https://localhost:8080/"
        },
        "id": "zfgiA3Wrp__O",
        "outputId": "50e2d28b-0ad5-4c8d-938f-d0aa25f7e3ec"
      },
      "execution_count": null,
      "outputs": [
        {
          "output_type": "stream",
          "name": "stdout",
          "text": [
            "*****\n",
            " ****\n",
            "  ***\n",
            "   **\n",
            "    *\n"
          ]
        }
      ]
    },
    {
      "cell_type": "code",
      "source": [
        "for h in range (6,1,-1) :\n",
        "  for i in range (1, h) :\n",
        "    print (i, end = \"\")\n",
        "  print ()"
      ],
      "metadata": {
        "colab": {
          "base_uri": "https://localhost:8080/"
        },
        "id": "1wf7m-i_IaIO",
        "outputId": "c89029af-965d-4ee2-e9d1-264a84ad6517"
      },
      "execution_count": null,
      "outputs": [
        {
          "output_type": "stream",
          "name": "stdout",
          "text": [
            "12345\n",
            "1234\n",
            "123\n",
            "12\n",
            "1\n"
          ]
        }
      ]
    },
    {
      "cell_type": "code",
      "source": [
        "n = 5\n",
        "\n",
        "for i in range(n):\n",
        "    spaces = \" \" * (n - i - 1)\n",
        "    stars = \"* \" * (i + 1)\n",
        "    print(spaces + stars)\n",
        "\n",
        "for i in range(n, 0, -1):\n",
        "    spaces = \" \" * (n - i)\n",
        "    stars = \"* \" * i\n",
        "    print(spaces + stars)"
      ],
      "metadata": {
        "colab": {
          "base_uri": "https://localhost:8080/"
        },
        "id": "AvwYsm1QMcd2",
        "outputId": "c74850df-fd52-4816-8206-593e8d889bcb"
      },
      "execution_count": null,
      "outputs": [
        {
          "output_type": "stream",
          "name": "stdout",
          "text": [
            "    * \n",
            "   * * \n",
            "  * * * \n",
            " * * * * \n",
            "* * * * * \n",
            "* * * * * \n",
            " * * * * \n",
            "  * * * \n",
            "   * * \n",
            "    * \n"
          ]
        }
      ]
    },
    {
      "cell_type": "code",
      "source": [
        "space = 5\n",
        "for i in range (1, 6):\n",
        "  print(\" \" * space + i * \"*\")\n",
        "  space -= 1"
      ],
      "metadata": {
        "colab": {
          "base_uri": "https://localhost:8080/"
        },
        "id": "gbK2lQryR68J",
        "outputId": "5e2c97b4-907b-4f5d-ec22-c9e3c6af679b"
      },
      "execution_count": null,
      "outputs": [
        {
          "output_type": "stream",
          "name": "stdout",
          "text": [
            "     *\n",
            "    **\n",
            "   ***\n",
            "  ****\n",
            " *****\n"
          ]
        }
      ]
    },
    {
      "cell_type": "code",
      "source": [
        "Bill = int (input(\"Enter Units\"))\n",
        "\n",
        "if (Bill <= 100) :\n",
        " print (\"No charge\")\n",
        "elif (Bill> 100 and Bill <= 200) :\n",
        "  print ((Bill -100) * 5)\n",
        "else :\n",
        "  print ((100*5) + ((Bill - 200) * 10))"
      ],
      "metadata": {
        "colab": {
          "base_uri": "https://localhost:8080/"
        },
        "id": "nvQ07s73Z_KR",
        "outputId": "ccace1c1-76a2-4ca4-8770-82da96fd1a46"
      },
      "execution_count": null,
      "outputs": [
        {
          "output_type": "stream",
          "name": "stdout",
          "text": [
            "Enter Units1\n",
            "No charge\n"
          ]
        }
      ]
    },
    {
      "cell_type": "code",
      "source": [
        "num1 = int (input(\"Enter First Number\"))\n",
        "num2 = int (input(\"Enter Second Number\"))\n",
        "num3 = int (input(\"Enter Third Number\"))\n",
        "\n",
        "if (num1 > num2 and num2 > num3) :\n",
        " print (num1)\n",
        "elif (num2 > num1 and num1 > num3) :\n",
        " print (num2)\n",
        "else :\n",
        " print (num3)"
      ],
      "metadata": {
        "colab": {
          "base_uri": "https://localhost:8080/"
        },
        "id": "EOw25caV7HFZ",
        "outputId": "34716632-e134-46d7-ce96-fb317d873c96"
      },
      "execution_count": null,
      "outputs": [
        {
          "output_type": "stream",
          "name": "stdout",
          "text": [
            "Enter First Number1\n",
            "Enter Second Number2\n",
            "Enter Third Number3\n",
            "3\n"
          ]
        }
      ]
    },
    {
      "cell_type": "code",
      "source": [
        "a = \"This is orange juice\"\n",
        "print ('orange' in a)"
      ],
      "metadata": {
        "colab": {
          "base_uri": "https://localhost:8080/"
        },
        "id": "HJXHfG-H8vzQ",
        "outputId": "d1495b62-8b95-468e-dd99-bf20eed673b0"
      },
      "execution_count": null,
      "outputs": [
        {
          "output_type": "stream",
          "name": "stdout",
          "text": [
            "True\n"
          ]
        }
      ]
    },
    {
      "cell_type": "code",
      "source": [
        "def is_vowel(char):\n",
        "    vowels = \"aeiouAEIOU\"\n",
        "    return char in vowels\n",
        "\n",
        "character = input(\"Enter a character: \")\n",
        "\n",
        "if len(character) == 1:\n",
        "    if is_vowel(character):\n",
        "        print(f\"{character} is a vowel.\")\n",
        "    else:\n",
        "        print(f\"{character} is not a vowel.\")\n",
        "else:\n",
        "    print(\"Please enter a single character.\")"
      ],
      "metadata": {
        "colab": {
          "base_uri": "https://localhost:8080/"
        },
        "id": "hECSz-TY9-0E",
        "outputId": "bed54f00-474b-4eed-b067-753596697be5"
      },
      "execution_count": null,
      "outputs": [
        {
          "output_type": "stream",
          "name": "stdout",
          "text": [
            "Enter a character: a\n",
            "a is a vowel.\n"
          ]
        }
      ]
    },
    {
      "cell_type": "code",
      "source": [
        "list_of_dict = [\n",
        "    {\"Name\": \"Tom\", \"Age\" : 10},\n",
        "                {\"Name\": \"Mark\", \"Age\" : 5},\n",
        "                {\"Name\" : \"Pam\", \"Age\" : 7}\n",
        "    ]\n",
        "print(list_of_dict)"
      ],
      "metadata": {
        "colab": {
          "base_uri": "https://localhost:8080/"
        },
        "id": "AJ7PJxJ-tme8",
        "outputId": "48aadab7-195d-4f75-f798-bd461667629f"
      },
      "execution_count": null,
      "outputs": [
        {
          "output_type": "stream",
          "name": "stdout",
          "text": [
            "[{'Name': 'Tom', 'Age': 10}, {'Name': 'Mark', 'Age': 5}, {'Name': 'Pam', 'Age': 7}]\n"
          ]
        }
      ]
    },
    {
      "cell_type": "code",
      "source": [
        "for l in list_of_dict :\n",
        "  print (l)\n",
        "  for b in l :\n",
        "    print (b)"
      ],
      "metadata": {
        "colab": {
          "base_uri": "https://localhost:8080/"
        },
        "id": "8vombaERvFdK",
        "outputId": "afcdf0a4-d82e-44f9-a518-d6d7f473eaec"
      },
      "execution_count": null,
      "outputs": [
        {
          "output_type": "stream",
          "name": "stdout",
          "text": [
            "{'Name': 'Tom', 'Age': 10}\n",
            "Name\n",
            "Age\n",
            "{'Name': 'Mark', 'Age': 5}\n",
            "Name\n",
            "Age\n",
            "{'Name': 'Pam', 'Age': 7}\n",
            "Name\n",
            "Age\n"
          ]
        }
      ]
    },
    {
      "cell_type": "code",
      "source": [
        "name = \"Tom\"\n",
        "for a in list_of_dict :\n",
        "  for b in a.values() :\n",
        "    if (name == b) :\n",
        "      print(name, \"is present in name\")\n",
        "    else :\n",
        "      print (name, \"is not present in name\")"
      ],
      "metadata": {
        "colab": {
          "base_uri": "https://localhost:8080/"
        },
        "id": "Yar5HFoSGSMQ",
        "outputId": "72c59898-a9fb-4236-ae88-784ea69c0ee9"
      },
      "execution_count": null,
      "outputs": [
        {
          "output_type": "stream",
          "name": "stdout",
          "text": [
            "Tom is present in name\n",
            "Tom is not present in name\n",
            "Tom is not present in name\n",
            "Tom is not present in name\n",
            "Tom is not present in name\n",
            "Tom is not present in name\n"
          ]
        }
      ]
    },
    {
      "cell_type": "code",
      "source": [
        "for a in list_of_dict :\n",
        "  print(a)\n",
        "  print (\"------\")\n",
        "  for b in a.values() :\n",
        "    print (isinstance(b,int))"
      ],
      "metadata": {
        "colab": {
          "base_uri": "https://localhost:8080/"
        },
        "id": "bX4vlDu6Iw4r",
        "outputId": "7456a454-e4bb-4343-9c5d-2645250c4161"
      },
      "execution_count": null,
      "outputs": [
        {
          "output_type": "stream",
          "name": "stdout",
          "text": [
            "{'Name': 'Tom', 'Age': 10}\n",
            "------\n",
            "False\n",
            "True\n",
            "{'Name': 'Mark', 'Age': 5}\n",
            "------\n",
            "False\n",
            "True\n",
            "{'Name': 'Pam', 'Age': 7}\n",
            "------\n",
            "False\n",
            "True\n"
          ]
        }
      ]
    },
    {
      "cell_type": "code",
      "source": [
        "Name = \"pam\"\n",
        "\n",
        "for a in list_of_dict :\n",
        "  print (a)\n",
        "  print (\"----\")\n",
        "  for b in a.values() :\n",
        "    print (b)\n",
        "    if (isinstance(b,str) and Name == b.lower()) :\n",
        "      print (Name,\"is present\")\n",
        "    else :\n",
        "      pass"
      ],
      "metadata": {
        "colab": {
          "base_uri": "https://localhost:8080/"
        },
        "id": "OILfnQSBKrfc",
        "outputId": "a0e56e41-957e-43e9-ca97-7366b903fd8e"
      },
      "execution_count": null,
      "outputs": [
        {
          "output_type": "stream",
          "name": "stdout",
          "text": [
            "{'Name': 'Tom', 'Age': 10}\n",
            "----\n",
            "Tom\n",
            "10\n",
            "{'Name': 'Mark', 'Age': 5}\n",
            "----\n",
            "Mark\n",
            "5\n",
            "{'Name': 'Pam', 'Age': 7}\n",
            "----\n",
            "Pam\n",
            "pam is present\n",
            "7\n"
          ]
        }
      ]
    },
    {
      "cell_type": "code",
      "source": [
        "dct_of_list = {\n",
        "  'fruit': [\n",
        "    {\n",
        "      'name': 'apple',\n",
        "      'no': 2,\n",
        "      'name': 'kiwi',\n",
        "      'no': 3\n",
        "    },\n",
        "    {\n",
        "      'name': 'banana',\n",
        "      'no': 3\n",
        "    }\n",
        "  ],\n",
        "  'vehicles': [\n",
        "    {\n",
        "      'name': 'cars',\n",
        "      'no': 4\n",
        "    }\n",
        "  ]\n",
        "}"
      ],
      "metadata": {
        "id": "u0EYCmKYzyOn"
      },
      "execution_count": null,
      "outputs": []
    },
    {
      "cell_type": "code",
      "source": [
        "print (dct_of_list['fruit'])\n",
        "print(dct_of_list['vehicles'])"
      ],
      "metadata": {
        "colab": {
          "base_uri": "https://localhost:8080/"
        },
        "id": "y_o1x-8k4YIL",
        "outputId": "27ebb8b8-de91-4e1e-dca9-1ca7099bba04"
      },
      "execution_count": null,
      "outputs": [
        {
          "output_type": "stream",
          "name": "stdout",
          "text": [
            "[{'name': 'kiwi', 'no': 3}, {'name': 'banana', 'no': 3}]\n",
            "[{'name': 'cars', 'no': 4}]\n"
          ]
        }
      ]
    },
    {
      "cell_type": "code",
      "source": [
        "people = {1: {'name': 'John', 'age': '27', 'sex': 'Male'},\n",
        "          2: {'name': 'Marie', 'age': '22', 'sex': 'Female'},\n",
        "          3: {'name': 'Luna', 'age': '24', 'sex': 'Female', 'married': 'No'},\n",
        "          4: {'name': 'Peter', 'age': '29', 'sex': 'Male', 'married': 'Yes'}}\n",
        "print(people)"
      ],
      "metadata": {
        "colab": {
          "base_uri": "https://localhost:8080/"
        },
        "id": "s3kEgQk4kYvs",
        "outputId": "45c0bb9d-4703-4d16-d4f1-e44d6d201aa0"
      },
      "execution_count": null,
      "outputs": [
        {
          "output_type": "stream",
          "name": "stdout",
          "text": [
            "{1: {'name': 'John', 'age': '27', 'sex': 'Male'}, 2: {'name': 'Marie', 'age': '22', 'sex': 'Female'}, 3: {'name': 'Luna', 'age': '24', 'sex': 'Female', 'married': 'No'}, 4: {'name': 'Peter', 'age': '29', 'sex': 'Male', 'married': 'Yes'}}\n"
          ]
        }
      ]
    },
    {
      "cell_type": "code",
      "source": [
        "x = [\n",
        "'a',\n",
        "'b',\n",
        "{\n",
        "'foo': 1,\n",
        "'bar':\n",
        "{\n",
        "'x': 10,\n",
        "'y' : 20,\n",
        "'z': 30\n",
        "},\n",
        "'baz': 3\n",
        "},\n",
        "'c',\n",
        "'d'\n",
        "]\n",
        "\n",
        "print (x[2]['bar']['z'])"
      ],
      "metadata": {
        "colab": {
          "base_uri": "https://localhost:8080/"
        },
        "id": "fCDuxGl0_yPT",
        "outputId": "36a1330a-06f3-4a6e-d0f2-95a13ed2561a"
      },
      "execution_count": null,
      "outputs": [
        {
          "output_type": "stream",
          "name": "stdout",
          "text": [
            "30\n"
          ]
        }
      ]
    },
    {
      "cell_type": "code",
      "source": [
        "sampleDict = {\n",
        "\"class\":{\n",
        "\"student\":{\n",
        "\"name\": \"Mike\",\n",
        "\"marks\":{\n",
        "\"physics\": 70,\n",
        "\"history\" :80\n",
        "}\n",
        "}\n",
        "}\n",
        "};\n",
        "print (sampleDict['class']['student']['marks']['history'])"
      ],
      "metadata": {
        "colab": {
          "base_uri": "https://localhost:8080/"
        },
        "id": "2DuNp-54AVQV",
        "outputId": "c8f29ff2-4b0e-4e45-f160-ba3029c174de"
      },
      "execution_count": null,
      "outputs": [
        {
          "output_type": "stream",
          "name": "stdout",
          "text": [
            "80\n"
          ]
        }
      ]
    },
    {
      "cell_type": "code",
      "source": [
        "student = {\"1\": {'name': 'Emma', 'age': '27', 'sex': 'Female'},\n",
        "                  2: {'name': 'Mike', 'age': '22', 'sex': 'Male'}}\n"
      ],
      "metadata": {
        "id": "J-v5O6sXA5-r"
      },
      "execution_count": null,
      "outputs": []
    },
    {
      "cell_type": "code",
      "source": [
        "numbers_list = [44.7, 5, 22.3, 7, 31.5, 1, 9.5, 61, 5.34, 68.05, 67,\n",
        "21, 45, 62.12, 43, 10, 23, 65, 90, 14, 83, 62, 30.54, 21.5, 11, 56, 32, 56, 90.63, 99, 45.90, 67, 33, 53, 42, 87, 67, 59, 90, 44, 88, 12.90, 45, 30.54, 21.5, 11, 56, 32, 56, 90.63, 99, 45.90, 67]\n",
        "\n",
        "# variable to store the sum\n",
        "sum = 0\n",
        "\n",
        "# iterate over the list\n",
        "for i in numbers_list:\n",
        "  sum = sum+i\n",
        "  sum += i\n",
        "\n",
        "print (\"The sum is\", sum)"
      ],
      "metadata": {
        "colab": {
          "base_uri": "https://localhost:8080/"
        },
        "id": "t6qOhPY1yIUn",
        "outputId": "0269af06-9c48-407f-d9b1-8798fb51bf7b"
      },
      "execution_count": null,
      "outputs": [
        {
          "output_type": "stream",
          "name": "stdout",
          "text": [
            "The sum is 4961.1\n"
          ]
        }
      ]
    },
    {
      "cell_type": "code",
      "source": [
        "str_new = \"jjhh1jj2jghj6jjshh47dhkljkaf6ahulkflksf8fjlkkejlrwe7werhwa1khed7fjfslfjd9dhherf7fefoo995hg87stt8gust58thg8rthgurt5out9tyfosen98tw3uw4tw4\"\n",
        "\n",
        "num_digits = 0\n",
        "num_chars = 0\n",
        "sum_digits = 0\n",
        "\n",
        "for char in str_new:\n",
        "    if char.isdigit():\n",
        "        num_digits += 1\n",
        "        sum_digits += int(char)\n",
        "    else:\n",
        "        num_chars += 1\n",
        "\n",
        "print(\"Number of digits:\", num_digits)\n",
        "print(\"Number of characters:\", num_chars)\n",
        "print(\"Sum of digits:\", sum_digits)\n"
      ],
      "metadata": {
        "colab": {
          "base_uri": "https://localhost:8080/"
        },
        "id": "kC6NgKC8yZBX",
        "outputId": "19cf9209-9917-4737-f3c0-3a98371a8513"
      },
      "execution_count": null,
      "outputs": [
        {
          "output_type": "stream",
          "name": "stdout",
          "text": [
            "Number of digits: 28\n",
            "Number of characters: 108\n",
            "Sum of digits: 174\n"
          ]
        }
      ]
    },
    {
      "cell_type": "code",
      "source": [
        "T = (1, 2, 3, 4, 5)\n",
        "type (T)"
      ],
      "metadata": {
        "colab": {
          "base_uri": "https://localhost:8080/"
        },
        "id": "__G2CA4ZPzqN",
        "outputId": "3fb8d1c8-9960-4a0d-a42d-92cbee4e64c1"
      },
      "execution_count": null,
      "outputs": [
        {
          "output_type": "execute_result",
          "data": {
            "text/plain": [
              "tuple"
            ]
          },
          "metadata": {},
          "execution_count": 3
        }
      ]
    },
    {
      "cell_type": "code",
      "source": [
        "T = 1, 2, 3, 4, 5,\n",
        "print(T)\n",
        "type(T)"
      ],
      "metadata": {
        "colab": {
          "base_uri": "https://localhost:8080/"
        },
        "id": "SVw-Lek2P9Q7",
        "outputId": "3abfbb0a-2a2a-474d-ab83-6d69b95bb916"
      },
      "execution_count": null,
      "outputs": [
        {
          "output_type": "stream",
          "name": "stdout",
          "text": [
            "(1, 2, 3, 4, 5)\n"
          ]
        },
        {
          "output_type": "execute_result",
          "data": {
            "text/plain": [
              "tuple"
            ]
          },
          "metadata": {},
          "execution_count": 9
        }
      ]
    },
    {
      "cell_type": "code",
      "source": [
        "T = tuple([1, 2, 3, 4, 5])\n",
        "T\n",
        "type (T)"
      ],
      "metadata": {
        "colab": {
          "base_uri": "https://localhost:8080/"
        },
        "id": "9lns-FrYQEPA",
        "outputId": "f4f96c94-6c02-4d0c-9532-4f3fef021651"
      },
      "execution_count": null,
      "outputs": [
        {
          "output_type": "execute_result",
          "data": {
            "text/plain": [
              "tuple"
            ]
          },
          "metadata": {},
          "execution_count": 1
        }
      ]
    },
    {
      "cell_type": "code",
      "source": [
        "list_new = [12,16,66,2,45,87,11,14]\n",
        "list_old = list_new [1:3]\n",
        "x = list_new [:-1]\n",
        "x = x*2\n",
        "x = list_new + list_old + x\n",
        "print (len (x))"
      ],
      "metadata": {
        "colab": {
          "base_uri": "https://localhost:8080/"
        },
        "id": "aREB-z63GE7l",
        "outputId": "e67462f5-64ae-4e75-91dd-344d4840074b"
      },
      "execution_count": null,
      "outputs": [
        {
          "output_type": "stream",
          "name": "stdout",
          "text": [
            "24\n"
          ]
        }
      ]
    },
    {
      "cell_type": "code",
      "source": [
        "my_tuple = (1, 2, 3, 2, 4, 5, 1, 6)\n",
        "unique_values = set(my_tuple)\n",
        "print(unique_values)"
      ],
      "metadata": {
        "colab": {
          "base_uri": "https://localhost:8080/"
        },
        "id": "agE96NaBEStR",
        "outputId": "34eca0f6-6662-4ea2-8903-13561e600a08"
      },
      "execution_count": null,
      "outputs": [
        {
          "output_type": "stream",
          "name": "stdout",
          "text": [
            "{1, 2, 3, 4, 5, 6}\n"
          ]
        }
      ]
    },
    {
      "cell_type": "code",
      "source": [
        "dollar = [100, 203, 99, 40,610]\n",
        "dollar_to_rs =79.12\n",
        "final_conv = []\n",
        "\n",
        "for d in dollar :\n",
        "  final_conv.append (d* dollar_to_rs)\n",
        "print (final_conv)"
      ],
      "metadata": {
        "colab": {
          "base_uri": "https://localhost:8080/"
        },
        "id": "tpKT25YONjAA",
        "outputId": "b3fee02b-65d8-407f-a7f2-6fa996dacdf6"
      },
      "execution_count": null,
      "outputs": [
        {
          "output_type": "stream",
          "name": "stdout",
          "text": [
            "[7912.0, 16061.36, 7832.88, 3164.8, 48263.200000000004]\n"
          ]
        }
      ]
    },
    {
      "cell_type": "code",
      "source": [
        "final_conv = [d * dollar_to_rs for d in dollar]\n",
        "final_conv"
      ],
      "metadata": {
        "colab": {
          "base_uri": "https://localhost:8080/"
        },
        "id": "i8VpCdcKqmw_",
        "outputId": "02cfb599-ac29-435f-fa7c-6caf46952cb1"
      },
      "execution_count": null,
      "outputs": [
        {
          "output_type": "execute_result",
          "data": {
            "text/plain": [
              "[7912.0, 16061.36, 7832.88, 3164.8, 48263.200000000004]"
            ]
          },
          "metadata": {},
          "execution_count": 8
        }
      ]
    },
    {
      "cell_type": "code",
      "source": [
        "final_conv_above100 = []\n",
        "for d in dollar :\n",
        "  if d > 100 :\n",
        "    final_conv_above100.append(d* dollar_to_rs)\n",
        "final_conv_above100"
      ],
      "metadata": {
        "colab": {
          "base_uri": "https://localhost:8080/"
        },
        "id": "KtHdAYVVq6wP",
        "outputId": "91965c4d-b645-44a5-d23a-938bb3e62a37"
      },
      "execution_count": null,
      "outputs": [
        {
          "output_type": "execute_result",
          "data": {
            "text/plain": [
              "[16061.36, 48263.200000000004]"
            ]
          },
          "metadata": {},
          "execution_count": 16
        }
      ]
    },
    {
      "cell_type": "code",
      "source": [
        "final_conv_above100 = [d * dollar_to_rs for d in dollar if d >100]\n",
        "final_conv_above100"
      ],
      "metadata": {
        "colab": {
          "base_uri": "https://localhost:8080/"
        },
        "id": "bsjZd2xwrmXU",
        "outputId": "091bb297-fc5f-4142-e972-82cea2fcd178"
      },
      "execution_count": null,
      "outputs": [
        {
          "output_type": "execute_result",
          "data": {
            "text/plain": [
              "[16061.36, 48263.200000000004]"
            ]
          },
          "metadata": {},
          "execution_count": 4
        }
      ]
    },
    {
      "cell_type": "code",
      "source": [
        "h_letters = [ ]\n",
        "\n",
        "for letter in 'coding':\n",
        "  h_letters.append(letter)\n",
        "\n",
        "print (h_letters)"
      ],
      "metadata": {
        "colab": {
          "base_uri": "https://localhost:8080/"
        },
        "id": "Li4dnWIY_uwI",
        "outputId": "8a9b4b19-fb70-4520-c151-e4abf91b7bad"
      },
      "execution_count": null,
      "outputs": [
        {
          "output_type": "stream",
          "name": "stdout",
          "text": [
            "['c', 'o', 'd', 'i', 'n', 'g']\n"
          ]
        }
      ]
    },
    {
      "cell_type": "code",
      "source": [
        "matrix = [[1,2,3,4],[4,5,6,8]]\n",
        "transposed = []\n",
        "\n",
        "for i in range (len(matrix[0])) :\n",
        "   transposed_row = []\n",
        "\n",
        "   for row in matrix :\n",
        "\n",
        "     transposed_row.append(row[i])\n",
        "   transposed.append (transposed_row)\n",
        "print (transposed)"
      ],
      "metadata": {
        "colab": {
          "base_uri": "https://localhost:8080/"
        },
        "id": "w9dVOAgcntG6",
        "outputId": "9820cc82-43bb-456f-cb89-e61507f18db5"
      },
      "execution_count": null,
      "outputs": [
        {
          "output_type": "stream",
          "name": "stdout",
          "text": [
            "[[1, 4], [2, 5], [3, 6], [4, 8]]\n"
          ]
        }
      ]
    },
    {
      "cell_type": "code",
      "source": [
        "matrix = [[1,4],[2,5],[3,6],[4,8]]\n",
        "transpose = [[row [i] for row in matrix] for i in range (2)]\n",
        "print (transpose)"
      ],
      "metadata": {
        "colab": {
          "base_uri": "https://localhost:8080/"
        },
        "id": "iMe-8et0xT35",
        "outputId": "8f7ec5c4-5e70-490f-9d03-0a0aedc11d1f"
      },
      "execution_count": null,
      "outputs": [
        {
          "output_type": "stream",
          "name": "stdout",
          "text": [
            "[[1, 2, 3, 4], [4, 5, 6, 8]]\n"
          ]
        }
      ]
    },
    {
      "cell_type": "code",
      "source": [
        "print([i+j for i in \"123\" for j in \"123\"])"
      ],
      "metadata": {
        "colab": {
          "base_uri": "https://localhost:8080/"
        },
        "id": "gvENi1ExyBfq",
        "outputId": "5d67602d-539e-4e29-8b86-762a0862d04c"
      },
      "execution_count": null,
      "outputs": [
        {
          "output_type": "stream",
          "name": "stdout",
          "text": [
            "['11', '12', '13', '21', '22', '23', '31', '32', '33']\n"
          ]
        }
      ]
    },
    {
      "cell_type": "code",
      "source": [
        "print([[i+j for i in \"123\"] for j in \"321\"])"
      ],
      "metadata": {
        "colab": {
          "base_uri": "https://localhost:8080/"
        },
        "id": "xt4FRWD0yTJT",
        "outputId": "90e9c8ca-b7f9-4165-ba0d-c36f8b07bee6"
      },
      "execution_count": null,
      "outputs": [
        {
          "output_type": "stream",
          "name": "stdout",
          "text": [
            "[['13', '23', '33'], ['12', '22', '32'], ['11', '21', '31']]\n"
          ]
        }
      ]
    },
    {
      "cell_type": "code",
      "source": [
        "vals = [[1,2,3],[4,5,2],[3,2,6]]\n",
        "transposed = []\n",
        "\n",
        "for i in vals:\n",
        "  transposed.append(max(i))\n",
        "print (transposed)"
      ],
      "metadata": {
        "colab": {
          "base_uri": "https://localhost:8080/"
        },
        "id": "QUbR4e0mDhm5",
        "outputId": "a660193a-20dc-4e40-bdbd-cd01c25ac37a"
      },
      "execution_count": null,
      "outputs": [
        {
          "output_type": "stream",
          "name": "stdout",
          "text": [
            "[3, 5, 6]\n"
          ]
        }
      ]
    },
    {
      "cell_type": "code",
      "source": [
        "stocks = {\n",
        "    \"AAPL\" : 121,\n",
        "    \"AMZN\" : 3380,\n",
        "    \"MSFT\" : 219,\n",
        "    \"BIIB\" : 280,\n",
        "    \"QDEL\" : 266,\n",
        "    \"LVGO\" : 144\n",
        "}\n",
        "\n",
        "new_stocks = {}\n",
        "\n",
        "for symbol, price in stocks.items() :\n",
        "  new_stocks[symbol] = price * 1.2\n",
        "print (new_stocks)"
      ],
      "metadata": {
        "colab": {
          "base_uri": "https://localhost:8080/"
        },
        "id": "kUDJ_BjGDj1l",
        "outputId": "7272bb6f-96ce-4fd6-d204-930ebb7be7ee"
      },
      "execution_count": null,
      "outputs": [
        {
          "output_type": "stream",
          "name": "stdout",
          "text": [
            "{'AAPL': 145.2, 'AMZN': 4056.0, 'MSFT': 262.8, 'BIIB': 336.0, 'QDEL': 319.2, 'LVGO': 172.79999999999998}\n"
          ]
        }
      ]
    },
    {
      "cell_type": "code",
      "source": [
        "new_stocks = {symbol: price*1.2 for symbol, price in stocks.items()}\n",
        "\n",
        "print (new_stocks)"
      ],
      "metadata": {
        "colab": {
          "base_uri": "https://localhost:8080/"
        },
        "id": "Tlrc9f7lE-Lz",
        "outputId": "05032e50-8a01-4fc1-b5cb-b69972f33fea"
      },
      "execution_count": null,
      "outputs": [
        {
          "output_type": "stream",
          "name": "stdout",
          "text": [
            "{'AAPL': 145.2, 'AMZN': 4056.0, 'MSFT': 262.8, 'BIIB': 336.0, 'QDEL': 319.2, 'LVGO': 172.79999999999998}\n"
          ]
        }
      ]
    },
    {
      "cell_type": "code",
      "source": [
        "new_stocks = {}\n",
        "\n",
        "for symbol, price in stocks.items() :\n",
        "  if price > 200 :\n",
        "     new_stocks[symbol] = price * 1.02\n",
        "print (new_stocks)"
      ],
      "metadata": {
        "colab": {
          "base_uri": "https://localhost:8080/"
        },
        "id": "9j9zFd7HSadP",
        "outputId": "b44aff47-4660-4e9c-eecc-7625bb30c657"
      },
      "execution_count": null,
      "outputs": [
        {
          "output_type": "stream",
          "name": "stdout",
          "text": [
            "{'AMZN': 3447.6, 'MSFT': 223.38, 'BIIB': 285.6, 'QDEL': 271.32}\n"
          ]
        }
      ]
    },
    {
      "cell_type": "code",
      "source": [
        "new_stocks = {symbol: price*1.02 for symbol, price in stocks.items() if price > 200}\n",
        "\n",
        "print (new_stocks)"
      ],
      "metadata": {
        "colab": {
          "base_uri": "https://localhost:8080/"
        },
        "id": "e2hIGT3eS1Je",
        "outputId": "dfb30da4-e65f-43df-cd79-ada22122e80f"
      },
      "execution_count": null,
      "outputs": [
        {
          "output_type": "stream",
          "name": "stdout",
          "text": [
            "{'AMZN': 3447.6, 'MSFT': 223.38, 'BIIB': 285.6, 'QDEL': 271.32}\n"
          ]
        }
      ]
    },
    {
      "cell_type": "code",
      "source": [
        "stock_status = {symbol : (\"Sell\" if price < 200 else \"Hold\") for symbol, price in stocks.items() }\n",
        "\n",
        "print (stock_status)"
      ],
      "metadata": {
        "colab": {
          "base_uri": "https://localhost:8080/"
        },
        "id": "AdAuwSWxFqOs",
        "outputId": "52b42010-04b3-411d-dbaf-871ff74d762e"
      },
      "execution_count": null,
      "outputs": [
        {
          "output_type": "stream",
          "name": "stdout",
          "text": [
            "{'AAPL': 'Sell', 'AMZN': 'Hold', 'MSFT': 'Hold', 'BIIB': 'Hold', 'QDEL': 'Hold', 'LVGO': 'Sell'}\n"
          ]
        }
      ]
    },
    {
      "cell_type": "code",
      "source": [
        "no1 = [1,2,3,4,5]\n",
        "no2 = [\"A\", \"B\", \"C\", \"D\", \"E\"]\n",
        "dct = {}\n",
        "for i in no1:\n",
        "  for j in no2:\n",
        "    dct.update ({(i,j) : str (i) + str (j)})\n",
        "print (dct)"
      ],
      "metadata": {
        "colab": {
          "base_uri": "https://localhost:8080/"
        },
        "id": "mR4Dtu3uLbow",
        "outputId": "33cdf354-8646-4377-be7b-f1d59df50919"
      },
      "execution_count": null,
      "outputs": [
        {
          "output_type": "stream",
          "name": "stdout",
          "text": [
            "{(1, 'A'): '1A', (1, 'B'): '1B', (1, 'C'): '1C', (1, 'D'): '1D', (1, 'E'): '1E', (2, 'A'): '2A', (2, 'B'): '2B', (2, 'C'): '2C', (2, 'D'): '2D', (2, 'E'): '2E', (3, 'A'): '3A', (3, 'B'): '3B', (3, 'C'): '3C', (3, 'D'): '3D', (3, 'E'): '3E', (4, 'A'): '4A', (4, 'B'): '4B', (4, 'C'): '4C', (4, 'D'): '4D', (4, 'E'): '4E', (5, 'A'): '5A', (5, 'B'): '5B', (5, 'C'): '5C', (5, 'D'): '5D', (5, 'E'): '5E'}\n"
          ]
        }
      ]
    },
    {
      "cell_type": "code",
      "source": [
        "fact = 1\n",
        "num = 4\n",
        "\n",
        "while (num) :\n",
        "  fact *= num\n",
        "  num -= 1\n",
        "print (fact)"
      ],
      "metadata": {
        "id": "YCGWlidVFqcX",
        "colab": {
          "base_uri": "https://localhost:8080/"
        },
        "outputId": "f86cc796-8193-4c9e-91f3-a66f5aabd01e"
      },
      "execution_count": null,
      "outputs": [
        {
          "output_type": "stream",
          "name": "stdout",
          "text": [
            "24\n"
          ]
        }
      ]
    },
    {
      "cell_type": "code",
      "source": [
        "no_list = [1,3,5,7,9,11,13]\n",
        "\n",
        "total = 0\n",
        "\n",
        "while (no_list) :\n",
        "  value = no_list.pop ()\n",
        "  total += value\n",
        "print (total)"
      ],
      "metadata": {
        "colab": {
          "base_uri": "https://localhost:8080/"
        },
        "id": "yhlYvT7SKxoT",
        "outputId": "dd56d62d-2ce3-49ae-d76b-117c1701ac23"
      },
      "execution_count": null,
      "outputs": [
        {
          "output_type": "stream",
          "name": "stdout",
          "text": [
            "49\n"
          ]
        }
      ]
    },
    {
      "cell_type": "code",
      "source": [
        "from collections import Counter\n",
        "\n",
        "def count_favorite_singers(num_songs, singers):\n",
        "    singer_counter = Counter(singers)\n",
        "    max_songs = max(singer_counter.values())\n",
        "    favorite_singers = sum(1 for count in singer_counter.values() if count == max_songs)\n",
        "    return favorite_singers\n",
        "\n",
        "# Input\n",
        "num_songs = int(input())\n",
        "singers = list(map(int, input().split()))\n",
        "\n",
        "# Calculate and print the number of favorite singers\n",
        "result = count_favorite_singers(num_songs, singers)\n",
        "print(result)"
      ],
      "metadata": {
        "colab": {
          "base_uri": "https://localhost:8080/"
        },
        "id": "X52tp-zyePmZ",
        "outputId": "9b8ba7cf-a84e-418c-c4c1-ac1e3c902f42"
      },
      "execution_count": null,
      "outputs": [
        {
          "output_type": "stream",
          "name": "stdout",
          "text": [
            "100\n",
            "5\n",
            "1\n"
          ]
        }
      ]
    },
    {
      "cell_type": "code",
      "source": [
        "d = {'foo': 1, 'bar': 2, 'baz': 3}\n",
        "while d:\n",
        "  print (d.popitem())\n",
        "print('Done.')"
      ],
      "metadata": {
        "colab": {
          "base_uri": "https://localhost:8080/"
        },
        "id": "1kkeBx2bgkEt",
        "outputId": "786195c0-00ac-4642-d7ce-a80bdacc5380"
      },
      "execution_count": null,
      "outputs": [
        {
          "output_type": "stream",
          "name": "stdout",
          "text": [
            "('baz', 3)\n",
            "('bar', 2)\n",
            "('foo', 1)\n",
            "Done.\n"
          ]
        }
      ]
    },
    {
      "cell_type": "code",
      "source": [
        "i = 1\n",
        "while i <= 5:\n",
        "    j = 1\n",
        "    while j <= 5:\n",
        "        if j >= (5 - i + 1):\n",
        "            print(\"*\", end=\"\")\n",
        "        else:\n",
        "            print(\" \", end=\"\")\n",
        "        j += 1\n",
        "    print()\n",
        "    i += 1"
      ],
      "metadata": {
        "colab": {
          "base_uri": "https://localhost:8080/"
        },
        "id": "pZJSCGRxoAOQ",
        "outputId": "632ab76f-a53b-4c3c-ae14-45b81c5e9f36"
      },
      "execution_count": null,
      "outputs": [
        {
          "output_type": "stream",
          "name": "stdout",
          "text": [
            "    *\n",
            "   **\n",
            "  ***\n",
            " ****\n",
            "*****\n"
          ]
        }
      ]
    },
    {
      "cell_type": "code",
      "source": [
        "i = 5\n",
        "while i >= 1:\n",
        "    j = 1\n",
        "    while j <= i:\n",
        "        print(\"*\", end=\" \")\n",
        "        j += 1\n",
        "    print()\n",
        "    i -= 1\n"
      ],
      "metadata": {
        "colab": {
          "base_uri": "https://localhost:8080/"
        },
        "id": "m_DPcq0iTIdm",
        "outputId": "a548d491-dbc6-48db-ddcb-67446c17ffe1"
      },
      "execution_count": null,
      "outputs": [
        {
          "output_type": "stream",
          "name": "stdout",
          "text": [
            "* * * * * \n",
            "* * * * \n",
            "* * * \n",
            "* * \n",
            "* \n"
          ]
        }
      ]
    },
    {
      "cell_type": "code",
      "source": [
        "i = 1\n",
        "while i <= 5:\n",
        "    j = 5 - i\n",
        "    while j > 0:\n",
        "        print(\" \", end=\"\")\n",
        "        j -= 1\n",
        "    k = 1\n",
        "    while k <= i:\n",
        "        print(\"* \", end=\"\")\n",
        "        k += 1\n",
        "    print()\n",
        "    i += 1"
      ],
      "metadata": {
        "colab": {
          "base_uri": "https://localhost:8080/"
        },
        "id": "k9vkjfMaUhBG",
        "outputId": "dc66cea6-3dd6-489f-b543-a2a248f64f46"
      },
      "execution_count": null,
      "outputs": [
        {
          "output_type": "stream",
          "name": "stdout",
          "text": [
            "    * \n",
            "   * * \n",
            "  * * * \n",
            " * * * * \n",
            "* * * * * \n"
          ]
        }
      ]
    },
    {
      "cell_type": "code",
      "source": [
        "i = 5\n",
        "while i >= 1:\n",
        "    j = 5 - i\n",
        "    while j > 0:\n",
        "        print(\" \", end=\"\")\n",
        "        j -= 1\n",
        "    k = i\n",
        "    while k > 0:\n",
        "        print(\"* \", end=\"\")\n",
        "        k -= 1\n",
        "    print()\n",
        "    i -= 1"
      ],
      "metadata": {
        "colab": {
          "base_uri": "https://localhost:8080/"
        },
        "id": "iMLAdV0RVInF",
        "outputId": "b11345b1-9bb9-4d5a-a802-c65138669d85"
      },
      "execution_count": null,
      "outputs": [
        {
          "output_type": "stream",
          "name": "stdout",
          "text": [
            "* * * * * \n",
            " * * * * \n",
            "  * * * \n",
            "   * * \n",
            "    * \n"
          ]
        }
      ]
    },
    {
      "cell_type": "code",
      "source": [
        "def func (a, b=5, c=10):\n",
        "  print('a is', a, 'and b is', b, 'and c is', c)\n",
        "\n",
        "func (3, 7)\n",
        "func (25, c = 24)\n",
        "func (c = 50, a = 100)\n",
        "func (c =50, b= 20, a = 100)"
      ],
      "metadata": {
        "colab": {
          "base_uri": "https://localhost:8080/"
        },
        "id": "US_DaOSGOyad",
        "outputId": "32a72efe-7228-44fc-ab7b-f62fa65ea26d"
      },
      "execution_count": null,
      "outputs": [
        {
          "output_type": "stream",
          "name": "stdout",
          "text": [
            "a is 3 and b is 7 and c is 10\n",
            "a is 25 and b is 5 and c is 24\n",
            "a is 100 and b is 5 and c is 50\n",
            "a is 100 and b is 20 and c is 50\n"
          ]
        }
      ]
    },
    {
      "cell_type": "code",
      "source": [
        "def fun1 (fnum):\n",
        "  return fnum + 25\n",
        "\n",
        "fun1 (5)"
      ],
      "metadata": {
        "colab": {
          "base_uri": "https://localhost:8080/"
        },
        "id": "KTpDm5rcPsP3",
        "outputId": "e6cb6436-3c98-4bc4-d6b1-d5caf4c9d37a"
      },
      "execution_count": 1,
      "outputs": [
        {
          "output_type": "execute_result",
          "data": {
            "text/plain": [
              "30"
            ]
          },
          "metadata": {},
          "execution_count": 1
        }
      ]
    },
    {
      "cell_type": "code",
      "source": [
        "my_list = ['Coding', 'Invaders']\n",
        "\n",
        "def func(x) :\n",
        "  return ''.join(x)\n",
        "\n",
        "func (my_list)"
      ],
      "metadata": {
        "colab": {
          "base_uri": "https://localhost:8080/",
          "height": 35
        },
        "id": "0w8GstJrnC5g",
        "outputId": "cbf48947-812e-4d2e-af8f-db13aa3d452d"
      },
      "execution_count": 4,
      "outputs": [
        {
          "output_type": "execute_result",
          "data": {
            "text/plain": [
              "'CodingInvaders'"
            ],
            "application/vnd.google.colaboratory.intrinsic+json": {
              "type": "string"
            }
          },
          "metadata": {},
          "execution_count": 4
        }
      ]
    },
    {
      "cell_type": "code",
      "source": [
        "lf = lambda x : ''.join(x)\n",
        "lf(my_list)"
      ],
      "metadata": {
        "colab": {
          "base_uri": "https://localhost:8080/",
          "height": 35
        },
        "id": "o-jDoYmWnhGE",
        "outputId": "c9a1c148-318c-42b2-c8db-862cc6775a0c"
      },
      "execution_count": 6,
      "outputs": [
        {
          "output_type": "execute_result",
          "data": {
            "text/plain": [
              "'CodingInvaders'"
            ],
            "application/vnd.google.colaboratory.intrinsic+json": {
              "type": "string"
            }
          },
          "metadata": {},
          "execution_count": 6
        }
      ]
    },
    {
      "cell_type": "code",
      "source": [
        "(lambda x : ''.join(x))(my_list)"
      ],
      "metadata": {
        "colab": {
          "base_uri": "https://localhost:8080/",
          "height": 35
        },
        "id": "G_Z9MpG_nm80",
        "outputId": "61c2f505-e29c-4baa-da4b-5758c973c6bf"
      },
      "execution_count": 8,
      "outputs": [
        {
          "output_type": "execute_result",
          "data": {
            "text/plain": [
              "'CodingInvaders'"
            ],
            "application/vnd.google.colaboratory.intrinsic+json": {
              "type": "string"
            }
          },
          "metadata": {},
          "execution_count": 8
        }
      ]
    }
  ]
}