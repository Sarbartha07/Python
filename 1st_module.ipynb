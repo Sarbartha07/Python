{
  "nbformat": 4,
  "nbformat_minor": 0,
  "metadata": {
    "colab": {
      "provenance": [],
      "authorship_tag": "ABX9TyMwCzVdATG2C4xvRPHQPsT6",
      "include_colab_link": true
    },
    "kernelspec": {
      "name": "python3",
      "display_name": "Python 3"
    },
    "language_info": {
      "name": "python"
    }
  },
  "cells": [
    {
      "cell_type": "markdown",
      "metadata": {
        "id": "view-in-github",
        "colab_type": "text"
      },
      "source": [
        "<a href=\"https://colab.research.google.com/github/Sarbartha07/Python/blob/main/1st_module.ipynb\" target=\"_parent\"><img src=\"https://colab.research.google.com/assets/colab-badge.svg\" alt=\"Open In Colab\"/></a>"
      ]
    },
    {
      "cell_type": "code",
      "execution_count": null,
      "metadata": {
        "colab": {
          "base_uri": "https://localhost:8080/"
        },
        "id": "uSlMqsrg56y1",
        "outputId": "7f9044bb-0467-4ac5-9375-3c9a5a362268"
      },
      "outputs": [
        {
          "output_type": "stream",
          "name": "stdout",
          "text": [
            "\n",
            "Here is a list of the Python keywords.  Enter any keyword to get more help.\n",
            "\n",
            "False               class               from                or\n",
            "None                continue            global              pass\n",
            "True                def                 if                  raise\n",
            "and                 del                 import              return\n",
            "as                  elif                in                  try\n",
            "assert              else                is                  while\n",
            "async               except              lambda              with\n",
            "await               finally             nonlocal            yield\n",
            "break               for                 not                 \n",
            "\n"
          ]
        }
      ],
      "source": [
        "help (\"keywords\")"
      ]
    },
    {
      "cell_type": "code",
      "source": [
        "print (\"Hello World\", end = \"-\")\n",
        "print (\"Hello World!\", end = \"*\")"
      ],
      "metadata": {
        "colab": {
          "base_uri": "https://localhost:8080/"
        },
        "id": "CnqqHz1cfnwh",
        "outputId": "ba154f96-fc4c-40b4-f2e5-f84abe164a1b"
      },
      "execution_count": null,
      "outputs": [
        {
          "output_type": "stream",
          "name": "stdout",
          "text": [
            "Hello World-Hello World!*"
          ]
        }
      ]
    },
    {
      "cell_type": "code",
      "source": [
        "print (\"Hello World\")"
      ],
      "metadata": {
        "colab": {
          "base_uri": "https://localhost:8080/"
        },
        "id": "WdjrM41FfxJU",
        "outputId": "58b86102-9049-4fa3-ae77-f59e20103f3b"
      },
      "execution_count": null,
      "outputs": [
        {
          "output_type": "stream",
          "name": "stdout",
          "text": [
            "Hello World\n"
          ]
        }
      ]
    },
    {
      "cell_type": "code",
      "source": [
        "print (\"Hello\", \"How are\", \"You\", sep = \"-\")"
      ],
      "metadata": {
        "colab": {
          "base_uri": "https://localhost:8080/"
        },
        "id": "QZf8gcV_s6PV",
        "outputId": "d026a957-f952-48b6-c3fc-80ccd02920ea"
      },
      "execution_count": null,
      "outputs": [
        {
          "output_type": "stream",
          "name": "stdout",
          "text": [
            "Hello-How are-You\n"
          ]
        }
      ]
    },
    {
      "cell_type": "code",
      "source": [
        "Rain = \"No\"\n",
        "if Rain == \"Yes\":\n",
        "  print (\"Take Umbrella\")\n",
        "else :\n",
        "  print (\"Wear Sunglass\")"
      ],
      "metadata": {
        "colab": {
          "base_uri": "https://localhost:8080/"
        },
        "id": "hAGCbxXRHnk1",
        "outputId": "b63c49ed-330e-41e4-bf14-9b5731863241"
      },
      "execution_count": null,
      "outputs": [
        {
          "output_type": "stream",
          "name": "stdout",
          "text": [
            "Wear Sunglass\n"
          ]
        }
      ]
    },
    {
      "cell_type": "code",
      "source": [
        "dollar_to_rs = 79.8\n",
        "dollar_amt = 150\n",
        "rs_amt = dollar_to_rs * dollar_amt\n",
        "print (dollar_amt,\"$ in Rs as per conversion rate (\", dollar_to_rs,\") is\", rs_amt)"
      ],
      "metadata": {
        "colab": {
          "base_uri": "https://localhost:8080/"
        },
        "id": "U2Ds4q5ILIjK",
        "outputId": "054bd96f-3992-460a-acda-d2fc094b3811"
      },
      "execution_count": null,
      "outputs": [
        {
          "output_type": "stream",
          "name": "stdout",
          "text": [
            "150 $ in Rs as per conversion rate ( 79.8 ) is 11970.0\n"
          ]
        }
      ]
    },
    {
      "cell_type": "code",
      "source": [
        "X = 10\n",
        "X = \"Ten\"\n",
        "print(X)"
      ],
      "metadata": {
        "id": "jq-OUqWvL_7g",
        "colab": {
          "base_uri": "https://localhost:8080/"
        },
        "outputId": "f0b9eeff-f303-42fb-99b3-46fc28d87368"
      },
      "execution_count": null,
      "outputs": [
        {
          "output_type": "stream",
          "name": "stdout",
          "text": [
            "Ten\n"
          ]
        }
      ]
    },
    {
      "cell_type": "code",
      "source": [
        "print (\"1st statement\")\n",
        "print (\"2nd statement\")\n",
        "i = 3\n",
        "if (i == 3) :\n",
        "  print (\"3rd statement\")\n",
        "  print (\"4th statement\")\n",
        "else :\n",
        "  print (\"5th statement\")\n",
        "print (\"6th statement\")"
      ],
      "metadata": {
        "colab": {
          "base_uri": "https://localhost:8080/"
        },
        "id": "rnpkdhgJ02cD",
        "outputId": "07373d9e-9e33-4672-ce05-e4a95e566458"
      },
      "execution_count": null,
      "outputs": [
        {
          "output_type": "stream",
          "name": "stdout",
          "text": [
            "1st statement\n",
            "2nd statement\n",
            "3rd statement\n",
            "4th statement\n",
            "6th statement\n"
          ]
        }
      ]
    },
    {
      "cell_type": "code",
      "source": [
        "True + False + True"
      ],
      "metadata": {
        "colab": {
          "base_uri": "https://localhost:8080/"
        },
        "id": "-Y_CGRWitQLz",
        "outputId": "4d887500-0e37-4eac-a967-34413985cf34"
      },
      "execution_count": null,
      "outputs": [
        {
          "output_type": "execute_result",
          "data": {
            "text/plain": [
              "2"
            ]
          },
          "metadata": {},
          "execution_count": 3
        }
      ]
    },
    {
      "cell_type": "code",
      "source": [
        "True * False"
      ],
      "metadata": {
        "colab": {
          "base_uri": "https://localhost:8080/"
        },
        "id": "JumM_wf-tUjw",
        "outputId": "1d9b9b69-bb58-4161-e4d3-be671ce56386"
      },
      "execution_count": null,
      "outputs": [
        {
          "output_type": "execute_result",
          "data": {
            "text/plain": [
              "0"
            ]
          },
          "metadata": {},
          "execution_count": 5
        }
      ]
    },
    {
      "cell_type": "code",
      "source": [
        "True + True + False + (True * False) + 0 + 1"
      ],
      "metadata": {
        "colab": {
          "base_uri": "https://localhost:8080/"
        },
        "id": "YKXRkEVmtmoy",
        "outputId": "0e5ba67d-e8f8-42fa-98d4-e10e373d617b"
      },
      "execution_count": null,
      "outputs": [
        {
          "output_type": "execute_result",
          "data": {
            "text/plain": [
              "3"
            ]
          },
          "metadata": {},
          "execution_count": 7
        }
      ]
    },
    {
      "cell_type": "code",
      "source": [
        "a = False\n",
        "b = False\n",
        "c = False\n",
        "print (\"Output 1: \", a or b or c)\n",
        "\n",
        "b = True\n",
        "\n",
        "print (\"Output 2: \", a or b or c)\n",
        "\n",
        "print (\"Output 3: \", a and b and c)\n",
        "a = True\n",
        "c = True\n",
        "print (\"Output 4: \", a and b and c)\n",
        "\n",
        "print (\"Output 5: \", (a and b) or c)\n",
        "\n",
        "a = False\n",
        "print (\"Output 6: \", a and (b or c))\n",
        "\n",
        "a = True\n",
        "print (\"Output 7: \", a or (b or c))"
      ],
      "metadata": {
        "colab": {
          "base_uri": "https://localhost:8080/"
        },
        "id": "QhmkNHqtuGof",
        "outputId": "6024b8ad-63d5-4169-c2ce-e9495ed1f75f"
      },
      "execution_count": null,
      "outputs": [
        {
          "output_type": "stream",
          "name": "stdout",
          "text": [
            "Output 1:  False\n",
            "Output 2:  True\n",
            "Output 3:  False\n",
            "Output 4:  True\n",
            "Output 5:  True\n",
            "Output 6:  False\n",
            "Output 7:  True\n"
          ]
        }
      ]
    },
    {
      "cell_type": "code",
      "source": [
        "a = 13\n",
        "b = 6.5\n",
        "\n",
        "print (\"Division\", a/b)\n",
        "print (\"Floor Division\", a/int (b))\n",
        "print (\"Floor Division\", int (a/b))"
      ],
      "metadata": {
        "colab": {
          "base_uri": "https://localhost:8080/"
        },
        "id": "crjpDeY4mP-u",
        "outputId": "3763f417-fd36-4e0d-e7b4-7aefa0a3066d"
      },
      "execution_count": null,
      "outputs": [
        {
          "output_type": "stream",
          "name": "stdout",
          "text": [
            "Division 2.0\n",
            "Floor Division 2.1666666666666665\n",
            "Floor Division 2\n"
          ]
        }
      ]
    },
    {
      "cell_type": "code",
      "source": [
        "str1 = \" ' \"\n",
        "str2 = ' '\n",
        "str3 = \" \" \"   \" \" \"\n",
        "\n",
        "print(\"Output 1:\", bool(str1))\n",
        "print(\"Output 2:\", bool(str2))\n",
        "print(\"Output 3:\", bool(str3))"
      ],
      "metadata": {
        "colab": {
          "base_uri": "https://localhost:8080/"
        },
        "id": "2tIQ-oAklQQY",
        "outputId": "4579ea32-b91b-44af-cdf7-79a86995b83f"
      },
      "execution_count": null,
      "outputs": [
        {
          "output_type": "stream",
          "name": "stdout",
          "text": [
            "Output 1: True\n",
            "Output 2: True\n",
            "Output 3: True\n"
          ]
        }
      ]
    },
    {
      "cell_type": "code",
      "source": [
        "String1 = \"\"\"My name is Sarbartha Ray, I have done my MBA from SIBM\"\"\"\n",
        "String1.find (\"Sar\")"
      ],
      "metadata": {
        "colab": {
          "base_uri": "https://localhost:8080/"
        },
        "id": "KIjNsuvdmjdY",
        "outputId": "3cfcb398-ad37-4e3a-d800-e091a5b43df1"
      },
      "execution_count": null,
      "outputs": [
        {
          "output_type": "execute_result",
          "data": {
            "text/plain": [
              "11"
            ]
          },
          "metadata": {},
          "execution_count": 20
        }
      ]
    },
    {
      "cell_type": "code",
      "source": [
        "String1 = \"\"\"Python is a high-level, general-purpose programming language. Its design philosophy emphasizes code readability with the use of significant indentation.\"\"\"\n",
        "String = String1.lower()\n",
        "print (\"\"\" Frequency of vowel \"a\" is:\"\"\", String.count (\"a\"))\n",
        "print (\"\"\" Frequency of vowel \"e\" is:\"\"\", String.count (\"e\"))\n",
        "print (\"\"\" Frequency of vowel \"i\" is:\"\"\", String.count (\"i\"))\n",
        "print (\"\"\" Frequency of vowel \"o\" is:\"\"\", String.count (\"o\"))\n",
        "print (\"\"\" Frequency of vowel \"u\" is:\"\"\", String.count (\"u\"))"
      ],
      "metadata": {
        "colab": {
          "base_uri": "https://localhost:8080/"
        },
        "id": "EWYc4R-UvRkK",
        "outputId": "75b85d64-3bb1-45f8-cef2-e0f90c6e456b"
      },
      "execution_count": null,
      "outputs": [
        {
          "output_type": "stream",
          "name": "stdout",
          "text": [
            " Frequency of vowel \"a\" is: 10\n",
            " Frequency of vowel \"e\" is: 14\n",
            " Frequency of vowel \"i\" is: 15\n",
            " Frequency of vowel \"o\" is: 8\n",
            " Frequency of vowel \"u\" is: 3\n"
          ]
        }
      ]
    },
    {
      "cell_type": "code",
      "source": [
        "Eleven = 11\n",
        "S1 = [32, 33, 34]\n",
        "New_list = [\"Ram\", \"Jadhu\", Eleven, 31.5, S1]\n",
        "print (New_list[0:5])"
      ],
      "metadata": {
        "colab": {
          "base_uri": "https://localhost:8080/"
        },
        "id": "4J6n22uIbkpR",
        "outputId": "2321cd2e-24c9-45f8-94df-ea6fcd010306"
      },
      "execution_count": null,
      "outputs": [
        {
          "output_type": "stream",
          "name": "stdout",
          "text": [
            "['Ram', 'Jadhu', 11, 31.5, [32, 33, 34]]\n"
          ]
        }
      ]
    },
    {
      "cell_type": "code",
      "source": [
        "Sentence = \"\"\" The opportunity to contribute my data analysis skills to Inc42 Media is immensely appealing. Inc42's mission to accelerate India's tech and startup economy resonates deeply with me. The platform's commitment to spotlighting untold stories within the Indian startup ecosystem, coupled with its remarkable growth from a small team to a household name, showcases a dynamic and impactful environment. I'm excited about the prospect of utilizing my expertise to extract insights from data, enriching the narrative of innovation, and being part of a dedicated team that's driving positive change in the tech and startup landscape. \"\"\"\n",
        "print (Sentence)"
      ],
      "metadata": {
        "colab": {
          "base_uri": "https://localhost:8080/"
        },
        "id": "KO4pxOmsgZxA",
        "outputId": "8b1d3a39-70bd-4c9e-ed92-4aaae985067d"
      },
      "execution_count": null,
      "outputs": [
        {
          "output_type": "stream",
          "name": "stdout",
          "text": [
            " The opportunity to contribute my data analysis skills to Inc42 Media is immensely appealing. Inc42's mission to accelerate India's tech and startup economy resonates deeply with me. The platform's commitment to spotlighting untold stories within the Indian startup ecosystem, coupled with its remarkable growth from a small team to a household name, showcases a dynamic and impactful environment. I'm excited about the prospect of utilizing my expertise to extract insights from data, enriching the narrative of innovation, and being part of a dedicated team that's driving positive change in the tech and startup landscape. \n"
          ]
        }
      ]
    },
    {
      "cell_type": "code",
      "source": [
        "Word_List = Sentence.split (\" \")\n",
        "print (Word_List)"
      ],
      "metadata": {
        "colab": {
          "base_uri": "https://localhost:8080/"
        },
        "id": "jNTge8xHyHkB",
        "outputId": "a7ae27ae-fca5-48c9-b0e1-111963b4fa3b"
      },
      "execution_count": null,
      "outputs": [
        {
          "output_type": "stream",
          "name": "stdout",
          "text": [
            "['', 'The', 'opportunity', 'to', 'contribute', 'my', 'data', 'analysis', 'skills', 'to', 'Inc42', 'Media', 'is', 'immensely', 'appealing.', \"Inc42's\", 'mission', 'to', 'accelerate', \"India's\", 'tech', 'and', 'startup', 'economy', 'resonates', 'deeply', 'with', 'me.', 'The', \"platform's\", 'commitment', 'to', 'spotlighting', 'untold', 'stories', 'within', 'the', 'Indian', 'startup', 'ecosystem,', 'coupled', 'with', 'its', 'remarkable', 'growth', 'from', 'a', 'small', 'team', 'to', 'a', 'household', 'name,', 'showcases', 'a', 'dynamic', 'and', 'impactful', 'environment.', \"I'm\", 'excited', 'about', 'the', 'prospect', 'of', 'utilizing', 'my', 'expertise', 'to', 'extract', 'insights', 'from', 'data,', 'enriching', 'the', 'narrative', 'of', 'innovation,', 'and', 'being', 'part', 'of', 'a', 'dedicated', 'team', \"that's\", 'driving', 'positive', 'change', 'in', 'the', 'tech', 'and', 'startup', 'landscape.', '']\n"
          ]
        }
      ]
    },
    {
      "cell_type": "code",
      "source": [
        "print (type (Word_List))\n",
        "len (Word_List)"
      ],
      "metadata": {
        "colab": {
          "base_uri": "https://localhost:8080/"
        },
        "id": "q8cHq2HjyVI4",
        "outputId": "a8eb8843-ac1e-459c-dae9-ba43c37be579"
      },
      "execution_count": null,
      "outputs": [
        {
          "output_type": "stream",
          "name": "stdout",
          "text": [
            "<class 'list'>\n"
          ]
        },
        {
          "output_type": "execute_result",
          "data": {
            "text/plain": [
              "96"
            ]
          },
          "metadata": {},
          "execution_count": 33
        }
      ]
    },
    {
      "cell_type": "code",
      "source": [
        "len (Sentence)"
      ],
      "metadata": {
        "colab": {
          "base_uri": "https://localhost:8080/"
        },
        "id": "g2eMXm_wzrL2",
        "outputId": "4d5710dc-5b32-4e66-91bd-8d6bb54e8027"
      },
      "execution_count": null,
      "outputs": [
        {
          "output_type": "execute_result",
          "data": {
            "text/plain": [
              "626"
            ]
          },
          "metadata": {},
          "execution_count": 35
        }
      ]
    },
    {
      "cell_type": "code",
      "source": [
        "sampleList = [100, 200, 300, 400, 500]\n",
        "sampleList.append (600)\n",
        "print(sampleList)\n",
        "sampleList.append (60)\n",
        "print(sampleList)"
      ],
      "metadata": {
        "colab": {
          "base_uri": "https://localhost:8080/"
        },
        "id": "PGWY9xlo0xNp",
        "outputId": "1723be4b-24f7-43ad-ec7c-f24f1336cfa6"
      },
      "execution_count": null,
      "outputs": [
        {
          "output_type": "stream",
          "name": "stdout",
          "text": [
            "[100, 200, 300, 400, 500, 600]\n",
            "[100, 200, 300, 400, 500, 600, 60]\n"
          ]
        }
      ]
    },
    {
      "cell_type": "code",
      "source": [
        "list1 = ['ee', 'ff', 'gg']\n",
        "list2 = ['aa', 'bb', 'cc', 'dd']\n",
        "new_list = list1 + list2\n",
        "print(new_list)"
      ],
      "metadata": {
        "colab": {
          "base_uri": "https://localhost:8080/"
        },
        "id": "yCYQk0uL1Hmh",
        "outputId": "8c243c81-0873-49ef-fdc8-e59cee6f19f4"
      },
      "execution_count": null,
      "outputs": [
        {
          "output_type": "stream",
          "name": "stdout",
          "text": [
            "['ee', 'ff', 'gg', 'aa', 'bb', 'cc', 'dd']\n"
          ]
        }
      ]
    },
    {
      "cell_type": "code",
      "source": [
        "L = [15, 14, 5, [1, 5, 6], 9, 10, [[52, 11, 39], [18, 29, 19]], 8]\n",
        "L[6] [1] [1]"
      ],
      "metadata": {
        "colab": {
          "base_uri": "https://localhost:8080/"
        },
        "id": "8nRXKwPxS3A_",
        "outputId": "d7f680ab-7521-4fac-c44c-17cdecfd7a10"
      },
      "execution_count": null,
      "outputs": [
        {
          "output_type": "execute_result",
          "data": {
            "text/plain": [
              "29"
            ]
          },
          "metadata": {},
          "execution_count": 19
        }
      ]
    },
    {
      "cell_type": "code",
      "source": [
        "print(L + [\"Yug\"])"
      ],
      "metadata": {
        "colab": {
          "base_uri": "https://localhost:8080/"
        },
        "id": "Zl4S4CownzR4",
        "outputId": "8049700f-b352-43cc-8bd9-64d98771198f"
      },
      "execution_count": null,
      "outputs": [
        {
          "output_type": "stream",
          "name": "stdout",
          "text": [
            "[15, 14, 5, [1, 5, 6], 9, 10, [[52, 11, 39], [18, 29, 19]], 8, 'Yug']\n"
          ]
        }
      ]
    },
    {
      "cell_type": "code",
      "source": [
        "List_New = [12, 16, 66, 2, 45, 87, 11, 14]\n",
        "List_old = List_New [1:3]\n",
        "x = List_New [:-1]\n",
        "x = x*2\n",
        "x = List_New + List_old + x\n",
        "len (x)"
      ],
      "metadata": {
        "colab": {
          "base_uri": "https://localhost:8080/"
        },
        "id": "RGfX1iluohTE",
        "outputId": "5d76baa6-fbfa-41a8-95c0-d1dc11b18fed"
      },
      "execution_count": null,
      "outputs": [
        {
          "output_type": "execute_result",
          "data": {
            "text/plain": [
              "24"
            ]
          },
          "metadata": {},
          "execution_count": 1
        }
      ]
    },
    {
      "cell_type": "code",
      "source": [
        "car = {\n",
        "    \"Brand\" : \"Ford\",\n",
        "    \"Model\" : \"Mustang\",\n",
        "    \"Year\" : 1964\n",
        "    }\n",
        "print (car)\n",
        "print (car [\"Brand\"])"
      ],
      "metadata": {
        "colab": {
          "base_uri": "https://localhost:8080/"
        },
        "id": "QTqZrP-9AXK4",
        "outputId": "2f4ceadc-1768-444e-d265-9fa11e32b271"
      },
      "execution_count": null,
      "outputs": [
        {
          "output_type": "stream",
          "name": "stdout",
          "text": [
            "{'Brand': 'Ford', 'Model': 'Mustang', 'Year': 1964}\n",
            "Ford\n"
          ]
        }
      ]
    },
    {
      "cell_type": "code",
      "source": [
        "car[\"Year\"] = 1965\n",
        "print (car[\"Year\"])"
      ],
      "metadata": {
        "colab": {
          "base_uri": "https://localhost:8080/"
        },
        "id": "iL5aIEqR1qn-",
        "outputId": "0883e34f-7157-4fb3-8baa-f81810c4d4b9"
      },
      "execution_count": null,
      "outputs": [
        {
          "output_type": "stream",
          "name": "stdout",
          "text": [
            "1965\n"
          ]
        }
      ]
    },
    {
      "cell_type": "code",
      "source": [
        "print (car)"
      ],
      "metadata": {
        "colab": {
          "base_uri": "https://localhost:8080/"
        },
        "id": "BIN3UxKj1zLP",
        "outputId": "1dbb35a7-a4e9-4a72-c21a-997dd9a98c70"
      },
      "execution_count": null,
      "outputs": [
        {
          "output_type": "stream",
          "name": "stdout",
          "text": [
            "{'Brand': 'Ford', 'Model': 'Mustang', 'Year': 1965}\n"
          ]
        }
      ]
    },
    {
      "cell_type": "code",
      "source": [
        "car.update ({\"Relunch_Year\": 1965})\n",
        "print (car)"
      ],
      "metadata": {
        "colab": {
          "base_uri": "https://localhost:8080/"
        },
        "id": "fqNdhMO214z6",
        "outputId": "b60608a3-b599-49c2-fd65-7ec9d1b16e68"
      },
      "execution_count": null,
      "outputs": [
        {
          "output_type": "stream",
          "name": "stdout",
          "text": [
            "{'Brand': 'Ford', 'Model': 'Mustang', 'Year': 1965, 'Relunch_Year': 1965}\n"
          ]
        }
      ]
    },
    {
      "cell_type": "code",
      "source": [
        "car.items()"
      ],
      "metadata": {
        "colab": {
          "base_uri": "https://localhost:8080/"
        },
        "id": "D0lmcF2MD3zQ",
        "outputId": "e8fdb484-bd3a-4034-9429-d232408af089"
      },
      "execution_count": null,
      "outputs": [
        {
          "output_type": "execute_result",
          "data": {
            "text/plain": [
              "dict_items([('Brand', 'Ford'), ('Model', 'Mustang'), ('Year', 1965), ('Relunch_Year', 1965)])"
            ]
          },
          "metadata": {},
          "execution_count": 32
        }
      ]
    },
    {
      "cell_type": "code",
      "source": [
        "car.keys()"
      ],
      "metadata": {
        "colab": {
          "base_uri": "https://localhost:8080/"
        },
        "id": "9dRU5IB-D6zo",
        "outputId": "15d9ba19-fbf1-4104-d79c-25e80172ea0b"
      },
      "execution_count": null,
      "outputs": [
        {
          "output_type": "execute_result",
          "data": {
            "text/plain": [
              "dict_keys(['Brand', 'Model', 'Year', 'Relunch_Year'])"
            ]
          },
          "metadata": {},
          "execution_count": 34
        }
      ]
    },
    {
      "cell_type": "code",
      "source": [
        "dict1 ={\"name\": \"Mike\", \"salary\": 8000, \"age\" : 34}\n",
        "temp = dict1.get(\"age\")\n",
        "print (temp)"
      ],
      "metadata": {
        "colab": {
          "base_uri": "https://localhost:8080/"
        },
        "id": "wTA069tMEOTh",
        "outputId": "b7c6e059-b6fc-4689-e95b-02e9757847ee"
      },
      "execution_count": null,
      "outputs": [
        {
          "output_type": "stream",
          "name": "stdout",
          "text": [
            "34\n"
          ]
        }
      ]
    },
    {
      "cell_type": "code",
      "source": [
        "for i in range (5,0, -1) :\n",
        " print (i)"
      ],
      "metadata": {
        "colab": {
          "base_uri": "https://localhost:8080/"
        },
        "id": "2p-shPmy3YTD",
        "outputId": "7c25fcd0-7f9f-4553-af3f-ebde1e527764"
      },
      "execution_count": null,
      "outputs": [
        {
          "output_type": "stream",
          "name": "stdout",
          "text": [
            "5\n",
            "4\n",
            "3\n",
            "2\n"
          ]
        }
      ]
    },
    {
      "cell_type": "code",
      "source": [
        "for i in range (1,6) :\n",
        " print(\"*\"*i)"
      ],
      "metadata": {
        "colab": {
          "base_uri": "https://localhost:8080/"
        },
        "id": "exm_kPdj409U",
        "outputId": "e1981831-fb2e-4faa-e733-91ac32ec19b3"
      },
      "execution_count": null,
      "outputs": [
        {
          "output_type": "stream",
          "name": "stdout",
          "text": [
            "*\n",
            "**\n",
            "***\n",
            "****\n",
            "*****\n"
          ]
        }
      ]
    },
    {
      "cell_type": "code",
      "source": [
        "for i in range (5,0,-1) :\n",
        " print (\"*\" * i)"
      ],
      "metadata": {
        "colab": {
          "base_uri": "https://localhost:8080/"
        },
        "id": "FJ2PQ4Sa5_QA",
        "outputId": "36f54549-1d11-47ff-813c-9088fe85f03e"
      },
      "execution_count": 17,
      "outputs": [
        {
          "output_type": "stream",
          "name": "stdout",
          "text": [
            "*****     ****    ***   **  * "
          ]
        }
      ]
    },
    {
      "cell_type": "code",
      "source": [
        "for h in range (1,6) :\n",
        "  for i in range (1,h+1) :\n",
        "    print (i, end = \"\")\n",
        "  print ()"
      ],
      "metadata": {
        "id": "fk4fngEgFzGN",
        "colab": {
          "base_uri": "https://localhost:8080/"
        },
        "outputId": "0c8b327e-16f4-4757-9449-d5201dc767ba"
      },
      "execution_count": 14,
      "outputs": [
        {
          "output_type": "stream",
          "name": "stdout",
          "text": [
            "1\n",
            "12\n",
            "123\n",
            "1234\n",
            "12345\n"
          ]
        }
      ]
    },
    {
      "cell_type": "code",
      "source": [
        "for h in range (6,1,-1) :\n",
        "  for i in range (h-1,0,-1) :\n",
        "    print (i, end = \"\")\n",
        "  print ()"
      ],
      "metadata": {
        "colab": {
          "base_uri": "https://localhost:8080/"
        },
        "id": "6D3ksOUb_nQ0",
        "outputId": "70705bbb-4111-48ab-eb7d-fc4473f5bca2"
      },
      "execution_count": 17,
      "outputs": [
        {
          "output_type": "stream",
          "name": "stdout",
          "text": [
            "54321\n",
            "4321\n",
            "321\n",
            "21\n",
            "1\n"
          ]
        }
      ]
    },
    {
      "cell_type": "code",
      "source": [
        "for a in range (1, 6) :\n",
        "  for b in range (1, a+1) :\n",
        "   print (b, end = \" \")\n",
        "  print()"
      ],
      "metadata": {
        "colab": {
          "base_uri": "https://localhost:8080/"
        },
        "id": "ZI1rW5Elpv6F",
        "outputId": "3e796360-6174-4ea3-ac3d-c5f6fdaa7bcd"
      },
      "execution_count": 37,
      "outputs": [
        {
          "output_type": "stream",
          "name": "stdout",
          "text": [
            "1 \n",
            "1 2 \n",
            "1 2 3 \n",
            "1 2 3 4 \n",
            "1 2 3 4 5 \n"
          ]
        }
      ]
    },
    {
      "cell_type": "code",
      "source": [
        "space = 0\n",
        "\n",
        "for i in range(1,6) :\n",
        " space = i + 1\n",
        " for b in range (1, space) :\n",
        "  print ( end = \" \")\n",
        "\n",
        " print(\"*\")"
      ],
      "metadata": {
        "colab": {
          "base_uri": "https://localhost:8080/"
        },
        "id": "EzggLEcnsJAq",
        "outputId": "e9c669d5-5bc5-49b8-df83-1c70c1f06050"
      },
      "execution_count": 1,
      "outputs": [
        {
          "output_type": "stream",
          "name": "stdout",
          "text": [
            " *\n",
            "  **\n",
            "   ***\n",
            "    ****\n",
            "     *****\n"
          ]
        }
      ]
    },
    {
      "cell_type": "code",
      "source": [
        "for i in range(5, 0, -1):\n",
        "    spaces = \" \" * (5 - i)\n",
        "    stars = \"*\" * i\n",
        "    print(spaces + stars)"
      ],
      "metadata": {
        "colab": {
          "base_uri": "https://localhost:8080/"
        },
        "id": "zfgiA3Wrp__O",
        "outputId": "50e2d28b-0ad5-4c8d-938f-d0aa25f7e3ec"
      },
      "execution_count": 35,
      "outputs": [
        {
          "output_type": "stream",
          "name": "stdout",
          "text": [
            "*****\n",
            " ****\n",
            "  ***\n",
            "   **\n",
            "    *\n"
          ]
        }
      ]
    },
    {
      "cell_type": "code",
      "source": [
        "for h in range (6,1,-1) :\n",
        "  for i in range (1, h) :\n",
        "    print (i, end = \"\")\n",
        "  print ()"
      ],
      "metadata": {
        "colab": {
          "base_uri": "https://localhost:8080/"
        },
        "id": "1wf7m-i_IaIO",
        "outputId": "c89029af-965d-4ee2-e9d1-264a84ad6517"
      },
      "execution_count": 1,
      "outputs": [
        {
          "output_type": "stream",
          "name": "stdout",
          "text": [
            "12345\n",
            "1234\n",
            "123\n",
            "12\n",
            "1\n"
          ]
        }
      ]
    },
    {
      "cell_type": "code",
      "source": [
        "n = 5\n",
        "\n",
        "for i in range(n):\n",
        "    spaces = \" \" * (n - i - 1)\n",
        "    stars = \"* \" * (i + 1)\n",
        "    print(spaces + stars)\n",
        "\n",
        "for i in range(n, 0, -1):\n",
        "    spaces = \" \" * (n - i)\n",
        "    stars = \"* \" * i\n",
        "    print(spaces + stars)"
      ],
      "metadata": {
        "colab": {
          "base_uri": "https://localhost:8080/"
        },
        "id": "AvwYsm1QMcd2",
        "outputId": "c74850df-fd52-4816-8206-593e8d889bcb"
      },
      "execution_count": 3,
      "outputs": [
        {
          "output_type": "stream",
          "name": "stdout",
          "text": [
            "    * \n",
            "   * * \n",
            "  * * * \n",
            " * * * * \n",
            "* * * * * \n",
            "* * * * * \n",
            " * * * * \n",
            "  * * * \n",
            "   * * \n",
            "    * \n"
          ]
        }
      ]
    },
    {
      "cell_type": "code",
      "source": [
        "space = 5\n",
        "for i in range (1, 6):\n",
        "  print(\" \" * space + i * \"*\")\n",
        "  space -= 1"
      ],
      "metadata": {
        "colab": {
          "base_uri": "https://localhost:8080/"
        },
        "id": "gbK2lQryR68J",
        "outputId": "5e2c97b4-907b-4f5d-ec22-c9e3c6af679b"
      },
      "execution_count": 1,
      "outputs": [
        {
          "output_type": "stream",
          "name": "stdout",
          "text": [
            "     *\n",
            "    **\n",
            "   ***\n",
            "  ****\n",
            " *****\n"
          ]
        }
      ]
    },
    {
      "cell_type": "code",
      "source": [
        "Bill = int (input(\"Enter Units\"))\n",
        "\n",
        "if (Bill <= 100) :\n",
        " print (\"No charge\")\n",
        "elif (Bill> 100 and Bill <= 200) :\n",
        "  print ((Bill -100) * 5)\n",
        "else :\n",
        "  print ((100*5) + ((Bill - 200) * 10))"
      ],
      "metadata": {
        "colab": {
          "base_uri": "https://localhost:8080/"
        },
        "id": "nvQ07s73Z_KR",
        "outputId": "ccace1c1-76a2-4ca4-8770-82da96fd1a46"
      },
      "execution_count": 1,
      "outputs": [
        {
          "output_type": "stream",
          "name": "stdout",
          "text": [
            "Enter Units1\n",
            "No charge\n"
          ]
        }
      ]
    },
    {
      "cell_type": "code",
      "source": [
        "num1 = int (input(\"Enter First Number\"))\n",
        "num2 = int (input(\"Enter Second Number\"))\n",
        "num3 = int (input(\"Enter Third Number\"))\n",
        "\n",
        "if (num1 > num2 and num2 > num3) :\n",
        " print (num1)\n",
        "elif (num2 > num1 and num1 > num3) :\n",
        " print (num2)\n",
        "else :\n",
        " print (num3)"
      ],
      "metadata": {
        "colab": {
          "base_uri": "https://localhost:8080/"
        },
        "id": "EOw25caV7HFZ",
        "outputId": "34716632-e134-46d7-ce96-fb317d873c96"
      },
      "execution_count": 5,
      "outputs": [
        {
          "output_type": "stream",
          "name": "stdout",
          "text": [
            "Enter First Number1\n",
            "Enter Second Number2\n",
            "Enter Third Number3\n",
            "3\n"
          ]
        }
      ]
    },
    {
      "cell_type": "code",
      "source": [
        "a = \"This is orange juice\"\n",
        "print ('orange' in a)"
      ],
      "metadata": {
        "colab": {
          "base_uri": "https://localhost:8080/"
        },
        "id": "HJXHfG-H8vzQ",
        "outputId": "d1495b62-8b95-468e-dd99-bf20eed673b0"
      },
      "execution_count": 7,
      "outputs": [
        {
          "output_type": "stream",
          "name": "stdout",
          "text": [
            "True\n"
          ]
        }
      ]
    },
    {
      "cell_type": "code",
      "source": [
        "def is_vowel(char):\n",
        "    vowels = \"aeiouAEIOU\"\n",
        "    return char in vowels\n",
        "\n",
        "character = input(\"Enter a character: \")\n",
        "\n",
        "if len(character) == 1:\n",
        "    if is_vowel(character):\n",
        "        print(f\"{character} is a vowel.\")\n",
        "    else:\n",
        "        print(f\"{character} is not a vowel.\")\n",
        "else:\n",
        "    print(\"Please enter a single character.\")"
      ],
      "metadata": {
        "colab": {
          "base_uri": "https://localhost:8080/"
        },
        "id": "hECSz-TY9-0E",
        "outputId": "bed54f00-474b-4eed-b067-753596697be5"
      },
      "execution_count": 1,
      "outputs": [
        {
          "output_type": "stream",
          "name": "stdout",
          "text": [
            "Enter a character: a\n",
            "a is a vowel.\n"
          ]
        }
      ]
    },
    {
      "cell_type": "code",
      "source": [
        "list_of_dict = [\n",
        "    {\"Name\": \"Tom\", \"Age\" : 10},\n",
        "                {\"Name\": \"Mark\", \"Age\" : 5},\n",
        "                {\"Name\" : \"Pam\", \"Age\" : 7}\n",
        "    ]\n",
        "print(list_of_dict)"
      ],
      "metadata": {
        "colab": {
          "base_uri": "https://localhost:8080/"
        },
        "id": "AJ7PJxJ-tme8",
        "outputId": "48aadab7-195d-4f75-f798-bd461667629f"
      },
      "execution_count": 5,
      "outputs": [
        {
          "output_type": "stream",
          "name": "stdout",
          "text": [
            "[{'Name': 'Tom', 'Age': 10}, {'Name': 'Mark', 'Age': 5}, {'Name': 'Pam', 'Age': 7}]\n"
          ]
        }
      ]
    },
    {
      "cell_type": "code",
      "source": [
        "for l in list_of_dict :\n",
        "  print (l)\n",
        "  for b in l :\n",
        "    print (b)"
      ],
      "metadata": {
        "colab": {
          "base_uri": "https://localhost:8080/"
        },
        "id": "8vombaERvFdK",
        "outputId": "afcdf0a4-d82e-44f9-a518-d6d7f473eaec"
      },
      "execution_count": 3,
      "outputs": [
        {
          "output_type": "stream",
          "name": "stdout",
          "text": [
            "{'Name': 'Tom', 'Age': 10}\n",
            "Name\n",
            "Age\n",
            "{'Name': 'Mark', 'Age': 5}\n",
            "Name\n",
            "Age\n",
            "{'Name': 'Pam', 'Age': 7}\n",
            "Name\n",
            "Age\n"
          ]
        }
      ]
    },
    {
      "cell_type": "code",
      "source": [
        "name = \"Tom\"\n",
        "for a in list_of_dict :\n",
        "  for b in a.values() :\n",
        "    if (name == b) :\n",
        "      print(name, \"is present in name\")\n",
        "    else :\n",
        "      print (name, \"is not present in name\")"
      ],
      "metadata": {
        "colab": {
          "base_uri": "https://localhost:8080/"
        },
        "id": "Yar5HFoSGSMQ",
        "outputId": "72c59898-a9fb-4236-ae88-784ea69c0ee9"
      },
      "execution_count": 6,
      "outputs": [
        {
          "output_type": "stream",
          "name": "stdout",
          "text": [
            "Tom is present in name\n",
            "Tom is not present in name\n",
            "Tom is not present in name\n",
            "Tom is not present in name\n",
            "Tom is not present in name\n",
            "Tom is not present in name\n"
          ]
        }
      ]
    },
    {
      "cell_type": "code",
      "source": [
        "for a in list_of_dict :\n",
        "  print(a)\n",
        "  print (\"------\")\n",
        "  for b in a.values() :\n",
        "    print (isinstance(b,int))"
      ],
      "metadata": {
        "colab": {
          "base_uri": "https://localhost:8080/"
        },
        "id": "bX4vlDu6Iw4r",
        "outputId": "7456a454-e4bb-4343-9c5d-2645250c4161"
      },
      "execution_count": 7,
      "outputs": [
        {
          "output_type": "stream",
          "name": "stdout",
          "text": [
            "{'Name': 'Tom', 'Age': 10}\n",
            "------\n",
            "False\n",
            "True\n",
            "{'Name': 'Mark', 'Age': 5}\n",
            "------\n",
            "False\n",
            "True\n",
            "{'Name': 'Pam', 'Age': 7}\n",
            "------\n",
            "False\n",
            "True\n"
          ]
        }
      ]
    },
    {
      "cell_type": "code",
      "source": [
        "Name = \"pam\"\n",
        "\n",
        "for a in list_of_dict :\n",
        "  print (a)\n",
        "  print (\"----\")\n",
        "  for b in a.values() :\n",
        "    print (b)\n",
        "    if (isinstance(b,str) and Name == b.lower()) :\n",
        "      print (Name,\"is present\")\n",
        "    else :\n",
        "      pass"
      ],
      "metadata": {
        "colab": {
          "base_uri": "https://localhost:8080/"
        },
        "id": "OILfnQSBKrfc",
        "outputId": "a0e56e41-957e-43e9-ca97-7366b903fd8e"
      },
      "execution_count": 8,
      "outputs": [
        {
          "output_type": "stream",
          "name": "stdout",
          "text": [
            "{'Name': 'Tom', 'Age': 10}\n",
            "----\n",
            "Tom\n",
            "10\n",
            "{'Name': 'Mark', 'Age': 5}\n",
            "----\n",
            "Mark\n",
            "5\n",
            "{'Name': 'Pam', 'Age': 7}\n",
            "----\n",
            "Pam\n",
            "pam is present\n",
            "7\n"
          ]
        }
      ]
    },
    {
      "cell_type": "code",
      "source": [
        "dct_of_list = {\n",
        "  'fruit': [\n",
        "    {\n",
        "      'name': 'apple',\n",
        "      'no': 2,\n",
        "      'name': 'kiwi',\n",
        "      'no': 3\n",
        "    },\n",
        "    {\n",
        "      'name': 'banana',\n",
        "      'no': 3\n",
        "    }\n",
        "  ],\n",
        "  'vehicles': [\n",
        "    {\n",
        "      'name': 'cars',\n",
        "      'no': 4\n",
        "    }\n",
        "  ]\n",
        "}"
      ],
      "metadata": {
        "id": "u0EYCmKYzyOn"
      },
      "execution_count": 2,
      "outputs": []
    },
    {
      "cell_type": "code",
      "source": [
        "print (dct_of_list['fruit'])\n",
        "print(dct_of_list['vehicles'])"
      ],
      "metadata": {
        "colab": {
          "base_uri": "https://localhost:8080/"
        },
        "id": "y_o1x-8k4YIL",
        "outputId": "27ebb8b8-de91-4e1e-dca9-1ca7099bba04"
      },
      "execution_count": 9,
      "outputs": [
        {
          "output_type": "stream",
          "name": "stdout",
          "text": [
            "[{'name': 'kiwi', 'no': 3}, {'name': 'banana', 'no': 3}]\n",
            "[{'name': 'cars', 'no': 4}]\n"
          ]
        }
      ]
    },
    {
      "cell_type": "code",
      "source": [
        "people = {1: {'name': 'John', 'age': '27', 'sex': 'Male'},\n",
        "          2: {'name': 'Marie', 'age': '22', 'sex': 'Female'},\n",
        "          3: {'name': 'Luna', 'age': '24', 'sex': 'Female', 'married': 'No'},\n",
        "          4: {'name': 'Peter', 'age': '29', 'sex': 'Male', 'married': 'Yes'}}\n",
        "print(people)"
      ],
      "metadata": {
        "colab": {
          "base_uri": "https://localhost:8080/"
        },
        "id": "s3kEgQk4kYvs",
        "outputId": "45c0bb9d-4703-4d16-d4f1-e44d6d201aa0"
      },
      "execution_count": 1,
      "outputs": [
        {
          "output_type": "stream",
          "name": "stdout",
          "text": [
            "{1: {'name': 'John', 'age': '27', 'sex': 'Male'}, 2: {'name': 'Marie', 'age': '22', 'sex': 'Female'}, 3: {'name': 'Luna', 'age': '24', 'sex': 'Female', 'married': 'No'}, 4: {'name': 'Peter', 'age': '29', 'sex': 'Male', 'married': 'Yes'}}\n"
          ]
        }
      ]
    },
    {
      "cell_type": "code",
      "source": [
        "x = [\n",
        "'a',\n",
        "'b',\n",
        "{\n",
        "'foo': 1,\n",
        "'bar':\n",
        "{\n",
        "'x': 10,\n",
        "'y' : 20,\n",
        "'z': 30\n",
        "},\n",
        "'baz': 3\n",
        "},\n",
        "'c',\n",
        "'d'\n",
        "]\n",
        "\n",
        "print (x[2]['bar']['z'])"
      ],
      "metadata": {
        "colab": {
          "base_uri": "https://localhost:8080/"
        },
        "id": "fCDuxGl0_yPT",
        "outputId": "36a1330a-06f3-4a6e-d0f2-95a13ed2561a"
      },
      "execution_count": 6,
      "outputs": [
        {
          "output_type": "stream",
          "name": "stdout",
          "text": [
            "30\n"
          ]
        }
      ]
    },
    {
      "cell_type": "code",
      "source": [
        "sampleDict = {\n",
        "\"class\":{\n",
        "\"student\":{\n",
        "\"name\": \"Mike\",\n",
        "\"marks\":{\n",
        "\"physics\": 70,\n",
        "\"history\" :80\n",
        "}\n",
        "}\n",
        "}\n",
        "};\n",
        "print (sampleDict['class']['student']['marks']['history'])"
      ],
      "metadata": {
        "colab": {
          "base_uri": "https://localhost:8080/"
        },
        "id": "2DuNp-54AVQV",
        "outputId": "c8f29ff2-4b0e-4e45-f160-ba3029c174de"
      },
      "execution_count": 10,
      "outputs": [
        {
          "output_type": "stream",
          "name": "stdout",
          "text": [
            "80\n"
          ]
        }
      ]
    },
    {
      "cell_type": "code",
      "source": [
        "student = {\"1\": {'name': 'Emma', 'age': '27', 'sex': 'Female'},\n",
        "                  2: {'name': 'Mike', 'age': '22', 'sex': 'Male'}}\n"
      ],
      "metadata": {
        "id": "J-v5O6sXA5-r"
      },
      "execution_count": null,
      "outputs": []
    }
  ]
}