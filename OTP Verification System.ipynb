{
 "cells": [
  {
   "cell_type": "code",
   "execution_count": null,
   "id": "d03e54c5",
   "metadata": {},
   "outputs": [
    {
     "name": "stdout",
     "output_type": "stream",
     "text": [
      "Enter your email address: xyz@gmail.com\n",
      "OTP has been sent to xyz@gmail.com.\n"
     ]
    }
   ],
   "source": [
    "import random\n",
    "import smtplib\n",
    "import ssl\n",
    "from email.mime.text import MIMEText\n",
    "from email.mime.multipart import MIMEMultipart\n",
    "\n",
    "# Function to generate a 6-digit OTP\n",
    "def generate_otp():\n",
    "    otp = random.randint(100000, 999999)\n",
    "    return otp\n",
    "\n",
    "# Function to send the OTP to the user's email\n",
    "def send_otp_email(recipient_email, otp):\n",
    "    sender_email = \"sarbartha.ray9@gmail.com\"\n",
    "    sender_password = \"cmsn sgyr mltg qimo\"\n",
    "\n",
    "    # Email setup\n",
    "    message = MIMEMultipart(\"alternative\") ## alternative describe different part of email\n",
    "    message[\"Subject\"] = \"Your OTP Code\"\n",
    "    message[\"From\"] = sender_email\n",
    "    message[\"To\"] = recipient_email\n",
    "    \n",
    "    # Email content\n",
    "    text = f\"Your OTP is {otp}. Please enter this code to verify your identity.\"\n",
    "    part = MIMEText(text, \"plain\")\n",
    "    message.attach(part)\n",
    "    \n",
    "    # Sending the email\n",
    "    context = ssl.create_default_context()\n",
    "    with smtplib.SMTP_SSL(\"smtp.gmail.com\", 465, context=context) as server:\n",
    "        server.login(sender_email, sender_password)\n",
    "        server.sendmail(sender_email, recipient_email, message.as_string())\n",
    "    \n",
    "    print(f\"OTP has been sent to {recipient_email}.\")\n",
    "\n",
    "# Function to prompt the user to enter the OTP\n",
    "def get_user_input():\n",
    "    return input(\"Enter the OTP you received: \")\n",
    "\n",
    "# Function to verify the OTP\n",
    "def verify_otp(generated_otp, entered_otp):\n",
    "    return generated_otp == entered_otp\n",
    "\n",
    "# Main function to run the OTP verification system\n",
    "def otp_verification_system():\n",
    "    # Generate OTP\n",
    "    otp = generate_otp()\n",
    "    \n",
    "    # Sending OTP to the user's email\n",
    "    recipient_email = input(\"Enter your email address: \")\n",
    "    send_otp_email(recipient_email, otp)\n",
    "    \n",
    "    # Allow the user to retry OTP entry\n",
    "    attempts = 3\n",
    "    while attempts > 0:\n",
    "        user_otp = int(get_user_input())\n",
    "        if verify_otp(otp, user_otp):\n",
    "            print(\"Access Granted!\")\n",
    "            return\n",
    "        else:\n",
    "            attempts -= 1\n",
    "            print(f\"Incorrect OTP. You have {attempts} attempts left.\")\n",
    "    \n",
    "    print(\"Access Denied. You have exceeded the number of attempts.\")\n",
    "\n",
    "# Run the OTP verification system\n",
    "if __name__ == \"__main__\":\n",
    "    otp_verification_system()"
   ]
  },
  {
   "cell_type": "code",
   "execution_count": null,
   "id": "9878e1ab",
   "metadata": {},
   "outputs": [],
   "source": []
  }
 ],
 "metadata": {
  "kernelspec": {
   "display_name": "Python 3 (ipykernel)",
   "language": "python",
   "name": "python3"
  },
  "language_info": {
   "codemirror_mode": {
    "name": "ipython",
    "version": 3
   },
   "file_extension": ".py",
   "mimetype": "text/x-python",
   "name": "python",
   "nbconvert_exporter": "python",
   "pygments_lexer": "ipython3",
   "version": "3.9.13"
  }
 },
 "nbformat": 4,
 "nbformat_minor": 5
}
